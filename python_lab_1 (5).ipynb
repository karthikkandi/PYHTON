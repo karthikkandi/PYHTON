{
  "nbformat": 4,
  "nbformat_minor": 0,
  "metadata": {
    "colab": {
      "name": "python lab 1",
      "provenance": [],
      "collapsed_sections": []
    },
    "kernelspec": {
      "display_name": "Python 3",
      "name": "python3"
    },
    "language_info": {
      "name": "python"
    }
  },
  "cells": [
    {
      "cell_type": "markdown",
      "metadata": {
        "id": "g_U2z3GkfABm"
      },
      "source": [
        "# HELLO *WORLD*"
      ]
    },
    {
      "cell_type": "code",
      "metadata": {
        "colab": {
          "base_uri": "https://localhost:8080/"
        },
        "id": "eT0u42rMfnRW",
        "outputId": "27f6075d-8f5f-438c-ed77-eb4debc7673c"
      },
      "source": [
        "print(\"HELLO WORLD \")"
      ],
      "execution_count": null,
      "outputs": [
        {
          "name": "stdout",
          "output_type": "stream",
          "text": [
            "HELLO WORLD \n"
          ]
        }
      ]
    },
    {
      "cell_type": "markdown",
      "metadata": {
        "id": "UNegogctf5iU"
      },
      "source": [
        "## **DATA** **TYPES**"
      ]
    },
    {
      "cell_type": "code",
      "metadata": {
        "colab": {
          "base_uri": "https://localhost:8080/"
        },
        "id": "QaEDKPoGgGgw",
        "outputId": "15840f80-e80c-403d-d190-ed9f93934e10"
      },
      "source": [
        "a=100\n",
        "b=10.23\n",
        "c=100+3j\n",
        "print(\"the type of variable having value\",a,\"is\",type(a))\n",
        "print(\"the type of variable having value\",b,\"is\",type(b))\n",
        "print(\"the type of variable having value\",c,\"is\",type(c))\n",
        "print(\"the type of variable having value\",a+b,\"is\",type(a+b))\n",
        "print(\"the type of variable having value\",b+c,\"is\",type(b+c))\n",
        "d=int(15)\n",
        "print(d) \n",
        "print(\"the type of variable having value\",d,\"is\",type(d))\n",
        "e=float(10.1)\n",
        "print(e)\n",
        "print(\"the type of variable having value\",e,\"is\",type(e))\n",
        "f=c+3\n",
        "print(\"f=\",f)\n",
        "print(\"the type of variable f is\",type(f))\n",
        "g=complex(3)\n",
        "print(\"g=\",g)"
      ],
      "execution_count": null,
      "outputs": [
        {
          "output_type": "stream",
          "name": "stdout",
          "text": [
            "the type of variable having value 100 is <class 'int'>\n",
            "the type of variable having value 10.23 is <class 'float'>\n",
            "the type of variable having value (100+3j) is <class 'complex'>\n",
            "the type of variable having value 110.23 is <class 'float'>\n",
            "the type of variable having value (110.23+3j) is <class 'complex'>\n",
            "15\n",
            "the type of variable having value 15 is <class 'int'>\n",
            "10.1\n",
            "the type of variable having value 10.1 is <class 'float'>\n",
            "f= (103+3j)\n",
            "the type of variable f is <class 'complex'>\n",
            "g= (3+0j)\n"
          ]
        }
      ]
    },
    {
      "cell_type": "markdown",
      "metadata": {
        "id": "BMu4SFzYjGbW"
      },
      "source": [
        "# **ARITHMETIC** **OPERATORS**"
      ]
    },
    {
      "cell_type": "code",
      "metadata": {
        "colab": {
          "base_uri": "https://localhost:8080/"
        },
        "id": "nJT_Gc0hjhhO",
        "outputId": "c88d2f87-a4f3-4456-b30a-3f0632d1cebc"
      },
      "source": [
        "a=input(\"enter first number:\")\n",
        "b=input(\"enter second number:\")\n",
        "sum=float(a)+float(b)\n",
        "min=float(a)-float(b)\n",
        "mul=float(a)*float(b)\n",
        "div=float(a)/float(b)\n",
        "print(\"the sum of {0} and {1} is {2}\".format(a,b,sum))\n",
        "print(\"the subtraction of {0} and {1} is {2}\".format(a,b,min))\n",
        "print(\"the multplication of {0} and {1} is {2}\".format(a,b,mul))\n",
        "print(\"the division of {0} and {1} is {2}\".format(a,b,div))"
      ],
      "execution_count": null,
      "outputs": [
        {
          "name": "stdout",
          "output_type": "stream",
          "text": [
            "enter first number:10\n",
            "enter second number:09\n",
            "the sum of 10 and 09 is 19.0\n",
            "the subtraction of 10 and 09 is 1.0\n",
            "the multplication of 10 and 09 is 90.0\n",
            "the division of 10 and 09 is 1.1111111111111112\n"
          ]
        }
      ]
    },
    {
      "cell_type": "code",
      "metadata": {
        "colab": {
          "base_uri": "https://localhost:8080/",
          "height": 523
        },
        "id": "BODoVNazX1Lq",
        "outputId": "7ae5c05c-d692-4729-de6a-f8ae0a5956ce"
      },
      "source": [
        "import cowsay\n",
        "cowsay.daemon(\"Hi deamon\")"
      ],
      "execution_count": null,
      "outputs": [
        {
          "output_type": "error",
          "ename": "ModuleNotFoundError",
          "evalue": "ignored",
          "traceback": [
            "\u001b[0;31m---------------------------------------------------------------------------\u001b[0m",
            "\u001b[0;31mModuleNotFoundError\u001b[0m                       Traceback (most recent call last)",
            "\u001b[0;32m<ipython-input-1-43d7863530e9>\u001b[0m in \u001b[0;36m<module>\u001b[0;34m()\u001b[0m\n\u001b[0;32m----> 1\u001b[0;31m \u001b[0;32mimport\u001b[0m \u001b[0mcowsay\u001b[0m\u001b[0;34m\u001b[0m\u001b[0;34m\u001b[0m\u001b[0m\n\u001b[0m\u001b[1;32m      2\u001b[0m \u001b[0mcowsay\u001b[0m\u001b[0;34m.\u001b[0m\u001b[0mdaemon\u001b[0m\u001b[0;34m(\u001b[0m\u001b[0;34m\"Hi deamon\"\u001b[0m\u001b[0;34m)\u001b[0m\u001b[0;34m\u001b[0m\u001b[0;34m\u001b[0m\u001b[0m\n",
            "\u001b[0;31mModuleNotFoundError\u001b[0m: No module named 'cowsay'",
            "",
            "\u001b[0;31m---------------------------------------------------------------------------\u001b[0;32m\nNOTE: If your import is failing due to a missing package, you can\nmanually install dependencies using either !pip or !apt.\n\nTo view examples of installing some common dependencies, click the\n\"Open Examples\" button below.\n\u001b[0;31m---------------------------------------------------------------------------\u001b[0m\n"
          ],
          "errorDetails": {
            "actions": [
              {
                "action": "open_url",
                "actionText": "Open Examples",
                "url": "/notebooks/snippets/importing_libraries.ipynb"
              }
            ]
          }
        }
      ]
    },
    {
      "cell_type": "markdown",
      "metadata": {
        "id": "RVD1-s0aqwvU"
      },
      "source": [
        " ***MULTILINE*** **COMMANDS**"
      ]
    },
    {
      "cell_type": "code",
      "metadata": {
        "colab": {
          "base_uri": "https://localhost:8080/"
        },
        "id": "Q396lUkeq3Su",
        "outputId": "6d248090-13cd-41e3-bb0f-3b755c387b4f"
      },
      "source": [
        "name=\"karthik\"\n",
        "branch=\"AI and ML\"\n",
        "percentage=\"89.75\"\n",
        "print(\"my name is :\",name)\n",
        "print(\"my branch is:\",branch)\n",
        "print(\"my percentage is:\",percentage)"
      ],
      "execution_count": null,
      "outputs": [
        {
          "name": "stdout",
          "output_type": "stream",
          "text": [
            "my name is : karthik\n",
            "my branch is: AI and ML\n",
            "my percentage is: 89.75\n"
          ]
        }
      ]
    },
    {
      "cell_type": "markdown",
      "metadata": {
        "id": "_eCLbHXdrgE1"
      },
      "source": [
        "**MULTIPLE** **ASSIGNMENT**"
      ]
    },
    {
      "cell_type": "code",
      "metadata": {
        "colab": {
          "base_uri": "https://localhost:8080/"
        },
        "id": "LHbX0XSirnJ3",
        "outputId": "a5debac0-2927-4ef4-b032-d6fe5b08eeb9"
      },
      "source": [
        "X=Y=Z=50\n",
        "print(X)\n",
        "print(Y)\n",
        "print(Z)"
      ],
      "execution_count": null,
      "outputs": [
        {
          "name": "stdout",
          "output_type": "stream",
          "text": [
            "50\n",
            "50\n",
            "50\n"
          ]
        }
      ]
    },
    {
      "cell_type": "code",
      "metadata": {
        "id": "UVN2239Nr2tI"
      },
      "source": [
        ""
      ],
      "execution_count": null,
      "outputs": []
    },
    {
      "cell_type": "code",
      "metadata": {
        "colab": {
          "base_uri": "https://localhost:8080/"
        },
        "id": "fLuOHsZ1r257",
        "outputId": "19749c55-ecd6-43b1-cd1c-20e457647524"
      },
      "source": [
        "a,b,c=5,10,15\n",
        "print(a)\n",
        "print(b)\n",
        "print(c)"
      ],
      "execution_count": null,
      "outputs": [
        {
          "name": "stdout",
          "output_type": "stream",
          "text": [
            "5\n",
            "10\n",
            "15\n"
          ]
        }
      ]
    },
    {
      "cell_type": "markdown",
      "metadata": {
        "id": "TwSgHfhKsMsj"
      },
      "source": [
        "**LOCA**L **VARIABLES**"
      ]
    },
    {
      "cell_type": "code",
      "metadata": {
        "colab": {
          "base_uri": "https://localhost:8080/"
        },
        "id": "-oGW1yFjsP5m",
        "outputId": "d4077317-ec23-457a-c814-7cd7e8465343"
      },
      "source": [
        "def add():\n",
        "    a=20\n",
        "    b=30\n",
        "    c=a+b\n",
        "    print(\"the sum is :\",c)\n",
        "    \n",
        "add()"
      ],
      "execution_count": null,
      "outputs": [
        {
          "name": "stdout",
          "output_type": "stream",
          "text": [
            "the sum is : 50\n"
          ]
        }
      ]
    },
    {
      "cell_type": "markdown",
      "metadata": {
        "id": "yDUGwQJTrPsq"
      },
      "source": [
        "**GLOBAL VARIABLES**"
      ]
    },
    {
      "cell_type": "code",
      "metadata": {
        "colab": {
          "base_uri": "https://localhost:8080/"
        },
        "id": "GZjCCcB3rZrw",
        "outputId": "cb2fba2e-28b9-4f07-98a1-5b3624a5cb52"
      },
      "source": [
        "x=101\n",
        "def mainfunction():\n",
        "  global x\n",
        "  print(x)\n",
        "  x='welcome to python'\n",
        "  print(x)\n",
        "mainfunction()\n",
        "print(x)  "
      ],
      "execution_count": null,
      "outputs": [
        {
          "name": "stdout",
          "output_type": "stream",
          "text": [
            "101\n",
            "welcome to python\n",
            "welcome to python\n"
          ]
        }
      ]
    },
    {
      "cell_type": "markdown",
      "metadata": {
        "id": "D1K0Oq1NTUxh"
      },
      "source": [
        "# creating , concatenating and printing a string and accessing sub string from a guven string"
      ]
    },
    {
      "cell_type": "code",
      "metadata": {
        "colab": {
          "base_uri": "https://localhost:8080/"
        },
        "id": "O4GIHF9hTqD_",
        "outputId": "b6b87f5b-394a-4b15-b7e9-8a1939f2c3f4"
      },
      "source": [
        "#string creation\n",
        "s1='string in single quote'\n",
        "s2=\"string in double quote\"\n",
        "s3=\"'string in triple quote'\"\n",
        "s4='.'\n",
        "s5='Newsletter'\n",
        "#printing string\n",
        "print(s1) \n",
        "print(s2)\n",
        "print(s3)\n",
        "#string concatenation\n",
        "s6=s1+s2+s3\n",
        "print(\"concatenated string=\",s6)\n",
        "print(\"fruits are apples,orange,grape,stc\",s4*3)\n",
        "#substrring or slicing\n",
        "print(\"substring of\",s5,\"=\",s5[4:7])\n",
        "print(\"substring of\",s5,\"=\",s5[:4])\n",
        "print(\"substring of\",s5,\"=\",s5[4:])\n",
        "print(\"substring of\",s5,\"=\",s5[::2])\n",
        "print(\"substring of\",s5,\"=\",s5[-6:-1])\n",
        "print(\"substring of\",s5,\"=\",s5[-6:])\n",
        "print(\"substring of\",s5,\"=\",s5[-10:-6])\n",
        "print(\"REVERSE of\",s5,\"=\",s5[::-1])"
      ],
      "execution_count": null,
      "outputs": [
        {
          "name": "stdout",
          "output_type": "stream",
          "text": [
            "string in single quote\n",
            "string in double quote\n",
            "'string in triple quote'\n",
            "concatenated string= string in single quotestring in double quote'string in triple quote'\n",
            "fruits are apples,orange,grape,stc ...\n",
            "substring of Newsletter = let\n",
            "substring of Newsletter = News\n",
            "substring of Newsletter = letter\n",
            "substring of Newsletter = Nwlte\n",
            "substring of Newsletter = lette\n",
            "substring of Newsletter = letter\n",
            "substring of Newsletter = News\n",
            "REVERSE of Newsletter = rettelsweN\n"
          ]
        }
      ]
    },
    {
      "cell_type": "markdown",
      "metadata": {
        "id": "4KIciAbtnl8V"
      },
      "source": [
        " **PRINT THE CURRRENT DATE**"
      ]
    },
    {
      "cell_type": "code",
      "metadata": {
        "colab": {
          "base_uri": "https://localhost:8080/"
        },
        "id": "cz-6idCcn4Ww",
        "outputId": "76386173-3933-4b5d-9220-1281d1d1d70f"
      },
      "source": [
        "import datetime\n",
        "from datetime import datetime\n",
        "now=datetime.now()\n",
        "current_time=now.strftime(\"%H:%M:%S\")\n",
        "current_year=now.strftime(\"%Y\")\n",
        "current_month=now.strftime(\"%B\")\n",
        "current_day=now.strftime(\"%a\")\n",
        "current_date=now.strftime(\"%d\")\n",
        "print(\"{}{}{}{} IST {}\".format(current_day,current_month,current_date,current_time,current_year))\n"
      ],
      "execution_count": null,
      "outputs": [
        {
          "name": "stdout",
          "output_type": "stream",
          "text": [
            "WedSeptember2908:22:26 IST 2021\n"
          ]
        }
      ]
    },
    {
      "cell_type": "code",
      "metadata": {
        "id": "BPeZCIIPqRzV"
      },
      "source": [
        ""
      ],
      "execution_count": null,
      "outputs": []
    },
    {
      "cell_type": "markdown",
      "metadata": {
        "id": "v77s9cdCsmS8"
      },
      "source": [
        "** Strings programmes**"
      ]
    },
    {
      "cell_type": "code",
      "metadata": {
        "colab": {
          "base_uri": "https://localhost:8080/"
        },
        "id": "06V5NFcpnusW",
        "outputId": "a9a0bb56-d5e7-4886-9b98-82a1c39896c4"
      },
      "source": [
        "str=\"string using double quotes\"\n",
        "print(str)\n",
        "s=\"a multiline story\"\n",
        "print(s)"
      ],
      "execution_count": null,
      "outputs": [
        {
          "name": "stdout",
          "output_type": "stream",
          "text": [
            "string using double quotes\n",
            "a multiline story\n"
          ]
        }
      ]
    },
    {
      "cell_type": "code",
      "metadata": {
        "colab": {
          "base_uri": "https://localhost:8080/"
        },
        "id": "mJu5FL6_tpCK",
        "outputId": "0d35a171-07d1-492e-f0c7-7a671289a456"
      },
      "source": [
        "str1='hello nihal'\n",
        "str2='how are you'\n",
        "print(str1[0:2])\n",
        "print(str1[4])\n",
        "print(str1*2)\n",
        "print(str1+str2)"
      ],
      "execution_count": null,
      "outputs": [
        {
          "name": "stdout",
          "output_type": "stream",
          "text": [
            "he\n",
            "o\n",
            "hello nihalhello nihal\n",
            "hello nihalhow are you\n"
          ]
        }
      ]
    },
    {
      "cell_type": "code",
      "metadata": {
        "colab": {
          "base_uri": "https://localhost:8080/"
        },
        "id": "vJsA4gWmuGJx",
        "outputId": "0b519abc-5e0d-49f0-b082-8d124c32f4b6"
      },
      "source": [
        "list=[1,\"hi\",\"python\",2]\n",
        "print(type(list))\n",
        "print(list[3:])\n",
        "print(list[0:2])\n",
        "print(list+list)\n",
        "print(list*3)"
      ],
      "execution_count": null,
      "outputs": [
        {
          "name": "stdout",
          "output_type": "stream",
          "text": [
            "<class 'list'>\n",
            "[2]\n",
            "[1, 'hi']\n",
            "[1, 'hi', 'python', 2, 1, 'hi', 'python', 2]\n",
            "[1, 'hi', 'python', 2, 1, 'hi', 'python', 2, 1, 'hi', 'python', 2]\n"
          ]
        }
      ]
    },
    {
      "cell_type": "code",
      "metadata": {
        "colab": {
          "base_uri": "https://localhost:8080/"
        },
        "id": "M9u42dSjur1D",
        "outputId": "0797829e-b719-410b-9189-344f7afa92dc"
      },
      "source": [
        "tup=(\"hi\",\"python\",2)\n",
        "print(type(tup))\n",
        "print(tup)\n",
        "print(tup[1:])\n",
        "print(tup[0:1])\n",
        "print(tup+tup)\n",
        "print(tup*3)"
      ],
      "execution_count": null,
      "outputs": [
        {
          "name": "stdout",
          "output_type": "stream",
          "text": [
            "<class 'tuple'>\n",
            "('hi', 'python', 2)\n",
            "('python', 2)\n",
            "('hi',)\n",
            "('hi', 'python', 2, 'hi', 'python', 2)\n",
            "('hi', 'python', 2, 'hi', 'python', 2, 'hi', 'python', 2)\n"
          ]
        }
      ]
    },
    {
      "cell_type": "code",
      "metadata": {
        "colab": {
          "base_uri": "https://localhost:8080/",
          "height": 252
        },
        "id": "k63nvPGgvQkl",
        "outputId": "22c2a43e-5685-4234-a95c-db25ddc43f5a"
      },
      "source": [
        "d={1:'jimmy',2:'alex',3:'john',4:'mike'}\n",
        "print(d)\n",
        "print(\"1ST name is\",+d[1])\n",
        "print(\"4TH name is\",+d[4])\n",
        "print(d.keys())\n",
        "print(d.values())\n"
      ],
      "execution_count": null,
      "outputs": [
        {
          "name": "stdout",
          "output_type": "stream",
          "text": [
            "{1: 'jimmy', 2: 'alex', 3: 'john', 4: 'mike'}\n"
          ]
        },
        {
          "ename": "TypeError",
          "evalue": "ignored",
          "output_type": "error",
          "traceback": [
            "\u001b[0;31m---------------------------------------------------------------------------\u001b[0m",
            "\u001b[0;31mTypeError\u001b[0m                                 Traceback (most recent call last)",
            "\u001b[0;32m<ipython-input-6-705a7a7f33e8>\u001b[0m in \u001b[0;36m<module>\u001b[0;34m()\u001b[0m\n\u001b[1;32m      1\u001b[0m \u001b[0md\u001b[0m\u001b[0;34m=\u001b[0m\u001b[0;34m{\u001b[0m\u001b[0;36m1\u001b[0m\u001b[0;34m:\u001b[0m\u001b[0;34m'jimmy'\u001b[0m\u001b[0;34m,\u001b[0m\u001b[0;36m2\u001b[0m\u001b[0;34m:\u001b[0m\u001b[0;34m'alex'\u001b[0m\u001b[0;34m,\u001b[0m\u001b[0;36m3\u001b[0m\u001b[0;34m:\u001b[0m\u001b[0;34m'john'\u001b[0m\u001b[0;34m,\u001b[0m\u001b[0;36m4\u001b[0m\u001b[0;34m:\u001b[0m\u001b[0;34m'mike'\u001b[0m\u001b[0;34m}\u001b[0m\u001b[0;34m\u001b[0m\u001b[0;34m\u001b[0m\u001b[0m\n\u001b[1;32m      2\u001b[0m \u001b[0mprint\u001b[0m\u001b[0;34m(\u001b[0m\u001b[0md\u001b[0m\u001b[0;34m)\u001b[0m\u001b[0;34m\u001b[0m\u001b[0;34m\u001b[0m\u001b[0m\n\u001b[0;32m----> 3\u001b[0;31m \u001b[0mprint\u001b[0m\u001b[0;34m(\u001b[0m\u001b[0;34m\"1ST name is\"\u001b[0m\u001b[0;34m,\u001b[0m\u001b[0;34m+\u001b[0m\u001b[0md\u001b[0m\u001b[0;34m[\u001b[0m\u001b[0;36m1\u001b[0m\u001b[0;34m]\u001b[0m\u001b[0;34m)\u001b[0m\u001b[0;34m\u001b[0m\u001b[0;34m\u001b[0m\u001b[0m\n\u001b[0m\u001b[1;32m      4\u001b[0m \u001b[0mprint\u001b[0m\u001b[0;34m(\u001b[0m\u001b[0;34m\"4TH name is\"\u001b[0m\u001b[0;34m,\u001b[0m\u001b[0;34m+\u001b[0m\u001b[0md\u001b[0m\u001b[0;34m[\u001b[0m\u001b[0;36m4\u001b[0m\u001b[0;34m]\u001b[0m\u001b[0;34m)\u001b[0m\u001b[0;34m\u001b[0m\u001b[0;34m\u001b[0m\u001b[0m\n\u001b[1;32m      5\u001b[0m \u001b[0mprint\u001b[0m\u001b[0;34m(\u001b[0m\u001b[0md\u001b[0m\u001b[0;34m.\u001b[0m\u001b[0mkeys\u001b[0m\u001b[0;34m(\u001b[0m\u001b[0;34m)\u001b[0m\u001b[0;34m)\u001b[0m\u001b[0;34m\u001b[0m\u001b[0;34m\u001b[0m\u001b[0m\n",
            "\u001b[0;31mTypeError\u001b[0m: bad operand type for unary +: 'str'"
          ]
        }
      ]
    },
    {
      "cell_type": "code",
      "metadata": {
        "colab": {
          "base_uri": "https://localhost:8080/"
        },
        "id": "zBpDX3eHxPXp",
        "outputId": "2d549f39-a704-44a6-a59b-6b0200e3aa0b"
      },
      "source": [
        "print(type(True))\n",
        "print(type(False))"
      ],
      "execution_count": null,
      "outputs": [
        {
          "name": "stdout",
          "output_type": "stream",
          "text": [
            "<class 'bool'>\n",
            "<class 'bool'>\n"
          ]
        }
      ]
    },
    {
      "cell_type": "code",
      "metadata": {
        "colab": {
          "base_uri": "https://localhost:8080/"
        },
        "id": "ONdy9g8XyZ8l",
        "outputId": "5b5f53fe-48e5-4381-a296-23d4584c03c9"
      },
      "source": [
        "s1=set()\n",
        "s2={'James',2,3,'python'}\n",
        "print(s2)\n",
        "s2.add(10)\n",
        "s2.remove(2)"
      ],
      "execution_count": null,
      "outputs": [
        {
          "name": "stdout",
          "output_type": "stream",
          "text": [
            "{2, 3, 'James', 'python'}\n"
          ]
        }
      ]
    },
    {
      "cell_type": "code",
      "metadata": {
        "colab": {
          "base_uri": "https://localhost:8080/"
        },
        "id": "orJVR4fSyt-j",
        "outputId": "c00c6aac-9b59-417d-af17-845d9a1e2503"
      },
      "source": [
        "a=20\n",
        "b=10\n",
        "a+b\n",
        "a-b\n",
        "a/b\n",
        "a%b\n",
        "a**b\n",
        "a//b"
      ],
      "execution_count": null,
      "outputs": [
        {
          "data": {
            "text/plain": [
              "2"
            ]
          },
          "execution_count": 27,
          "metadata": {},
          "output_type": "execute_result"
        }
      ]
    },
    {
      "cell_type": "code",
      "metadata": {
        "colab": {
          "base_uri": "https://localhost:8080/"
        },
        "id": "4W2PsVebzD77",
        "outputId": "dc3e04bc-99b8-4f83-e401-5fbb61f628a9"
      },
      "source": [
        "x=24\n",
        "list1=[10,20,30,40,50]\n",
        "if(x in list1):\n",
        "  print(\"x is in given list\")\n",
        "else:\n",
        "  print(\"x is not in given list\")  "
      ],
      "execution_count": null,
      "outputs": [
        {
          "name": "stdout",
          "output_type": "stream",
          "text": [
            "x is not in given list\n"
          ]
        }
      ]
    },
    {
      "cell_type": "code",
      "metadata": {
        "colab": {
          "base_uri": "https://localhost:8080/"
        },
        "id": "QcMGa79Ozmgp",
        "outputId": "2efe7fc9-80e0-417d-cacf-80623ed27e4d"
      },
      "source": [
        "x=5\n",
        "if(type(x) is int):\n",
        "  print(\"true\")\n",
        "else:\n",
        "  print(\"false\")  "
      ],
      "execution_count": null,
      "outputs": [
        {
          "name": "stdout",
          "output_type": "stream",
          "text": [
            "true\n"
          ]
        }
      ]
    },
    {
      "cell_type": "code",
      "metadata": {
        "colab": {
          "base_uri": "https://localhost:8080/"
        },
        "id": "q6pklUq9zyUl",
        "outputId": "9b5b35e6-16b5-478b-b487-b76ef3ecc509"
      },
      "source": [
        "x=1.0\n",
        "if(type(x) is not int):\n",
        "  print(\"true\")\n",
        "else:\n",
        "  print(\"false\")  "
      ],
      "execution_count": null,
      "outputs": [
        {
          "name": "stdout",
          "output_type": "stream",
          "text": [
            "true\n"
          ]
        }
      ]
    },
    {
      "cell_type": "code",
      "metadata": {
        "colab": {
          "base_uri": "https://localhost:8080/"
        },
        "id": "QW2r2WWO0EdN",
        "outputId": "639da21d-c16c-4219-a223-69a5138b8650"
      },
      "source": [
        "num=int(input(\"enter your number\"))\n",
        "add=num+1\n",
        "add"
      ],
      "execution_count": null,
      "outputs": [
        {
          "name": "stdout",
          "output_type": "stream",
          "text": [
            "enter your number25\n"
          ]
        },
        {
          "data": {
            "text/plain": [
              "26"
            ]
          },
          "execution_count": 34,
          "metadata": {},
          "output_type": "execute_result"
        }
      ]
    },
    {
      "cell_type": "markdown",
      "metadata": {
        "id": "DR2XZofHm_v2"
      },
      "source": [
        "**AIM**:TO write a program to create,append,and remove lists in python"
      ]
    },
    {
      "cell_type": "code",
      "metadata": {
        "colab": {
          "background_save": true,
          "base_uri": "https://localhost:8080/"
        },
        "id": "cPtxLCgjnKYE",
        "outputId": "ddbe1b53-8fad-484e-81fe-cbbbd713b99a"
      },
      "source": [
        "lst = []\n",
        "choice=1\n",
        "while choice!=0:\n",
        "    print(\"0. Exit\")\n",
        "    print(\"1. Add\")\n",
        "    print(\"2. Delete\")\n",
        "    print(\"3. Display\")\n",
        "    choice=int(input(\"Enter choice: \"))\n",
        "    if choice==1:\n",
        "        n=int(input(\"Enter number to append: \"))\n",
        "        lst.append(n)\n",
        "        print(\"List: \",lst)\n",
        "    elif choice==2:\n",
        "        if len(lst)==0:\n",
        "           print(\"List is empty, no item to remove:\")\n",
        "           print()\n",
        "           continue\n",
        "        n=int(input(\"Enter number to remove: \"))\n",
        "        if n not in lst:\n",
        "            print(\"The item to be removed not in list:\")\n",
        "            print()\n",
        "            continue\n",
        "        lst.remove(n)\n",
        "        print(\"List: \",lst)\n",
        "    elif choice==3:\n",
        "        print(\"List: \",lst)\n",
        "    elif choice==0: \n",
        "        print(\"Exiting!\")\n",
        "    else:\n",
        "        print(\"Invalid choice!!\") \n",
        "        print()"
      ],
      "execution_count": null,
      "outputs": [
        {
          "name": "stdout",
          "output_type": "stream",
          "text": [
            "0. Exit\n",
            "1. Add\n",
            "2. Delete\n",
            "3. Display\n",
            "List:  [25]\n",
            "0. Exit\n",
            "1. Add\n",
            "2. Delete\n",
            "3. Display\n",
            "List:  [25, 12]\n",
            "0. Exit\n",
            "1. Add\n",
            "2. Delete\n",
            "3. Display\n",
            "List:  [25, 12, 34]\n",
            "0. Exit\n",
            "1. Add\n",
            "2. Delete\n",
            "3. Display\n",
            "List:  [25, 12, 34, 15]\n",
            "0. Exit\n",
            "1. Add\n",
            "2. Delete\n",
            "3. Display\n",
            "Invalid choice!!\n",
            "\n",
            "0. Exit\n",
            "1. Add\n",
            "2. Delete\n",
            "3. Display\n",
            "List:  [25, 12, 34, 15, 10]\n",
            "0. Exit\n",
            "1. Add\n",
            "2. Delete\n",
            "3. Display\n",
            "List:  [12, 34, 15, 10]\n",
            "0. Exit\n",
            "1. Add\n",
            "2. Delete\n",
            "3. Display\n",
            "List:  [12, 34, 15, 10]\n",
            "0. Exit\n",
            "1. Add\n",
            "2. Delete\n",
            "3. Display\n"
          ]
        }
      ]
    },
    {
      "cell_type": "code",
      "metadata": {
        "id": "fVSx4_iUujQU",
        "colab": {
          "base_uri": "https://localhost:8080/"
        },
        "outputId": "67d37da1-9811-49c1-b318-90eb37348299"
      },
      "source": [
        "tup1 = ('jan','feb','mar','apr','may','june','july','august','september','october','november','december')\n",
        "tup2 = (1, 2, 3, 4, 5)\n",
        "tup3=(1, \"Hello\", (11, 22, 33))\n",
        "tup4=('India',[10,20,30],'USA')\n",
        "#print the tuple\n",
        "print(tup1)\n",
        "\n",
        "#iterating in tuple \n",
        "for mon in tup1:\n",
        "    print(mon)\n",
        "\n",
        "#accessing the tuple element\n",
        "print(\"The element in the 5th position : \",tup1[5])\n",
        "print(tup1[-6])\n",
        "print(\"Tuple before addition\")\n",
        "print(tup2)\n",
        "tup2 = tup2 + (7,) \n",
        "print(\"Tuple after addition\")\n",
        "print(tup2)\n",
        "tup2=tup2+('apple','orange','banana')\n",
        "print(tup2)\n",
        "\n",
        "#accessing nested tuple element \n",
        "print(tup3[2][1])\n",
        "\n",
        "#tuple element is mutable, element change is possible \n",
        "print(\"Tuple before change\")\n",
        "print(tup4)\n",
        "tup4[1][2]=40\n",
        "print(\"Tuple after change\")\n",
        "print(tup4)\n",
        "\n",
        "#Slicing operation in tuples\n",
        "print(tup1[2:5])\n",
        "print(tup1[4:])\n",
        "print(tup1[:4])\n",
        "\n",
        "#finding position of the element\n",
        "print(\"The position of 'october' in the tuple: \",tup1.index('october'))"
      ],
      "execution_count": null,
      "outputs": [
        {
          "output_type": "stream",
          "name": "stdout",
          "text": [
            "('jan', 'feb', 'mar', 'apr', 'may', 'june', 'july', 'august', 'september', 'october', 'november', 'december')\n",
            "jan\n",
            "feb\n",
            "mar\n",
            "apr\n",
            "may\n",
            "june\n",
            "july\n",
            "august\n",
            "september\n",
            "october\n",
            "november\n",
            "december\n",
            "The element in the 5th position :  june\n",
            "july\n",
            "Tuple before addition\n",
            "(1, 2, 3, 4, 5)\n",
            "Tuple after addition\n",
            "(1, 2, 3, 4, 5, 7)\n",
            "(1, 2, 3, 4, 5, 7, 'apple', 'orange', 'banana')\n",
            "22\n",
            "Tuple before change\n",
            "('India', [10, 20, 30], 'USA')\n",
            "Tuple after change\n",
            "('India', [10, 20, 40], 'USA')\n",
            "('mar', 'apr', 'may')\n",
            "('may', 'june', 'july', 'august', 'september', 'october', 'november', 'december')\n",
            "('jan', 'feb', 'mar', 'apr')\n",
            "The position of 'october' in the tuple:  9\n"
          ]
        }
      ]
    },
    {
      "cell_type": "code",
      "metadata": {
        "id": "yxMQWSDCutWi",
        "colab": {
          "base_uri": "https://localhost:8080/"
        },
        "outputId": "5b288ba5-6eeb-467b-b874-37375e3591d2"
      },
      "source": [
        "mon={1:'jan',2:'feb',3:'mar',4:'apr',5:'may',6:'june'}\n",
        "stud={'kiran':23,'kumar':20,'dinesh':19,'rakesh':21}\n",
        "\n",
        "print(\"mon Dictionary is \",mon)\n",
        "print(\"The element in the key position 3 is :\",mon[3])\n",
        "print(\"The mon dictionary values are: \",mon.values())\n",
        "print(\"The mon dictionary keys are: \",mon.keys())\n",
        "\n",
        "#adding an item in the dictionary \n",
        "print(\"Before addition\")\n",
        "for item in mon.values():\n",
        "    print(item,end=' ')\n",
        "\n",
        "mon[7]='july' \n",
        "print()\n",
        "print(\"After addition\")\n",
        "for item in mon.values():\n",
        "    print(item,end=' ')\n",
        "    print()\n",
        "print(\"Before deletion\")\n",
        "for item in stud.values():\n",
        "    print(item,end=' ')\n",
        "    print()\n",
        "    \n",
        "del stud['kumar']\n",
        "\n",
        "print(\"After deletion\")\n",
        "for item in stud.values():\n",
        "    print(item,end=' ')\n",
        "    print()\n",
        "\n",
        "print(\"Before change\")\n",
        "print(\"stud Dictionary is \",stud)\n",
        "stud['dinesh']=55\n",
        "print(\"After change\")\n",
        "print(\"stud Dictionary is \",stud)\n",
        "\n",
        "print(\"Key value pair of dictionary\")\n",
        "print(stud.items())"
      ],
      "execution_count": null,
      "outputs": [
        {
          "output_type": "stream",
          "name": "stdout",
          "text": [
            "mon Dictionary is  {1: 'jan', 2: 'feb', 3: 'mar', 4: 'apr', 5: 'may', 6: 'june'}\n",
            "The element in the key position 3 is : mar\n",
            "The mon dictionary values are:  dict_values(['jan', 'feb', 'mar', 'apr', 'may', 'june'])\n",
            "The mon dictionary keys are:  dict_keys([1, 2, 3, 4, 5, 6])\n",
            "Before addition\n",
            "jan feb mar apr may june \n",
            "After addition\n",
            "jan \n",
            "feb \n",
            "mar \n",
            "apr \n",
            "may \n",
            "june \n",
            "july \n",
            "Before deletion\n",
            "23 \n",
            "20 \n",
            "19 \n",
            "21 \n",
            "After deletion\n",
            "23 \n",
            "19 \n",
            "21 \n",
            "Before change\n",
            "stud Dictionary is  {'kiran': 23, 'dinesh': 19, 'rakesh': 21}\n",
            "After change\n",
            "stud Dictionary is  {'kiran': 23, 'dinesh': 55, 'rakesh': 21}\n",
            "Key value pair of dictionary\n",
            "dict_items([('kiran', 23), ('dinesh', 55), ('rakesh', 21)])\n"
          ]
        }
      ]
    },
    {
      "cell_type": "code",
      "metadata": {
        "id": "SbNkrSw5vA8T",
        "colab": {
          "base_uri": "https://localhost:8080/"
        },
        "outputId": "6d0dde56-8e62-429c-abb7-eda5072ac37d"
      },
      "source": [
        "num1 = float(input(\"Enter number 1: \")) \n",
        "num2 = float(input(\"Enter number 2: \")) \n",
        "num3 = float(input(\"Enter number 3: \"))\n",
        "big=num1\n",
        "if (big<num2):\n",
        "    big=num2\n",
        "if (big<num3):\n",
        "    big=num3\n",
        "print(\"The Biggest number among the three is : \",big)"
      ],
      "execution_count": null,
      "outputs": [
        {
          "output_type": "stream",
          "name": "stdout",
          "text": [
            "Enter number 1: 1\n",
            "Enter number 2: 2\n",
            "Enter number 3: 3\n",
            "The Biggest number among the three is :  3.0\n"
          ]
        }
      ]
    },
    {
      "cell_type": "markdown",
      "metadata": {
        "id": "CvpT5vxTsWH9"
      },
      "source": [
        "# EXPERIMENT 9:CHANGE OF TEMPARATURE SCALES "
      ]
    },
    {
      "cell_type": "code",
      "metadata": {
        "colab": {
          "base_uri": "https://localhost:8080/"
        },
        "id": "n-OtV0CHs-yL",
        "outputId": "65fd7820-1245-43a0-bb00-0ca13e1b8f8e"
      },
      "source": [
        "# Convertion from celsius to Farenheit\n",
        "\n",
        "celsius=float(input(\"Enter the temperature in celcius:\"))\n",
        "f=(celsius*1.8)+32\n",
        "print(\"Temperature in farenheit is:\", round(f,1))\n",
        "\n",
        "# Convertion from Fahrenheit to Celsius\n",
        "\n",
        "fahrenheit = float(input(\"Enter Temperature in Fahrenheit: \")) \n",
        "c = (fahrenheit-32)/1.8\n",
        "print(\"Temperature in Celsius is =\", round(c,1))"
      ],
      "execution_count": 1,
      "outputs": [
        {
          "output_type": "stream",
          "name": "stdout",
          "text": [
            "Enter the temperature in celcius:40\n",
            "Temperature in farenheit is: 104.0\n",
            "Enter Temperature in Fahrenheit: 104\n",
            "Temperature in Celsius is = 40.0\n"
          ]
        }
      ]
    },
    {
      "cell_type": "markdown",
      "metadata": {
        "id": "8tUFkhiotHNk"
      },
      "source": [
        "#   EXPMT -10\n",
        "\n",
        "# **PRINTING PATTERNS**\n"
      ]
    },
    {
      "cell_type": "code",
      "metadata": {
        "colab": {
          "base_uri": "https://localhost:8080/"
        },
        "id": "CdlRj1MctFKY",
        "outputId": "65c99f68-2082-498d-c951-c5d93725c846"
      },
      "source": [
        "# This is the example of print simple pyramid pattern  \n",
        "n = int(input(\"Enter the number of rows\"))  \n",
        "# outer loop to handle number of rows  \n",
        "for i in range(0, n):  \n",
        "    # inner loop to handle number of columns  \n",
        "    # values is changing according to outer loop  \n",
        "        for j in range(0, i + 1):  \n",
        "            # printing stars  \n",
        "            print(\"* \", end=\"\")       \n",
        "\n",
        "            # ending line after each row  \n",
        "        print()\n",
        "for i in range(n, 1, -1):\n",
        "    for j in range(1,i):\n",
        "        print(\"* \",end=\"\")\n",
        "    print()"
      ],
      "execution_count": 2,
      "outputs": [
        {
          "output_type": "stream",
          "name": "stdout",
          "text": [
            "Enter the number of rows5\n",
            "* \n",
            "* * \n",
            "* * * \n",
            "* * * * \n",
            "* * * * * \n",
            "* * * * \n",
            "* * * \n",
            "* * \n",
            "* \n"
          ]
        }
      ]
    },
    {
      "cell_type": "markdown",
      "metadata": {
        "id": "YFu6pKIct3aA"
      },
      "source": [
        "#PRINTING PRIME NUMBERS LESS THAN 20  (EXPMT-11)\n"
      ]
    },
    {
      "cell_type": "code",
      "metadata": {
        "colab": {
          "base_uri": "https://localhost:8080/"
        },
        "id": "tWlsIfRBuJNW",
        "outputId": "391562b2-83fa-4872-86ec-a067826963d0"
      },
      "source": [
        "start_val = 1\n",
        "n = int(input(\"Enter the n number:\"))\n",
        "for num in range(start_val, n+1):\n",
        "    if(num>1):\n",
        "        for i in range(2,num):\n",
        "            if(num%i)==0:\n",
        "                break\n",
        "        else:\n",
        "            print(num)"
      ],
      "execution_count": 3,
      "outputs": [
        {
          "output_type": "stream",
          "name": "stdout",
          "text": [
            "Enter the n number:20\n",
            "2\n",
            "3\n",
            "5\n",
            "7\n",
            "11\n",
            "13\n",
            "17\n",
            "19\n"
          ]
        }
      ]
    },
    {
      "cell_type": "markdown",
      "metadata": {
        "id": "7iCAVZ6AuNoJ"
      },
      "source": [
        "# EXPMT12:  RECURSION "
      ]
    },
    {
      "cell_type": "code",
      "metadata": {
        "colab": {
          "base_uri": "https://localhost:8080/"
        },
        "id": "T9oVzoTDubl7",
        "outputId": "b24bfb47-225f-450f-c2f1-467153cab5b7"
      },
      "source": [
        "def factorial(n): \n",
        "    if n == 1:\n",
        "       return n\n",
        "    else:\n",
        "       return n* factorial(n-1)\n",
        "\n",
        "# take input from the user\n",
        "num = int(input(\"Enter a number: \"))\n",
        "\n",
        "# check if the number is negative\n",
        "if num < 0:\n",
        "    print(\"Sorry, factorial does not exist for negative numbers\")\n",
        "elif num == 0:\n",
        "    print(\"The factorial of 0 is 1\")\n",
        "else:\n",
        "    print(\"The factorial of\",num,\"is\", factorial(num))"
      ],
      "execution_count": 4,
      "outputs": [
        {
          "output_type": "stream",
          "name": "stdout",
          "text": [
            "Enter a number: 5\n",
            "The factorial of 5 is 120\n"
          ]
        }
      ]
    },
    {
      "cell_type": "markdown",
      "metadata": {
        "id": "hv4rCLtSumSN"
      },
      "source": [
        "# EXPMNT 13:  RIGHT ANGLED TRIANGLE"
      ]
    },
    {
      "cell_type": "code",
      "metadata": {
        "colab": {
          "base_uri": "https://localhost:8080/"
        },
        "id": "sV7BpG-auw1r",
        "outputId": "d28922a5-394b-482f-a9aa-a1cfb8f9de33"
      },
      "source": [
        "s1=int(input(\"Side 1 of the triangle \")) \n",
        "s2=int(input(\"Side 2 of the triangle \"))\n",
        "s3=int(input(\"Side 3 of the triangle \"))\n",
        "big = max(s1,s2,s3)\n",
        "if(big==s1): \n",
        "    if(s1**2 == (s2**2 + s3**2)):\n",
        "        print(\"The triangle sides given is a right angled triangle\", s1**2, (s2**2+s3**2))\n",
        "    else:\n",
        "        print(\"The triangle sides given is not right angled triangle\",s1**2, (s2**2+s3**2))\n",
        "elif(big==s2):\n",
        "      if(s2**2==(s1**2+s3**2)):\n",
        "          print(\"The triangle sides given is a right angled triangle\",s2**2,(s1**2+s3**2))\n",
        "      else:\n",
        "        print(\"The triangle sides given is not right angled triangle\", s2**2,(s1**2+s3**2))\n",
        "elif(big==s3):\n",
        "      if(s3**2==(s1**2+s2**2)):\n",
        "        print(\"The triangle sides given is a right angled triangle\",s3**2,(s1**2+s2**2))\n",
        "      else:\n",
        "        print(\"The triangle sides given is not right angled triangle\", s3**2, (s1**2+s2**2))"
      ],
      "execution_count": 5,
      "outputs": [
        {
          "output_type": "stream",
          "name": "stdout",
          "text": [
            "Side 1 of the triangle 5\n",
            "Side 2 of the triangle 4\n",
            "Side 3 of the triangle 3\n",
            "The triangle sides given is a right angled triangle 25 25\n"
          ]
        }
      ]
    }
  ]
}