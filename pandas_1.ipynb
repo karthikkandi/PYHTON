{
  "nbformat": 4,
  "nbformat_minor": 0,
  "metadata": {
    "kernelspec": {
      "display_name": "Python 3",
      "language": "python",
      "name": "python3"
    },
    "language_info": {
      "codemirror_mode": {
        "name": "ipython",
        "version": 3
      },
      "file_extension": ".py",
      "mimetype": "text/x-python",
      "name": "python",
      "nbconvert_exporter": "python",
      "pygments_lexer": "ipython3",
      "version": "3.6.7"
    },
    "colab": {
      "name": "pandas 1 ",
      "provenance": [],
      "collapsed_sections": [
        "_hyjs757vj3E",
        "nvburtggvj3H",
        "uXrMxdTJvj3K",
        "ru5MkXndvj3R",
        "viZVp6MDvj3T",
        "RyL2_ea8vj3V",
        "_caQRlx6vj3Y",
        "e3RE1JfVvj3n",
        "rbmVsSD6vj3p",
        "FS-0zjoQvj3r",
        "KB6s_vhMvj3s"
      ],
      "include_colab_link": true
    }
  },
  "cells": [
    {
      "cell_type": "markdown",
      "metadata": {
        "id": "view-in-github",
        "colab_type": "text"
      },
      "source": [
        "<a href=\"https://colab.research.google.com/github/karthikkandi/PYHTON/blob/main/pandas_1.ipynb\" target=\"_parent\"><img src=\"https://colab.research.google.com/assets/colab-badge.svg\" alt=\"Open In Colab\"/></a>"
      ]
    },
    {
      "cell_type": "code",
      "metadata": {
        "id": "67i7RAxovj0j",
        "colab": {
          "base_uri": "https://localhost:8080/",
          "height": 348
        },
        "outputId": "39b5e9ef-6aa4-4a16-ffea-b8da61670b05"
      },
      "source": [
        "import pandas as pd\n",
        "nba=pd.read_csv('nba.csv')       #its gonna read the nba file\n",
        "#nba.head()               #it printts the frst five entries\n",
        "nba.tail(10)               #prints the final ten entries."
      ],
      "execution_count": null,
      "outputs": [
        {
          "output_type": "execute_result",
          "data": {
            "text/html": [
              "<div>\n",
              "<style scoped>\n",
              "    .dataframe tbody tr th:only-of-type {\n",
              "        vertical-align: middle;\n",
              "    }\n",
              "\n",
              "    .dataframe tbody tr th {\n",
              "        vertical-align: top;\n",
              "    }\n",
              "\n",
              "    .dataframe thead th {\n",
              "        text-align: right;\n",
              "    }\n",
              "</style>\n",
              "<table border=\"1\" class=\"dataframe\">\n",
              "  <thead>\n",
              "    <tr style=\"text-align: right;\">\n",
              "      <th></th>\n",
              "      <th>Name</th>\n",
              "      <th>Team</th>\n",
              "      <th>Number</th>\n",
              "      <th>Position</th>\n",
              "      <th>Age</th>\n",
              "      <th>Height</th>\n",
              "      <th>Weight</th>\n",
              "      <th>College</th>\n",
              "      <th>Salary</th>\n",
              "    </tr>\n",
              "  </thead>\n",
              "  <tbody>\n",
              "    <tr>\n",
              "      <th>448</th>\n",
              "      <td>Gordon Hayward</td>\n",
              "      <td>Utah Jazz</td>\n",
              "      <td>20.0</td>\n",
              "      <td>SF</td>\n",
              "      <td>26.0</td>\n",
              "      <td>6-8</td>\n",
              "      <td>226.0</td>\n",
              "      <td>Butler</td>\n",
              "      <td>15409570.0</td>\n",
              "    </tr>\n",
              "    <tr>\n",
              "      <th>449</th>\n",
              "      <td>Rodney Hood</td>\n",
              "      <td>Utah Jazz</td>\n",
              "      <td>5.0</td>\n",
              "      <td>SG</td>\n",
              "      <td>23.0</td>\n",
              "      <td>6-8</td>\n",
              "      <td>206.0</td>\n",
              "      <td>Duke</td>\n",
              "      <td>1348440.0</td>\n",
              "    </tr>\n",
              "    <tr>\n",
              "      <th>450</th>\n",
              "      <td>Joe Ingles</td>\n",
              "      <td>Utah Jazz</td>\n",
              "      <td>2.0</td>\n",
              "      <td>SF</td>\n",
              "      <td>28.0</td>\n",
              "      <td>6-8</td>\n",
              "      <td>226.0</td>\n",
              "      <td>NaN</td>\n",
              "      <td>2050000.0</td>\n",
              "    </tr>\n",
              "    <tr>\n",
              "      <th>451</th>\n",
              "      <td>Chris Johnson</td>\n",
              "      <td>Utah Jazz</td>\n",
              "      <td>23.0</td>\n",
              "      <td>SF</td>\n",
              "      <td>26.0</td>\n",
              "      <td>6-6</td>\n",
              "      <td>206.0</td>\n",
              "      <td>Dayton</td>\n",
              "      <td>981348.0</td>\n",
              "    </tr>\n",
              "    <tr>\n",
              "      <th>452</th>\n",
              "      <td>Trey Lyles</td>\n",
              "      <td>Utah Jazz</td>\n",
              "      <td>41.0</td>\n",
              "      <td>PF</td>\n",
              "      <td>20.0</td>\n",
              "      <td>6-10</td>\n",
              "      <td>234.0</td>\n",
              "      <td>Kentucky</td>\n",
              "      <td>2239800.0</td>\n",
              "    </tr>\n",
              "    <tr>\n",
              "      <th>453</th>\n",
              "      <td>Shelvin Mack</td>\n",
              "      <td>Utah Jazz</td>\n",
              "      <td>8.0</td>\n",
              "      <td>PG</td>\n",
              "      <td>26.0</td>\n",
              "      <td>6-3</td>\n",
              "      <td>203.0</td>\n",
              "      <td>Butler</td>\n",
              "      <td>2433333.0</td>\n",
              "    </tr>\n",
              "    <tr>\n",
              "      <th>454</th>\n",
              "      <td>Raul Neto</td>\n",
              "      <td>Utah Jazz</td>\n",
              "      <td>25.0</td>\n",
              "      <td>PG</td>\n",
              "      <td>24.0</td>\n",
              "      <td>6-1</td>\n",
              "      <td>179.0</td>\n",
              "      <td>NaN</td>\n",
              "      <td>900000.0</td>\n",
              "    </tr>\n",
              "    <tr>\n",
              "      <th>455</th>\n",
              "      <td>Tibor Pleiss</td>\n",
              "      <td>Utah Jazz</td>\n",
              "      <td>21.0</td>\n",
              "      <td>C</td>\n",
              "      <td>26.0</td>\n",
              "      <td>7-3</td>\n",
              "      <td>256.0</td>\n",
              "      <td>NaN</td>\n",
              "      <td>2900000.0</td>\n",
              "    </tr>\n",
              "    <tr>\n",
              "      <th>456</th>\n",
              "      <td>Jeff Withey</td>\n",
              "      <td>Utah Jazz</td>\n",
              "      <td>24.0</td>\n",
              "      <td>C</td>\n",
              "      <td>26.0</td>\n",
              "      <td>7-0</td>\n",
              "      <td>231.0</td>\n",
              "      <td>Kansas</td>\n",
              "      <td>947276.0</td>\n",
              "    </tr>\n",
              "    <tr>\n",
              "      <th>457</th>\n",
              "      <td>NaN</td>\n",
              "      <td>NaN</td>\n",
              "      <td>NaN</td>\n",
              "      <td>NaN</td>\n",
              "      <td>NaN</td>\n",
              "      <td>NaN</td>\n",
              "      <td>NaN</td>\n",
              "      <td>NaN</td>\n",
              "      <td>NaN</td>\n",
              "    </tr>\n",
              "  </tbody>\n",
              "</table>\n",
              "</div>"
            ],
            "text/plain": [
              "               Name       Team  Number  ... Weight   College      Salary\n",
              "448  Gordon Hayward  Utah Jazz    20.0  ...  226.0    Butler  15409570.0\n",
              "449     Rodney Hood  Utah Jazz     5.0  ...  206.0      Duke   1348440.0\n",
              "450      Joe Ingles  Utah Jazz     2.0  ...  226.0       NaN   2050000.0\n",
              "451   Chris Johnson  Utah Jazz    23.0  ...  206.0    Dayton    981348.0\n",
              "452      Trey Lyles  Utah Jazz    41.0  ...  234.0  Kentucky   2239800.0\n",
              "453    Shelvin Mack  Utah Jazz     8.0  ...  203.0    Butler   2433333.0\n",
              "454       Raul Neto  Utah Jazz    25.0  ...  179.0       NaN    900000.0\n",
              "455    Tibor Pleiss  Utah Jazz    21.0  ...  256.0       NaN   2900000.0\n",
              "456     Jeff Withey  Utah Jazz    24.0  ...  231.0    Kansas    947276.0\n",
              "457             NaN        NaN     NaN  ...    NaN       NaN         NaN\n",
              "\n",
              "[10 rows x 9 columns]"
            ]
          },
          "metadata": {
            "tags": []
          },
          "execution_count": 1
        }
      ]
    },
    {
      "cell_type": "code",
      "metadata": {
        "id": "-Lj7jAyfvj1h",
        "colab": {
          "base_uri": "https://localhost:8080/"
        },
        "outputId": "c3a0e579-cf01-4261-ff24-0537228d27f9"
      },
      "source": [
        "#nba.index        #gives number of entries.\n",
        "#nba.shape        #gives the dimensions in rows and columns.\n",
        "#nba.dtypes       #gives the data types.\n",
        "#nba.columns       #gives the columns title. \n",
        "#nba.axes          #gives the end points and the step values. \n",
        "#nba.info\n",
        "nba.info()        #gives the complete infromation."
      ],
      "execution_count": null,
      "outputs": [
        {
          "output_type": "stream",
          "text": [
            "<class 'pandas.core.frame.DataFrame'>\n",
            "RangeIndex: 458 entries, 0 to 457\n",
            "Data columns (total 9 columns):\n",
            " #   Column    Non-Null Count  Dtype  \n",
            "---  ------    --------------  -----  \n",
            " 0   Name      457 non-null    object \n",
            " 1   Team      457 non-null    object \n",
            " 2   Number    457 non-null    float64\n",
            " 3   Position  457 non-null    object \n",
            " 4   Age       457 non-null    float64\n",
            " 5   Height    457 non-null    object \n",
            " 6   Weight    457 non-null    float64\n",
            " 7   College   373 non-null    object \n",
            " 8   Salary    446 non-null    float64\n",
            "dtypes: float64(4), object(5)\n",
            "memory usage: 32.3+ KB\n"
          ],
          "name": "stdout"
        }
      ]
    },
    {
      "cell_type": "markdown",
      "metadata": {
        "id": "fAEY4S2kvj1o"
      },
      "source": [
        "# shared method and column access in pandas"
      ]
    },
    {
      "cell_type": "code",
      "metadata": {
        "id": "j_TA9oEwvj1r",
        "colab": {
          "base_uri": "https://localhost:8080/",
          "height": 228
        },
        "outputId": "04f7d34e-16bc-4ea9-b733-afceaa7fa7c0"
      },
      "source": [
        "import pandas as pd\n",
        "rev=pd.read_csv('revenue.csv', index_col='Date')     #replace the index colunnm with date.\n",
        "rev.head()"
      ],
      "execution_count": null,
      "outputs": [
        {
          "output_type": "execute_result",
          "data": {
            "text/html": [
              "<div>\n",
              "<style scoped>\n",
              "    .dataframe tbody tr th:only-of-type {\n",
              "        vertical-align: middle;\n",
              "    }\n",
              "\n",
              "    .dataframe tbody tr th {\n",
              "        vertical-align: top;\n",
              "    }\n",
              "\n",
              "    .dataframe thead th {\n",
              "        text-align: right;\n",
              "    }\n",
              "</style>\n",
              "<table border=\"1\" class=\"dataframe\">\n",
              "  <thead>\n",
              "    <tr style=\"text-align: right;\">\n",
              "      <th></th>\n",
              "      <th>New York</th>\n",
              "      <th>Los Angeles</th>\n",
              "      <th>Miami</th>\n",
              "    </tr>\n",
              "    <tr>\n",
              "      <th>Date</th>\n",
              "      <th></th>\n",
              "      <th></th>\n",
              "      <th></th>\n",
              "    </tr>\n",
              "  </thead>\n",
              "  <tbody>\n",
              "    <tr>\n",
              "      <th>1/1/16</th>\n",
              "      <td>985</td>\n",
              "      <td>122</td>\n",
              "      <td>499</td>\n",
              "    </tr>\n",
              "    <tr>\n",
              "      <th>1/2/16</th>\n",
              "      <td>738</td>\n",
              "      <td>788</td>\n",
              "      <td>534</td>\n",
              "    </tr>\n",
              "    <tr>\n",
              "      <th>1/3/16</th>\n",
              "      <td>14</td>\n",
              "      <td>20</td>\n",
              "      <td>933</td>\n",
              "    </tr>\n",
              "    <tr>\n",
              "      <th>1/4/16</th>\n",
              "      <td>730</td>\n",
              "      <td>904</td>\n",
              "      <td>885</td>\n",
              "    </tr>\n",
              "    <tr>\n",
              "      <th>1/5/16</th>\n",
              "      <td>114</td>\n",
              "      <td>71</td>\n",
              "      <td>253</td>\n",
              "    </tr>\n",
              "  </tbody>\n",
              "</table>\n",
              "</div>"
            ],
            "text/plain": [
              "        New York  Los Angeles  Miami\n",
              "Date                                \n",
              "1/1/16       985          122    499\n",
              "1/2/16       738          788    534\n",
              "1/3/16        14           20    933\n",
              "1/4/16       730          904    885\n",
              "1/5/16       114           71    253"
            ]
          },
          "metadata": {
            "tags": []
          },
          "execution_count": 3
        }
      ]
    },
    {
      "cell_type": "code",
      "metadata": {
        "id": "Nk-pVimuvj1v",
        "colab": {
          "base_uri": "https://localhost:8080/",
          "height": 301
        },
        "outputId": "8be0cc09-361e-4b3e-9202-4f51187eb29a"
      },
      "source": [
        "rev.sum() #Here data is added in terms of column wise\n",
        "#rev.sum(axis=0)    #gives the sum of elements of first column.\n",
        "#rev.sum(axis='index')"
      ],
      "execution_count": null,
      "outputs": [
        {
          "output_type": "error",
          "ename": "NameError",
          "evalue": "ignored",
          "traceback": [
            "\u001b[0;31m---------------------------------------------------------------------------\u001b[0m",
            "\u001b[0;31mNameError\u001b[0m                                 Traceback (most recent call last)",
            "\u001b[0;32m<ipython-input-1-9a001669739c>\u001b[0m in \u001b[0;36m<module>\u001b[0;34m()\u001b[0m\n\u001b[0;32m----> 1\u001b[0;31m \u001b[0mrev\u001b[0m\u001b[0;34m.\u001b[0m\u001b[0msum\u001b[0m\u001b[0;34m(\u001b[0m\u001b[0;34m)\u001b[0m \u001b[0;31m#Here data is added in terms of column wise\u001b[0m\u001b[0;34m\u001b[0m\u001b[0;34m\u001b[0m\u001b[0m\n\u001b[0m\u001b[1;32m      2\u001b[0m \u001b[0;31m#rev.sum(axis=0)    #gives the sum of elements of first column.\u001b[0m\u001b[0;34m\u001b[0m\u001b[0;34m\u001b[0m\u001b[0;34m\u001b[0m\u001b[0m\n\u001b[1;32m      3\u001b[0m \u001b[0;31m#rev.sum(axis='index')\u001b[0m\u001b[0;34m\u001b[0m\u001b[0;34m\u001b[0m\u001b[0;34m\u001b[0m\u001b[0m\n",
            "\u001b[0;31mNameError\u001b[0m: name 'rev' is not defined"
          ]
        }
      ]
    },
    {
      "cell_type": "code",
      "metadata": {
        "id": "93bx5MfUvj11",
        "colab": {
          "base_uri": "https://localhost:8080/"
        },
        "outputId": "db808fd8-59e0-45d5-b07f-03507c640426"
      },
      "source": [
        " rev.sum(axis=1)\n",
        "rev.sum(axis='columns')    #gives the sums of the colmns.        "
      ],
      "execution_count": null,
      "outputs": [
        {
          "output_type": "execute_result",
          "data": {
            "text/plain": [
              "Date\n",
              "1/1/16     1606\n",
              "1/2/16     2060\n",
              "1/3/16      967\n",
              "1/4/16     2519\n",
              "1/5/16      438\n",
              "1/6/16     1935\n",
              "1/7/16     1234\n",
              "1/8/16     2313\n",
              "1/9/16     2623\n",
              "1/10/16     555\n",
              "dtype: int64"
            ]
          },
          "metadata": {
            "tags": []
          },
          "execution_count": 6
        }
      ]
    },
    {
      "cell_type": "code",
      "metadata": {
        "id": "M5AXnx_pvj14",
        "colab": {
          "base_uri": "https://localhost:8080/",
          "height": 198
        },
        "outputId": "60a581ba-73d9-480c-929c-97fc28b939ec"
      },
      "source": [
        "nba=pd.read_csv('nba.csv')\n",
        "nba.head()\n",
        "\n",
        "#If i want to extract data column wise\n",
        "# type(nba.Salary) #Its data type is series as it is a single dimension array it works properly when there is no space in column name"
      ],
      "execution_count": null,
      "outputs": [
        {
          "output_type": "execute_result",
          "data": {
            "text/html": [
              "<div>\n",
              "<style scoped>\n",
              "    .dataframe tbody tr th:only-of-type {\n",
              "        vertical-align: middle;\n",
              "    }\n",
              "\n",
              "    .dataframe tbody tr th {\n",
              "        vertical-align: top;\n",
              "    }\n",
              "\n",
              "    .dataframe thead th {\n",
              "        text-align: right;\n",
              "    }\n",
              "</style>\n",
              "<table border=\"1\" class=\"dataframe\">\n",
              "  <thead>\n",
              "    <tr style=\"text-align: right;\">\n",
              "      <th></th>\n",
              "      <th>Name</th>\n",
              "      <th>Team</th>\n",
              "      <th>Number</th>\n",
              "      <th>Position</th>\n",
              "      <th>Age</th>\n",
              "      <th>Height</th>\n",
              "      <th>Weight</th>\n",
              "      <th>College</th>\n",
              "      <th>Salary</th>\n",
              "    </tr>\n",
              "  </thead>\n",
              "  <tbody>\n",
              "    <tr>\n",
              "      <th>0</th>\n",
              "      <td>Avery Bradley</td>\n",
              "      <td>Boston Celtics</td>\n",
              "      <td>0.0</td>\n",
              "      <td>PG</td>\n",
              "      <td>25.0</td>\n",
              "      <td>6-2</td>\n",
              "      <td>180.0</td>\n",
              "      <td>Texas</td>\n",
              "      <td>7730337.0</td>\n",
              "    </tr>\n",
              "    <tr>\n",
              "      <th>1</th>\n",
              "      <td>Jae Crowder</td>\n",
              "      <td>Boston Celtics</td>\n",
              "      <td>99.0</td>\n",
              "      <td>SF</td>\n",
              "      <td>25.0</td>\n",
              "      <td>6-6</td>\n",
              "      <td>235.0</td>\n",
              "      <td>Marquette</td>\n",
              "      <td>6796117.0</td>\n",
              "    </tr>\n",
              "    <tr>\n",
              "      <th>2</th>\n",
              "      <td>John Holland</td>\n",
              "      <td>Boston Celtics</td>\n",
              "      <td>30.0</td>\n",
              "      <td>SG</td>\n",
              "      <td>27.0</td>\n",
              "      <td>6-5</td>\n",
              "      <td>205.0</td>\n",
              "      <td>Boston University</td>\n",
              "      <td>NaN</td>\n",
              "    </tr>\n",
              "    <tr>\n",
              "      <th>3</th>\n",
              "      <td>R.J. Hunter</td>\n",
              "      <td>Boston Celtics</td>\n",
              "      <td>28.0</td>\n",
              "      <td>SG</td>\n",
              "      <td>22.0</td>\n",
              "      <td>6-5</td>\n",
              "      <td>185.0</td>\n",
              "      <td>Georgia State</td>\n",
              "      <td>1148640.0</td>\n",
              "    </tr>\n",
              "    <tr>\n",
              "      <th>4</th>\n",
              "      <td>Jonas Jerebko</td>\n",
              "      <td>Boston Celtics</td>\n",
              "      <td>8.0</td>\n",
              "      <td>PF</td>\n",
              "      <td>29.0</td>\n",
              "      <td>6-10</td>\n",
              "      <td>231.0</td>\n",
              "      <td>NaN</td>\n",
              "      <td>5000000.0</td>\n",
              "    </tr>\n",
              "  </tbody>\n",
              "</table>\n",
              "</div>"
            ],
            "text/plain": [
              "            Name            Team  Number  ... Weight            College     Salary\n",
              "0  Avery Bradley  Boston Celtics     0.0  ...  180.0              Texas  7730337.0\n",
              "1    Jae Crowder  Boston Celtics    99.0  ...  235.0          Marquette  6796117.0\n",
              "2   John Holland  Boston Celtics    30.0  ...  205.0  Boston University        NaN\n",
              "3    R.J. Hunter  Boston Celtics    28.0  ...  185.0      Georgia State  1148640.0\n",
              "4  Jonas Jerebko  Boston Celtics     8.0  ...  231.0                NaN  5000000.0\n",
              "\n",
              "[5 rows x 9 columns]"
            ]
          },
          "metadata": {
            "tags": []
          },
          "execution_count": 7
        }
      ]
    },
    {
      "cell_type": "code",
      "metadata": {
        "id": "iTnB3yjrvj1-"
      },
      "source": [
        "# nba['Name'] #It is more accurate as it works for those column also which have space in there name\n",
        "nba.Name"
      ],
      "execution_count": null,
      "outputs": []
    },
    {
      "cell_type": "markdown",
      "metadata": {
        "id": "MJZdsHFovj2C"
      },
      "source": [
        "# Add new column to data frames"
      ]
    },
    {
      "cell_type": "code",
      "metadata": {
        "id": "NjGKzAOVvj2E",
        "colab": {
          "base_uri": "https://localhost:8080/",
          "height": 198
        },
        "outputId": "d9eadf3f-b44f-492b-b575-92a3f3346d38"
      },
      "source": [
        "import pandas as pd\n",
        "nba=pd.read_csv('nba.csv')             #read the nba.csv file. \n",
        "nba.head()"
      ],
      "execution_count": null,
      "outputs": [
        {
          "output_type": "execute_result",
          "data": {
            "text/html": [
              "<div>\n",
              "<style scoped>\n",
              "    .dataframe tbody tr th:only-of-type {\n",
              "        vertical-align: middle;\n",
              "    }\n",
              "\n",
              "    .dataframe tbody tr th {\n",
              "        vertical-align: top;\n",
              "    }\n",
              "\n",
              "    .dataframe thead th {\n",
              "        text-align: right;\n",
              "    }\n",
              "</style>\n",
              "<table border=\"1\" class=\"dataframe\">\n",
              "  <thead>\n",
              "    <tr style=\"text-align: right;\">\n",
              "      <th></th>\n",
              "      <th>Name</th>\n",
              "      <th>Team</th>\n",
              "      <th>Number</th>\n",
              "      <th>Position</th>\n",
              "      <th>Age</th>\n",
              "      <th>Height</th>\n",
              "      <th>Weight</th>\n",
              "      <th>College</th>\n",
              "      <th>Salary</th>\n",
              "    </tr>\n",
              "  </thead>\n",
              "  <tbody>\n",
              "    <tr>\n",
              "      <th>0</th>\n",
              "      <td>Avery Bradley</td>\n",
              "      <td>Boston Celtics</td>\n",
              "      <td>0.0</td>\n",
              "      <td>PG</td>\n",
              "      <td>25.0</td>\n",
              "      <td>6-2</td>\n",
              "      <td>180.0</td>\n",
              "      <td>Texas</td>\n",
              "      <td>7730337.0</td>\n",
              "    </tr>\n",
              "    <tr>\n",
              "      <th>1</th>\n",
              "      <td>Jae Crowder</td>\n",
              "      <td>Boston Celtics</td>\n",
              "      <td>99.0</td>\n",
              "      <td>SF</td>\n",
              "      <td>25.0</td>\n",
              "      <td>6-6</td>\n",
              "      <td>235.0</td>\n",
              "      <td>Marquette</td>\n",
              "      <td>6796117.0</td>\n",
              "    </tr>\n",
              "    <tr>\n",
              "      <th>2</th>\n",
              "      <td>John Holland</td>\n",
              "      <td>Boston Celtics</td>\n",
              "      <td>30.0</td>\n",
              "      <td>SG</td>\n",
              "      <td>27.0</td>\n",
              "      <td>6-5</td>\n",
              "      <td>205.0</td>\n",
              "      <td>Boston University</td>\n",
              "      <td>NaN</td>\n",
              "    </tr>\n",
              "    <tr>\n",
              "      <th>3</th>\n",
              "      <td>R.J. Hunter</td>\n",
              "      <td>Boston Celtics</td>\n",
              "      <td>28.0</td>\n",
              "      <td>SG</td>\n",
              "      <td>22.0</td>\n",
              "      <td>6-5</td>\n",
              "      <td>185.0</td>\n",
              "      <td>Georgia State</td>\n",
              "      <td>1148640.0</td>\n",
              "    </tr>\n",
              "    <tr>\n",
              "      <th>4</th>\n",
              "      <td>Jonas Jerebko</td>\n",
              "      <td>Boston Celtics</td>\n",
              "      <td>8.0</td>\n",
              "      <td>PF</td>\n",
              "      <td>29.0</td>\n",
              "      <td>6-10</td>\n",
              "      <td>231.0</td>\n",
              "      <td>NaN</td>\n",
              "      <td>5000000.0</td>\n",
              "    </tr>\n",
              "  </tbody>\n",
              "</table>\n",
              "</div>"
            ],
            "text/plain": [
              "            Name            Team  Number  ... Weight            College     Salary\n",
              "0  Avery Bradley  Boston Celtics     0.0  ...  180.0              Texas  7730337.0\n",
              "1    Jae Crowder  Boston Celtics    99.0  ...  235.0          Marquette  6796117.0\n",
              "2   John Holland  Boston Celtics    30.0  ...  205.0  Boston University        NaN\n",
              "3    R.J. Hunter  Boston Celtics    28.0  ...  185.0      Georgia State  1148640.0\n",
              "4  Jonas Jerebko  Boston Celtics     8.0  ...  231.0                NaN  5000000.0\n",
              "\n",
              "[5 rows x 9 columns]"
            ]
          },
          "metadata": {
            "tags": []
          },
          "execution_count": 9
        }
      ]
    },
    {
      "cell_type": "code",
      "metadata": {
        "id": "8IukmxZGvj2G",
        "colab": {
          "base_uri": "https://localhost:8080/",
          "height": 198
        },
        "outputId": "76552b43-1a1b-41f7-c35c-48aad7c7e4bc"
      },
      "source": [
        "nba['Sports']='Basket Ball' #One method to add column but by this column is added at the last\n",
        "nba.head()"
      ],
      "execution_count": null,
      "outputs": [
        {
          "output_type": "execute_result",
          "data": {
            "text/html": [
              "<div>\n",
              "<style scoped>\n",
              "    .dataframe tbody tr th:only-of-type {\n",
              "        vertical-align: middle;\n",
              "    }\n",
              "\n",
              "    .dataframe tbody tr th {\n",
              "        vertical-align: top;\n",
              "    }\n",
              "\n",
              "    .dataframe thead th {\n",
              "        text-align: right;\n",
              "    }\n",
              "</style>\n",
              "<table border=\"1\" class=\"dataframe\">\n",
              "  <thead>\n",
              "    <tr style=\"text-align: right;\">\n",
              "      <th></th>\n",
              "      <th>Name</th>\n",
              "      <th>Team</th>\n",
              "      <th>Number</th>\n",
              "      <th>Position</th>\n",
              "      <th>Age</th>\n",
              "      <th>Height</th>\n",
              "      <th>Weight</th>\n",
              "      <th>College</th>\n",
              "      <th>Salary</th>\n",
              "      <th>Sports</th>\n",
              "    </tr>\n",
              "  </thead>\n",
              "  <tbody>\n",
              "    <tr>\n",
              "      <th>0</th>\n",
              "      <td>Avery Bradley</td>\n",
              "      <td>Boston Celtics</td>\n",
              "      <td>0.0</td>\n",
              "      <td>PG</td>\n",
              "      <td>25.0</td>\n",
              "      <td>6-2</td>\n",
              "      <td>180.0</td>\n",
              "      <td>Texas</td>\n",
              "      <td>7730337.0</td>\n",
              "      <td>Basket Ball</td>\n",
              "    </tr>\n",
              "    <tr>\n",
              "      <th>1</th>\n",
              "      <td>Jae Crowder</td>\n",
              "      <td>Boston Celtics</td>\n",
              "      <td>99.0</td>\n",
              "      <td>SF</td>\n",
              "      <td>25.0</td>\n",
              "      <td>6-6</td>\n",
              "      <td>235.0</td>\n",
              "      <td>Marquette</td>\n",
              "      <td>6796117.0</td>\n",
              "      <td>Basket Ball</td>\n",
              "    </tr>\n",
              "    <tr>\n",
              "      <th>2</th>\n",
              "      <td>John Holland</td>\n",
              "      <td>Boston Celtics</td>\n",
              "      <td>30.0</td>\n",
              "      <td>SG</td>\n",
              "      <td>27.0</td>\n",
              "      <td>6-5</td>\n",
              "      <td>205.0</td>\n",
              "      <td>Boston University</td>\n",
              "      <td>NaN</td>\n",
              "      <td>Basket Ball</td>\n",
              "    </tr>\n",
              "    <tr>\n",
              "      <th>3</th>\n",
              "      <td>R.J. Hunter</td>\n",
              "      <td>Boston Celtics</td>\n",
              "      <td>28.0</td>\n",
              "      <td>SG</td>\n",
              "      <td>22.0</td>\n",
              "      <td>6-5</td>\n",
              "      <td>185.0</td>\n",
              "      <td>Georgia State</td>\n",
              "      <td>1148640.0</td>\n",
              "      <td>Basket Ball</td>\n",
              "    </tr>\n",
              "    <tr>\n",
              "      <th>4</th>\n",
              "      <td>Jonas Jerebko</td>\n",
              "      <td>Boston Celtics</td>\n",
              "      <td>8.0</td>\n",
              "      <td>PF</td>\n",
              "      <td>29.0</td>\n",
              "      <td>6-10</td>\n",
              "      <td>231.0</td>\n",
              "      <td>NaN</td>\n",
              "      <td>5000000.0</td>\n",
              "      <td>Basket Ball</td>\n",
              "    </tr>\n",
              "  </tbody>\n",
              "</table>\n",
              "</div>"
            ],
            "text/plain": [
              "            Name            Team  ...     Salary       Sports\n",
              "0  Avery Bradley  Boston Celtics  ...  7730337.0  Basket Ball\n",
              "1    Jae Crowder  Boston Celtics  ...  6796117.0  Basket Ball\n",
              "2   John Holland  Boston Celtics  ...        NaN  Basket Ball\n",
              "3    R.J. Hunter  Boston Celtics  ...  1148640.0  Basket Ball\n",
              "4  Jonas Jerebko  Boston Celtics  ...  5000000.0  Basket Ball\n",
              "\n",
              "[5 rows x 10 columns]"
            ]
          },
          "metadata": {
            "tags": []
          },
          "execution_count": 10
        }
      ]
    },
    {
      "cell_type": "code",
      "metadata": {
        "id": "Zhr4WjXWNv0-"
      },
      "source": [
        ""
      ],
      "execution_count": null,
      "outputs": []
    },
    {
      "cell_type": "code",
      "metadata": {
        "id": "fawzb40svj2J",
        "colab": {
          "base_uri": "https://localhost:8080/",
          "height": 289
        },
        "outputId": "e9efdb63-b80b-499e-ae42-d6e2c5712f45"
      },
      "source": [
        " \n",
        "nba=pd.read_csv('nba.csv')\n",
        "#Insert method : any specific place you may add your column\n",
        "nba.insert(3, column=\"League\", value=\"IPL\")   #insert ipl from 3 column\n",
        "nba.League[[0,1]]=[\"Hello\",\"test\"]   #insert hello index and test in 0 and 1 respectively\n",
        "nba.head()"
      ],
      "execution_count": null,
      "outputs": [
        {
          "output_type": "stream",
          "text": [
            "/usr/local/lib/python3.7/dist-packages/ipykernel_launcher.py:5: SettingWithCopyWarning: \n",
            "A value is trying to be set on a copy of a slice from a DataFrame\n",
            "\n",
            "See the caveats in the documentation: https://pandas.pydata.org/pandas-docs/stable/user_guide/indexing.html#returning-a-view-versus-a-copy\n",
            "  \"\"\"\n"
          ],
          "name": "stderr"
        },
        {
          "output_type": "execute_result",
          "data": {
            "text/html": [
              "<div>\n",
              "<style scoped>\n",
              "    .dataframe tbody tr th:only-of-type {\n",
              "        vertical-align: middle;\n",
              "    }\n",
              "\n",
              "    .dataframe tbody tr th {\n",
              "        vertical-align: top;\n",
              "    }\n",
              "\n",
              "    .dataframe thead th {\n",
              "        text-align: right;\n",
              "    }\n",
              "</style>\n",
              "<table border=\"1\" class=\"dataframe\">\n",
              "  <thead>\n",
              "    <tr style=\"text-align: right;\">\n",
              "      <th></th>\n",
              "      <th>Name</th>\n",
              "      <th>Team</th>\n",
              "      <th>Number</th>\n",
              "      <th>League</th>\n",
              "      <th>Position</th>\n",
              "      <th>Age</th>\n",
              "      <th>Height</th>\n",
              "      <th>Weight</th>\n",
              "      <th>College</th>\n",
              "      <th>Salary</th>\n",
              "    </tr>\n",
              "  </thead>\n",
              "  <tbody>\n",
              "    <tr>\n",
              "      <th>0</th>\n",
              "      <td>Avery Bradley</td>\n",
              "      <td>Boston Celtics</td>\n",
              "      <td>0.0</td>\n",
              "      <td>Hello</td>\n",
              "      <td>PG</td>\n",
              "      <td>25.0</td>\n",
              "      <td>6-2</td>\n",
              "      <td>180.0</td>\n",
              "      <td>Texas</td>\n",
              "      <td>7730337.0</td>\n",
              "    </tr>\n",
              "    <tr>\n",
              "      <th>1</th>\n",
              "      <td>Jae Crowder</td>\n",
              "      <td>Boston Celtics</td>\n",
              "      <td>99.0</td>\n",
              "      <td>test</td>\n",
              "      <td>SF</td>\n",
              "      <td>25.0</td>\n",
              "      <td>6-6</td>\n",
              "      <td>235.0</td>\n",
              "      <td>Marquette</td>\n",
              "      <td>6796117.0</td>\n",
              "    </tr>\n",
              "    <tr>\n",
              "      <th>2</th>\n",
              "      <td>John Holland</td>\n",
              "      <td>Boston Celtics</td>\n",
              "      <td>30.0</td>\n",
              "      <td>IPL</td>\n",
              "      <td>SG</td>\n",
              "      <td>27.0</td>\n",
              "      <td>6-5</td>\n",
              "      <td>205.0</td>\n",
              "      <td>Boston University</td>\n",
              "      <td>NaN</td>\n",
              "    </tr>\n",
              "    <tr>\n",
              "      <th>3</th>\n",
              "      <td>R.J. Hunter</td>\n",
              "      <td>Boston Celtics</td>\n",
              "      <td>28.0</td>\n",
              "      <td>IPL</td>\n",
              "      <td>SG</td>\n",
              "      <td>22.0</td>\n",
              "      <td>6-5</td>\n",
              "      <td>185.0</td>\n",
              "      <td>Georgia State</td>\n",
              "      <td>1148640.0</td>\n",
              "    </tr>\n",
              "    <tr>\n",
              "      <th>4</th>\n",
              "      <td>Jonas Jerebko</td>\n",
              "      <td>Boston Celtics</td>\n",
              "      <td>8.0</td>\n",
              "      <td>IPL</td>\n",
              "      <td>PF</td>\n",
              "      <td>29.0</td>\n",
              "      <td>6-10</td>\n",
              "      <td>231.0</td>\n",
              "      <td>NaN</td>\n",
              "      <td>5000000.0</td>\n",
              "    </tr>\n",
              "  </tbody>\n",
              "</table>\n",
              "</div>"
            ],
            "text/plain": [
              "            Name            Team  Number  ... Weight            College     Salary\n",
              "0  Avery Bradley  Boston Celtics     0.0  ...  180.0              Texas  7730337.0\n",
              "1    Jae Crowder  Boston Celtics    99.0  ...  235.0          Marquette  6796117.0\n",
              "2   John Holland  Boston Celtics    30.0  ...  205.0  Boston University        NaN\n",
              "3    R.J. Hunter  Boston Celtics    28.0  ...  185.0      Georgia State  1148640.0\n",
              "4  Jonas Jerebko  Boston Celtics     8.0  ...  231.0                NaN  5000000.0\n",
              "\n",
              "[5 rows x 10 columns]"
            ]
          },
          "metadata": {
            "tags": []
          },
          "execution_count": 11
        }
      ]
    },
    {
      "cell_type": "markdown",
      "metadata": {
        "id": "rLa46Henvj2L"
      },
      "source": [
        "# BroadCasting operation in pandas"
      ]
    },
    {
      "cell_type": "code",
      "metadata": {
        "id": "8WyUfQ_5vj2N",
        "colab": {
          "base_uri": "https://localhost:8080/",
          "height": 198
        },
        "outputId": "d8831de7-ddde-40cd-ffb1-61f56540aa34"
      },
      "source": [
        "#Broadcasting : means to perform operation in whole series of a column\n",
        "import pandas as pd\n",
        "nba=pd.read_csv('nba.csv')\n",
        "nba.head()"
      ],
      "execution_count": null,
      "outputs": [
        {
          "output_type": "execute_result",
          "data": {
            "text/html": [
              "<div>\n",
              "<style scoped>\n",
              "    .dataframe tbody tr th:only-of-type {\n",
              "        vertical-align: middle;\n",
              "    }\n",
              "\n",
              "    .dataframe tbody tr th {\n",
              "        vertical-align: top;\n",
              "    }\n",
              "\n",
              "    .dataframe thead th {\n",
              "        text-align: right;\n",
              "    }\n",
              "</style>\n",
              "<table border=\"1\" class=\"dataframe\">\n",
              "  <thead>\n",
              "    <tr style=\"text-align: right;\">\n",
              "      <th></th>\n",
              "      <th>Name</th>\n",
              "      <th>Team</th>\n",
              "      <th>Number</th>\n",
              "      <th>Position</th>\n",
              "      <th>Age</th>\n",
              "      <th>Height</th>\n",
              "      <th>Weight</th>\n",
              "      <th>College</th>\n",
              "      <th>Salary</th>\n",
              "    </tr>\n",
              "  </thead>\n",
              "  <tbody>\n",
              "    <tr>\n",
              "      <th>0</th>\n",
              "      <td>Avery Bradley</td>\n",
              "      <td>Boston Celtics</td>\n",
              "      <td>0.0</td>\n",
              "      <td>PG</td>\n",
              "      <td>25.0</td>\n",
              "      <td>6-2</td>\n",
              "      <td>180.0</td>\n",
              "      <td>Texas</td>\n",
              "      <td>7730337.0</td>\n",
              "    </tr>\n",
              "    <tr>\n",
              "      <th>1</th>\n",
              "      <td>Jae Crowder</td>\n",
              "      <td>Boston Celtics</td>\n",
              "      <td>99.0</td>\n",
              "      <td>SF</td>\n",
              "      <td>25.0</td>\n",
              "      <td>6-6</td>\n",
              "      <td>235.0</td>\n",
              "      <td>Marquette</td>\n",
              "      <td>6796117.0</td>\n",
              "    </tr>\n",
              "    <tr>\n",
              "      <th>2</th>\n",
              "      <td>John Holland</td>\n",
              "      <td>Boston Celtics</td>\n",
              "      <td>30.0</td>\n",
              "      <td>SG</td>\n",
              "      <td>27.0</td>\n",
              "      <td>6-5</td>\n",
              "      <td>205.0</td>\n",
              "      <td>Boston University</td>\n",
              "      <td>NaN</td>\n",
              "    </tr>\n",
              "    <tr>\n",
              "      <th>3</th>\n",
              "      <td>R.J. Hunter</td>\n",
              "      <td>Boston Celtics</td>\n",
              "      <td>28.0</td>\n",
              "      <td>SG</td>\n",
              "      <td>22.0</td>\n",
              "      <td>6-5</td>\n",
              "      <td>185.0</td>\n",
              "      <td>Georgia State</td>\n",
              "      <td>1148640.0</td>\n",
              "    </tr>\n",
              "    <tr>\n",
              "      <th>4</th>\n",
              "      <td>Jonas Jerebko</td>\n",
              "      <td>Boston Celtics</td>\n",
              "      <td>8.0</td>\n",
              "      <td>PF</td>\n",
              "      <td>29.0</td>\n",
              "      <td>6-10</td>\n",
              "      <td>231.0</td>\n",
              "      <td>NaN</td>\n",
              "      <td>5000000.0</td>\n",
              "    </tr>\n",
              "  </tbody>\n",
              "</table>\n",
              "</div>"
            ],
            "text/plain": [
              "            Name            Team  Number  ... Weight            College     Salary\n",
              "0  Avery Bradley  Boston Celtics     0.0  ...  180.0              Texas  7730337.0\n",
              "1    Jae Crowder  Boston Celtics    99.0  ...  235.0          Marquette  6796117.0\n",
              "2   John Holland  Boston Celtics    30.0  ...  205.0  Boston University        NaN\n",
              "3    R.J. Hunter  Boston Celtics    28.0  ...  185.0      Georgia State  1148640.0\n",
              "4  Jonas Jerebko  Boston Celtics     8.0  ...  231.0                NaN  5000000.0\n",
              "\n",
              "[5 rows x 9 columns]"
            ]
          },
          "metadata": {
            "tags": []
          },
          "execution_count": 12
        }
      ]
    },
    {
      "cell_type": "code",
      "metadata": {
        "id": "0fC9pgb4vj2P",
        "colab": {
          "base_uri": "https://localhost:8080/",
          "height": 198
        },
        "outputId": "e083bcf9-2021-475b-c30a-1e0dee56a5c7"
      },
      "source": [
        "nba['Salary'].sub(50000)\n",
        "# nba['Salary']-50000      #deduct 50000 from the corresponding sallary.\n",
        "\n",
        "\n",
        "# nba['Age'].add(5)\n",
        "# nba['Age']+5              #add 5 to the age of everyone\n",
        "\n",
        "\n",
        "# nba['Weight'].mul(0.453)\n",
        "# nba['Weight']*0.453           #gonna multiply 0.453 to every weight\n",
        "\n",
        "\n",
        "\n",
        "nba[\"Weight in KG\"]=nba['Weight']*0.453592\n",
        "nba.head()"
      ],
      "execution_count": null,
      "outputs": [
        {
          "output_type": "execute_result",
          "data": {
            "text/html": [
              "<div>\n",
              "<style scoped>\n",
              "    .dataframe tbody tr th:only-of-type {\n",
              "        vertical-align: middle;\n",
              "    }\n",
              "\n",
              "    .dataframe tbody tr th {\n",
              "        vertical-align: top;\n",
              "    }\n",
              "\n",
              "    .dataframe thead th {\n",
              "        text-align: right;\n",
              "    }\n",
              "</style>\n",
              "<table border=\"1\" class=\"dataframe\">\n",
              "  <thead>\n",
              "    <tr style=\"text-align: right;\">\n",
              "      <th></th>\n",
              "      <th>Name</th>\n",
              "      <th>Team</th>\n",
              "      <th>Number</th>\n",
              "      <th>Position</th>\n",
              "      <th>Age</th>\n",
              "      <th>Height</th>\n",
              "      <th>Weight</th>\n",
              "      <th>College</th>\n",
              "      <th>Salary</th>\n",
              "      <th>Weight in KG</th>\n",
              "    </tr>\n",
              "  </thead>\n",
              "  <tbody>\n",
              "    <tr>\n",
              "      <th>0</th>\n",
              "      <td>Avery Bradley</td>\n",
              "      <td>Boston Celtics</td>\n",
              "      <td>0.0</td>\n",
              "      <td>PG</td>\n",
              "      <td>25.0</td>\n",
              "      <td>6-2</td>\n",
              "      <td>180.0</td>\n",
              "      <td>Texas</td>\n",
              "      <td>7730337.0</td>\n",
              "      <td>81.646560</td>\n",
              "    </tr>\n",
              "    <tr>\n",
              "      <th>1</th>\n",
              "      <td>Jae Crowder</td>\n",
              "      <td>Boston Celtics</td>\n",
              "      <td>99.0</td>\n",
              "      <td>SF</td>\n",
              "      <td>25.0</td>\n",
              "      <td>6-6</td>\n",
              "      <td>235.0</td>\n",
              "      <td>Marquette</td>\n",
              "      <td>6796117.0</td>\n",
              "      <td>106.594120</td>\n",
              "    </tr>\n",
              "    <tr>\n",
              "      <th>2</th>\n",
              "      <td>John Holland</td>\n",
              "      <td>Boston Celtics</td>\n",
              "      <td>30.0</td>\n",
              "      <td>SG</td>\n",
              "      <td>27.0</td>\n",
              "      <td>6-5</td>\n",
              "      <td>205.0</td>\n",
              "      <td>Boston University</td>\n",
              "      <td>NaN</td>\n",
              "      <td>92.986360</td>\n",
              "    </tr>\n",
              "    <tr>\n",
              "      <th>3</th>\n",
              "      <td>R.J. Hunter</td>\n",
              "      <td>Boston Celtics</td>\n",
              "      <td>28.0</td>\n",
              "      <td>SG</td>\n",
              "      <td>22.0</td>\n",
              "      <td>6-5</td>\n",
              "      <td>185.0</td>\n",
              "      <td>Georgia State</td>\n",
              "      <td>1148640.0</td>\n",
              "      <td>83.914520</td>\n",
              "    </tr>\n",
              "    <tr>\n",
              "      <th>4</th>\n",
              "      <td>Jonas Jerebko</td>\n",
              "      <td>Boston Celtics</td>\n",
              "      <td>8.0</td>\n",
              "      <td>PF</td>\n",
              "      <td>29.0</td>\n",
              "      <td>6-10</td>\n",
              "      <td>231.0</td>\n",
              "      <td>NaN</td>\n",
              "      <td>5000000.0</td>\n",
              "      <td>104.779752</td>\n",
              "    </tr>\n",
              "  </tbody>\n",
              "</table>\n",
              "</div>"
            ],
            "text/plain": [
              "            Name            Team  ...     Salary Weight in KG\n",
              "0  Avery Bradley  Boston Celtics  ...  7730337.0    81.646560\n",
              "1    Jae Crowder  Boston Celtics  ...  6796117.0   106.594120\n",
              "2   John Holland  Boston Celtics  ...        NaN    92.986360\n",
              "3    R.J. Hunter  Boston Celtics  ...  1148640.0    83.914520\n",
              "4  Jonas Jerebko  Boston Celtics  ...  5000000.0   104.779752\n",
              "\n",
              "[5 rows x 10 columns]"
            ]
          },
          "metadata": {
            "tags": []
          },
          "execution_count": 13
        }
      ]
    },
    {
      "cell_type": "markdown",
      "metadata": {
        "id": "9m5kaV_1vj2T"
      },
      "source": [
        "# Drops Rows with Null Values"
      ]
    },
    {
      "cell_type": "code",
      "metadata": {
        "id": "kHFblNw1vj2U",
        "colab": {
          "base_uri": "https://localhost:8080/",
          "height": 198
        },
        "outputId": "450fd477-09d0-4b3c-df7f-438a4424bd74"
      },
      "source": [
        "import pandas as pd\n",
        "nba=pd.read_csv('nba.csv')      #reads the last five entries of the file\n",
        "nba.head()"
      ],
      "execution_count": null,
      "outputs": [
        {
          "output_type": "execute_result",
          "data": {
            "text/html": [
              "<div>\n",
              "<style scoped>\n",
              "    .dataframe tbody tr th:only-of-type {\n",
              "        vertical-align: middle;\n",
              "    }\n",
              "\n",
              "    .dataframe tbody tr th {\n",
              "        vertical-align: top;\n",
              "    }\n",
              "\n",
              "    .dataframe thead th {\n",
              "        text-align: right;\n",
              "    }\n",
              "</style>\n",
              "<table border=\"1\" class=\"dataframe\">\n",
              "  <thead>\n",
              "    <tr style=\"text-align: right;\">\n",
              "      <th></th>\n",
              "      <th>Name</th>\n",
              "      <th>Team</th>\n",
              "      <th>Number</th>\n",
              "      <th>Position</th>\n",
              "      <th>Age</th>\n",
              "      <th>Height</th>\n",
              "      <th>Weight</th>\n",
              "      <th>College</th>\n",
              "      <th>Salary</th>\n",
              "    </tr>\n",
              "  </thead>\n",
              "  <tbody>\n",
              "    <tr>\n",
              "      <th>0</th>\n",
              "      <td>Avery Bradley</td>\n",
              "      <td>Boston Celtics</td>\n",
              "      <td>0.0</td>\n",
              "      <td>PG</td>\n",
              "      <td>25.0</td>\n",
              "      <td>6-2</td>\n",
              "      <td>180.0</td>\n",
              "      <td>Texas</td>\n",
              "      <td>7730337.0</td>\n",
              "    </tr>\n",
              "    <tr>\n",
              "      <th>1</th>\n",
              "      <td>Jae Crowder</td>\n",
              "      <td>Boston Celtics</td>\n",
              "      <td>99.0</td>\n",
              "      <td>SF</td>\n",
              "      <td>25.0</td>\n",
              "      <td>6-6</td>\n",
              "      <td>235.0</td>\n",
              "      <td>Marquette</td>\n",
              "      <td>6796117.0</td>\n",
              "    </tr>\n",
              "    <tr>\n",
              "      <th>2</th>\n",
              "      <td>John Holland</td>\n",
              "      <td>Boston Celtics</td>\n",
              "      <td>30.0</td>\n",
              "      <td>SG</td>\n",
              "      <td>27.0</td>\n",
              "      <td>6-5</td>\n",
              "      <td>205.0</td>\n",
              "      <td>Boston University</td>\n",
              "      <td>NaN</td>\n",
              "    </tr>\n",
              "    <tr>\n",
              "      <th>3</th>\n",
              "      <td>R.J. Hunter</td>\n",
              "      <td>Boston Celtics</td>\n",
              "      <td>28.0</td>\n",
              "      <td>SG</td>\n",
              "      <td>22.0</td>\n",
              "      <td>6-5</td>\n",
              "      <td>185.0</td>\n",
              "      <td>Georgia State</td>\n",
              "      <td>1148640.0</td>\n",
              "    </tr>\n",
              "    <tr>\n",
              "      <th>4</th>\n",
              "      <td>Jonas Jerebko</td>\n",
              "      <td>Boston Celtics</td>\n",
              "      <td>8.0</td>\n",
              "      <td>PF</td>\n",
              "      <td>29.0</td>\n",
              "      <td>6-10</td>\n",
              "      <td>231.0</td>\n",
              "      <td>NaN</td>\n",
              "      <td>5000000.0</td>\n",
              "    </tr>\n",
              "  </tbody>\n",
              "</table>\n",
              "</div>"
            ],
            "text/plain": [
              "            Name            Team  Number  ... Weight            College     Salary\n",
              "0  Avery Bradley  Boston Celtics     0.0  ...  180.0              Texas  7730337.0\n",
              "1    Jae Crowder  Boston Celtics    99.0  ...  235.0          Marquette  6796117.0\n",
              "2   John Holland  Boston Celtics    30.0  ...  205.0  Boston University        NaN\n",
              "3    R.J. Hunter  Boston Celtics    28.0  ...  185.0      Georgia State  1148640.0\n",
              "4  Jonas Jerebko  Boston Celtics     8.0  ...  231.0                NaN  5000000.0\n",
              "\n",
              "[5 rows x 9 columns]"
            ]
          },
          "metadata": {
            "tags": []
          },
          "execution_count": 14
        }
      ]
    },
    {
      "cell_type": "code",
      "metadata": {
        "id": "C--m1d4jvj2W",
        "colab": {
          "base_uri": "https://localhost:8080/",
          "height": 198
        },
        "outputId": "5484d632-62cb-45b5-b94c-3f015f2553c8"
      },
      "source": [
        "nba.tail()   #print the lasst five five entries"
      ],
      "execution_count": null,
      "outputs": [
        {
          "output_type": "execute_result",
          "data": {
            "text/html": [
              "<div>\n",
              "<style scoped>\n",
              "    .dataframe tbody tr th:only-of-type {\n",
              "        vertical-align: middle;\n",
              "    }\n",
              "\n",
              "    .dataframe tbody tr th {\n",
              "        vertical-align: top;\n",
              "    }\n",
              "\n",
              "    .dataframe thead th {\n",
              "        text-align: right;\n",
              "    }\n",
              "</style>\n",
              "<table border=\"1\" class=\"dataframe\">\n",
              "  <thead>\n",
              "    <tr style=\"text-align: right;\">\n",
              "      <th></th>\n",
              "      <th>Name</th>\n",
              "      <th>Team</th>\n",
              "      <th>Number</th>\n",
              "      <th>Position</th>\n",
              "      <th>Age</th>\n",
              "      <th>Height</th>\n",
              "      <th>Weight</th>\n",
              "      <th>College</th>\n",
              "      <th>Salary</th>\n",
              "    </tr>\n",
              "  </thead>\n",
              "  <tbody>\n",
              "    <tr>\n",
              "      <th>453</th>\n",
              "      <td>Shelvin Mack</td>\n",
              "      <td>Utah Jazz</td>\n",
              "      <td>8.0</td>\n",
              "      <td>PG</td>\n",
              "      <td>26.0</td>\n",
              "      <td>6-3</td>\n",
              "      <td>203.0</td>\n",
              "      <td>Butler</td>\n",
              "      <td>2433333.0</td>\n",
              "    </tr>\n",
              "    <tr>\n",
              "      <th>454</th>\n",
              "      <td>Raul Neto</td>\n",
              "      <td>Utah Jazz</td>\n",
              "      <td>25.0</td>\n",
              "      <td>PG</td>\n",
              "      <td>24.0</td>\n",
              "      <td>6-1</td>\n",
              "      <td>179.0</td>\n",
              "      <td>NaN</td>\n",
              "      <td>900000.0</td>\n",
              "    </tr>\n",
              "    <tr>\n",
              "      <th>455</th>\n",
              "      <td>Tibor Pleiss</td>\n",
              "      <td>Utah Jazz</td>\n",
              "      <td>21.0</td>\n",
              "      <td>C</td>\n",
              "      <td>26.0</td>\n",
              "      <td>7-3</td>\n",
              "      <td>256.0</td>\n",
              "      <td>NaN</td>\n",
              "      <td>2900000.0</td>\n",
              "    </tr>\n",
              "    <tr>\n",
              "      <th>456</th>\n",
              "      <td>Jeff Withey</td>\n",
              "      <td>Utah Jazz</td>\n",
              "      <td>24.0</td>\n",
              "      <td>C</td>\n",
              "      <td>26.0</td>\n",
              "      <td>7-0</td>\n",
              "      <td>231.0</td>\n",
              "      <td>Kansas</td>\n",
              "      <td>947276.0</td>\n",
              "    </tr>\n",
              "    <tr>\n",
              "      <th>457</th>\n",
              "      <td>NaN</td>\n",
              "      <td>NaN</td>\n",
              "      <td>NaN</td>\n",
              "      <td>NaN</td>\n",
              "      <td>NaN</td>\n",
              "      <td>NaN</td>\n",
              "      <td>NaN</td>\n",
              "      <td>NaN</td>\n",
              "      <td>NaN</td>\n",
              "    </tr>\n",
              "  </tbody>\n",
              "</table>\n",
              "</div>"
            ],
            "text/plain": [
              "             Name       Team  Number Position  ...  Height Weight  College     Salary\n",
              "453  Shelvin Mack  Utah Jazz     8.0       PG  ...     6-3  203.0   Butler  2433333.0\n",
              "454     Raul Neto  Utah Jazz    25.0       PG  ...     6-1  179.0      NaN   900000.0\n",
              "455  Tibor Pleiss  Utah Jazz    21.0        C  ...     7-3  256.0      NaN  2900000.0\n",
              "456   Jeff Withey  Utah Jazz    24.0        C  ...     7-0  231.0   Kansas   947276.0\n",
              "457           NaN        NaN     NaN      NaN  ...     NaN    NaN      NaN        NaN\n",
              "\n",
              "[5 rows x 9 columns]"
            ]
          },
          "metadata": {
            "tags": []
          },
          "execution_count": 15
        }
      ]
    },
    {
      "cell_type": "code",
      "metadata": {
        "scrolled": true,
        "id": "G72sxWqzvj2Y",
        "colab": {
          "base_uri": "https://localhost:8080/",
          "height": 225
        },
        "outputId": "b0ab90c9-e904-4146-eb95-005c8578b206"
      },
      "source": [
        "nba.dropna()\n",
        "nba.dropna(how='any', inplace = True)\n",
        "nba.dropna(how='all', inplace=True)\n",
        "nba.tail()"
      ],
      "execution_count": null,
      "outputs": [
        {
          "output_type": "error",
          "ename": "NameError",
          "evalue": "ignored",
          "traceback": [
            "\u001b[0;31m---------------------------------------------------------------------------\u001b[0m",
            "\u001b[0;31mNameError\u001b[0m                                 Traceback (most recent call last)",
            "\u001b[0;32m<ipython-input-13-176f02ca12af>\u001b[0m in \u001b[0;36m<module>\u001b[0;34m()\u001b[0m\n\u001b[0;32m----> 1\u001b[0;31m \u001b[0mnba\u001b[0m\u001b[0;34m.\u001b[0m\u001b[0mdropna\u001b[0m\u001b[0;34m(\u001b[0m\u001b[0;34m)\u001b[0m\u001b[0;34m\u001b[0m\u001b[0;34m\u001b[0m\u001b[0m\n\u001b[0m\u001b[1;32m      2\u001b[0m \u001b[0mnba\u001b[0m\u001b[0;34m.\u001b[0m\u001b[0mdropna\u001b[0m\u001b[0;34m(\u001b[0m\u001b[0mhow\u001b[0m\u001b[0;34m=\u001b[0m\u001b[0;34m'any'\u001b[0m\u001b[0;34m,\u001b[0m \u001b[0minplace\u001b[0m \u001b[0;34m=\u001b[0m \u001b[0;32mTrue\u001b[0m\u001b[0;34m)\u001b[0m\u001b[0;34m\u001b[0m\u001b[0;34m\u001b[0m\u001b[0m\n\u001b[1;32m      3\u001b[0m \u001b[0mnba\u001b[0m\u001b[0;34m.\u001b[0m\u001b[0mdropna\u001b[0m\u001b[0;34m(\u001b[0m\u001b[0mhow\u001b[0m\u001b[0;34m=\u001b[0m\u001b[0;34m'all'\u001b[0m\u001b[0;34m,\u001b[0m \u001b[0minplace\u001b[0m\u001b[0;34m=\u001b[0m\u001b[0;32mTrue\u001b[0m\u001b[0;34m)\u001b[0m\u001b[0;34m\u001b[0m\u001b[0;34m\u001b[0m\u001b[0m\n\u001b[1;32m      4\u001b[0m \u001b[0mnba\u001b[0m\u001b[0;34m.\u001b[0m\u001b[0mtail\u001b[0m\u001b[0;34m(\u001b[0m\u001b[0;34m)\u001b[0m\u001b[0;34m\u001b[0m\u001b[0;34m\u001b[0m\u001b[0m\n",
            "\u001b[0;31mNameError\u001b[0m: name 'nba' is not defined"
          ]
        }
      ]
    },
    {
      "cell_type": "code",
      "metadata": {
        "id": "GXjmF8AOvj2a",
        "colab": {
          "base_uri": "https://localhost:8080/",
          "height": 198
        },
        "outputId": "969ebb83-67e7-4a7d-eeb3-8f20a4774bb0"
      },
      "source": [
        "nba.dropna(axis=1, inplace=True) #It deletes column which consists NaN\n",
        "nba.head()"
      ],
      "execution_count": null,
      "outputs": [
        {
          "output_type": "execute_result",
          "data": {
            "text/html": [
              "<div>\n",
              "<style scoped>\n",
              "    .dataframe tbody tr th:only-of-type {\n",
              "        vertical-align: middle;\n",
              "    }\n",
              "\n",
              "    .dataframe tbody tr th {\n",
              "        vertical-align: top;\n",
              "    }\n",
              "\n",
              "    .dataframe thead th {\n",
              "        text-align: right;\n",
              "    }\n",
              "</style>\n",
              "<table border=\"1\" class=\"dataframe\">\n",
              "  <thead>\n",
              "    <tr style=\"text-align: right;\">\n",
              "      <th></th>\n",
              "      <th>Name</th>\n",
              "      <th>Team</th>\n",
              "      <th>Number</th>\n",
              "      <th>Position</th>\n",
              "      <th>Age</th>\n",
              "      <th>Height</th>\n",
              "      <th>Weight</th>\n",
              "    </tr>\n",
              "  </thead>\n",
              "  <tbody>\n",
              "    <tr>\n",
              "      <th>0</th>\n",
              "      <td>Avery Bradley</td>\n",
              "      <td>Boston Celtics</td>\n",
              "      <td>0.0</td>\n",
              "      <td>PG</td>\n",
              "      <td>25.0</td>\n",
              "      <td>6-2</td>\n",
              "      <td>180.0</td>\n",
              "    </tr>\n",
              "    <tr>\n",
              "      <th>1</th>\n",
              "      <td>Jae Crowder</td>\n",
              "      <td>Boston Celtics</td>\n",
              "      <td>99.0</td>\n",
              "      <td>SF</td>\n",
              "      <td>25.0</td>\n",
              "      <td>6-6</td>\n",
              "      <td>235.0</td>\n",
              "    </tr>\n",
              "    <tr>\n",
              "      <th>2</th>\n",
              "      <td>John Holland</td>\n",
              "      <td>Boston Celtics</td>\n",
              "      <td>30.0</td>\n",
              "      <td>SG</td>\n",
              "      <td>27.0</td>\n",
              "      <td>6-5</td>\n",
              "      <td>205.0</td>\n",
              "    </tr>\n",
              "    <tr>\n",
              "      <th>3</th>\n",
              "      <td>R.J. Hunter</td>\n",
              "      <td>Boston Celtics</td>\n",
              "      <td>28.0</td>\n",
              "      <td>SG</td>\n",
              "      <td>22.0</td>\n",
              "      <td>6-5</td>\n",
              "      <td>185.0</td>\n",
              "    </tr>\n",
              "    <tr>\n",
              "      <th>4</th>\n",
              "      <td>Jonas Jerebko</td>\n",
              "      <td>Boston Celtics</td>\n",
              "      <td>8.0</td>\n",
              "      <td>PF</td>\n",
              "      <td>29.0</td>\n",
              "      <td>6-10</td>\n",
              "      <td>231.0</td>\n",
              "    </tr>\n",
              "  </tbody>\n",
              "</table>\n",
              "</div>"
            ],
            "text/plain": [
              "            Name            Team  Number Position   Age Height  Weight\n",
              "0  Avery Bradley  Boston Celtics     0.0       PG  25.0    6-2   180.0\n",
              "1    Jae Crowder  Boston Celtics    99.0       SF  25.0    6-6   235.0\n",
              "2   John Holland  Boston Celtics    30.0       SG  27.0    6-5   205.0\n",
              "3    R.J. Hunter  Boston Celtics    28.0       SG  22.0    6-5   185.0\n",
              "4  Jonas Jerebko  Boston Celtics     8.0       PF  29.0   6-10   231.0"
            ]
          },
          "metadata": {
            "tags": []
          },
          "execution_count": 17
        }
      ]
    },
    {
      "cell_type": "code",
      "metadata": {
        "id": "QXldZsnle-lk"
      },
      "source": [
        "from google.colab import drive\n",
        "drive.mount('/content/drive')"
      ],
      "execution_count": null,
      "outputs": []
    },
    {
      "cell_type": "code",
      "metadata": {
        "id": "sfULcINnvj2d"
      },
      "source": [
        "nba.dropna(subset=['Salary'])"
      ],
      "execution_count": null,
      "outputs": []
    },
    {
      "cell_type": "markdown",
      "metadata": {
        "id": "O7M7CApKvj2e"
      },
      "source": [
        "# fillna method for Null Values"
      ]
    },
    {
      "cell_type": "code",
      "metadata": {
        "id": "Pg9OrPVxvj2g",
        "colab": {
          "base_uri": "https://localhost:8080/",
          "height": 198
        },
        "outputId": "c162845a-7e3f-46af-fd9c-13e95ea61504"
      },
      "source": [
        "import pandas as pd\n",
        "nba=pd.read_csv('nba.csv')\n",
        "nba.head()"
      ],
      "execution_count": null,
      "outputs": [
        {
          "output_type": "execute_result",
          "data": {
            "text/html": [
              "<div>\n",
              "<style scoped>\n",
              "    .dataframe tbody tr th:only-of-type {\n",
              "        vertical-align: middle;\n",
              "    }\n",
              "\n",
              "    .dataframe tbody tr th {\n",
              "        vertical-align: top;\n",
              "    }\n",
              "\n",
              "    .dataframe thead th {\n",
              "        text-align: right;\n",
              "    }\n",
              "</style>\n",
              "<table border=\"1\" class=\"dataframe\">\n",
              "  <thead>\n",
              "    <tr style=\"text-align: right;\">\n",
              "      <th></th>\n",
              "      <th>Name</th>\n",
              "      <th>Team</th>\n",
              "      <th>Number</th>\n",
              "      <th>Position</th>\n",
              "      <th>Age</th>\n",
              "      <th>Height</th>\n",
              "      <th>Weight</th>\n",
              "      <th>College</th>\n",
              "      <th>Salary</th>\n",
              "    </tr>\n",
              "  </thead>\n",
              "  <tbody>\n",
              "    <tr>\n",
              "      <th>0</th>\n",
              "      <td>Avery Bradley</td>\n",
              "      <td>Boston Celtics</td>\n",
              "      <td>0.0</td>\n",
              "      <td>PG</td>\n",
              "      <td>25.0</td>\n",
              "      <td>6-2</td>\n",
              "      <td>180.0</td>\n",
              "      <td>Texas</td>\n",
              "      <td>7730337.0</td>\n",
              "    </tr>\n",
              "    <tr>\n",
              "      <th>1</th>\n",
              "      <td>Jae Crowder</td>\n",
              "      <td>Boston Celtics</td>\n",
              "      <td>99.0</td>\n",
              "      <td>SF</td>\n",
              "      <td>25.0</td>\n",
              "      <td>6-6</td>\n",
              "      <td>235.0</td>\n",
              "      <td>Marquette</td>\n",
              "      <td>6796117.0</td>\n",
              "    </tr>\n",
              "    <tr>\n",
              "      <th>2</th>\n",
              "      <td>John Holland</td>\n",
              "      <td>Boston Celtics</td>\n",
              "      <td>30.0</td>\n",
              "      <td>SG</td>\n",
              "      <td>27.0</td>\n",
              "      <td>6-5</td>\n",
              "      <td>205.0</td>\n",
              "      <td>Boston University</td>\n",
              "      <td>NaN</td>\n",
              "    </tr>\n",
              "    <tr>\n",
              "      <th>3</th>\n",
              "      <td>R.J. Hunter</td>\n",
              "      <td>Boston Celtics</td>\n",
              "      <td>28.0</td>\n",
              "      <td>SG</td>\n",
              "      <td>22.0</td>\n",
              "      <td>6-5</td>\n",
              "      <td>185.0</td>\n",
              "      <td>Georgia State</td>\n",
              "      <td>1148640.0</td>\n",
              "    </tr>\n",
              "    <tr>\n",
              "      <th>4</th>\n",
              "      <td>Jonas Jerebko</td>\n",
              "      <td>Boston Celtics</td>\n",
              "      <td>8.0</td>\n",
              "      <td>PF</td>\n",
              "      <td>29.0</td>\n",
              "      <td>6-10</td>\n",
              "      <td>231.0</td>\n",
              "      <td>NaN</td>\n",
              "      <td>5000000.0</td>\n",
              "    </tr>\n",
              "  </tbody>\n",
              "</table>\n",
              "</div>"
            ],
            "text/plain": [
              "            Name            Team  Number  ... Weight            College     Salary\n",
              "0  Avery Bradley  Boston Celtics     0.0  ...  180.0              Texas  7730337.0\n",
              "1    Jae Crowder  Boston Celtics    99.0  ...  235.0          Marquette  6796117.0\n",
              "2   John Holland  Boston Celtics    30.0  ...  205.0  Boston University        NaN\n",
              "3    R.J. Hunter  Boston Celtics    28.0  ...  185.0      Georgia State  1148640.0\n",
              "4  Jonas Jerebko  Boston Celtics     8.0  ...  231.0                NaN  5000000.0\n",
              "\n",
              "[5 rows x 9 columns]"
            ]
          },
          "metadata": {
            "tags": []
          },
          "execution_count": 19
        }
      ]
    },
    {
      "cell_type": "code",
      "metadata": {
        "id": "eH6vLibrvj2h",
        "colab": {
          "base_uri": "https://localhost:8080/",
          "height": 198
        },
        "outputId": "e8809b2c-3fcd-40c0-c817-09d07c48e311"
      },
      "source": [
        "nba.fillna(0).head()               #fill 0 where  there is NaN"
      ],
      "execution_count": null,
      "outputs": [
        {
          "output_type": "execute_result",
          "data": {
            "text/html": [
              "<div>\n",
              "<style scoped>\n",
              "    .dataframe tbody tr th:only-of-type {\n",
              "        vertical-align: middle;\n",
              "    }\n",
              "\n",
              "    .dataframe tbody tr th {\n",
              "        vertical-align: top;\n",
              "    }\n",
              "\n",
              "    .dataframe thead th {\n",
              "        text-align: right;\n",
              "    }\n",
              "</style>\n",
              "<table border=\"1\" class=\"dataframe\">\n",
              "  <thead>\n",
              "    <tr style=\"text-align: right;\">\n",
              "      <th></th>\n",
              "      <th>Name</th>\n",
              "      <th>Team</th>\n",
              "      <th>Number</th>\n",
              "      <th>Position</th>\n",
              "      <th>Age</th>\n",
              "      <th>Height</th>\n",
              "      <th>Weight</th>\n",
              "      <th>College</th>\n",
              "      <th>Salary</th>\n",
              "    </tr>\n",
              "  </thead>\n",
              "  <tbody>\n",
              "    <tr>\n",
              "      <th>0</th>\n",
              "      <td>Avery Bradley</td>\n",
              "      <td>Boston Celtics</td>\n",
              "      <td>0.0</td>\n",
              "      <td>PG</td>\n",
              "      <td>25.0</td>\n",
              "      <td>6-2</td>\n",
              "      <td>180.0</td>\n",
              "      <td>Texas</td>\n",
              "      <td>7730337.0</td>\n",
              "    </tr>\n",
              "    <tr>\n",
              "      <th>1</th>\n",
              "      <td>Jae Crowder</td>\n",
              "      <td>Boston Celtics</td>\n",
              "      <td>99.0</td>\n",
              "      <td>SF</td>\n",
              "      <td>25.0</td>\n",
              "      <td>6-6</td>\n",
              "      <td>235.0</td>\n",
              "      <td>Marquette</td>\n",
              "      <td>6796117.0</td>\n",
              "    </tr>\n",
              "    <tr>\n",
              "      <th>2</th>\n",
              "      <td>John Holland</td>\n",
              "      <td>Boston Celtics</td>\n",
              "      <td>30.0</td>\n",
              "      <td>SG</td>\n",
              "      <td>27.0</td>\n",
              "      <td>6-5</td>\n",
              "      <td>205.0</td>\n",
              "      <td>Boston University</td>\n",
              "      <td>0.0</td>\n",
              "    </tr>\n",
              "    <tr>\n",
              "      <th>3</th>\n",
              "      <td>R.J. Hunter</td>\n",
              "      <td>Boston Celtics</td>\n",
              "      <td>28.0</td>\n",
              "      <td>SG</td>\n",
              "      <td>22.0</td>\n",
              "      <td>6-5</td>\n",
              "      <td>185.0</td>\n",
              "      <td>Georgia State</td>\n",
              "      <td>1148640.0</td>\n",
              "    </tr>\n",
              "    <tr>\n",
              "      <th>4</th>\n",
              "      <td>Jonas Jerebko</td>\n",
              "      <td>Boston Celtics</td>\n",
              "      <td>8.0</td>\n",
              "      <td>PF</td>\n",
              "      <td>29.0</td>\n",
              "      <td>6-10</td>\n",
              "      <td>231.0</td>\n",
              "      <td>0</td>\n",
              "      <td>5000000.0</td>\n",
              "    </tr>\n",
              "  </tbody>\n",
              "</table>\n",
              "</div>"
            ],
            "text/plain": [
              "            Name            Team  Number  ... Weight            College     Salary\n",
              "0  Avery Bradley  Boston Celtics     0.0  ...  180.0              Texas  7730337.0\n",
              "1    Jae Crowder  Boston Celtics    99.0  ...  235.0          Marquette  6796117.0\n",
              "2   John Holland  Boston Celtics    30.0  ...  205.0  Boston University        0.0\n",
              "3    R.J. Hunter  Boston Celtics    28.0  ...  185.0      Georgia State  1148640.0\n",
              "4  Jonas Jerebko  Boston Celtics     8.0  ...  231.0                  0  5000000.0\n",
              "\n",
              "[5 rows x 9 columns]"
            ]
          },
          "metadata": {
            "tags": []
          },
          "execution_count": 20
        }
      ]
    },
    {
      "cell_type": "code",
      "metadata": {
        "id": "3z2Rp9Fjvj2j",
        "colab": {
          "base_uri": "https://localhost:8080/",
          "height": 198
        },
        "outputId": "9e8f0680-e86b-4407-e4c9-bd504ef5a29b"
      },
      "source": [
        "nba['Salary']\n",
        "nba['Salary'].fillna(0, inplace=True)     #fill o in place of NaN\n",
        "nba.head()"
      ],
      "execution_count": null,
      "outputs": [
        {
          "output_type": "execute_result",
          "data": {
            "text/html": [
              "<div>\n",
              "<style scoped>\n",
              "    .dataframe tbody tr th:only-of-type {\n",
              "        vertical-align: middle;\n",
              "    }\n",
              "\n",
              "    .dataframe tbody tr th {\n",
              "        vertical-align: top;\n",
              "    }\n",
              "\n",
              "    .dataframe thead th {\n",
              "        text-align: right;\n",
              "    }\n",
              "</style>\n",
              "<table border=\"1\" class=\"dataframe\">\n",
              "  <thead>\n",
              "    <tr style=\"text-align: right;\">\n",
              "      <th></th>\n",
              "      <th>Name</th>\n",
              "      <th>Team</th>\n",
              "      <th>Number</th>\n",
              "      <th>Position</th>\n",
              "      <th>Age</th>\n",
              "      <th>Height</th>\n",
              "      <th>Weight</th>\n",
              "      <th>College</th>\n",
              "      <th>Salary</th>\n",
              "    </tr>\n",
              "  </thead>\n",
              "  <tbody>\n",
              "    <tr>\n",
              "      <th>0</th>\n",
              "      <td>Avery Bradley</td>\n",
              "      <td>Boston Celtics</td>\n",
              "      <td>0.0</td>\n",
              "      <td>PG</td>\n",
              "      <td>25.0</td>\n",
              "      <td>6-2</td>\n",
              "      <td>180.0</td>\n",
              "      <td>Texas</td>\n",
              "      <td>7730337.0</td>\n",
              "    </tr>\n",
              "    <tr>\n",
              "      <th>1</th>\n",
              "      <td>Jae Crowder</td>\n",
              "      <td>Boston Celtics</td>\n",
              "      <td>99.0</td>\n",
              "      <td>SF</td>\n",
              "      <td>25.0</td>\n",
              "      <td>6-6</td>\n",
              "      <td>235.0</td>\n",
              "      <td>Marquette</td>\n",
              "      <td>6796117.0</td>\n",
              "    </tr>\n",
              "    <tr>\n",
              "      <th>2</th>\n",
              "      <td>John Holland</td>\n",
              "      <td>Boston Celtics</td>\n",
              "      <td>30.0</td>\n",
              "      <td>SG</td>\n",
              "      <td>27.0</td>\n",
              "      <td>6-5</td>\n",
              "      <td>205.0</td>\n",
              "      <td>Boston University</td>\n",
              "      <td>0.0</td>\n",
              "    </tr>\n",
              "    <tr>\n",
              "      <th>3</th>\n",
              "      <td>R.J. Hunter</td>\n",
              "      <td>Boston Celtics</td>\n",
              "      <td>28.0</td>\n",
              "      <td>SG</td>\n",
              "      <td>22.0</td>\n",
              "      <td>6-5</td>\n",
              "      <td>185.0</td>\n",
              "      <td>Georgia State</td>\n",
              "      <td>1148640.0</td>\n",
              "    </tr>\n",
              "    <tr>\n",
              "      <th>4</th>\n",
              "      <td>Jonas Jerebko</td>\n",
              "      <td>Boston Celtics</td>\n",
              "      <td>8.0</td>\n",
              "      <td>PF</td>\n",
              "      <td>29.0</td>\n",
              "      <td>6-10</td>\n",
              "      <td>231.0</td>\n",
              "      <td>NaN</td>\n",
              "      <td>5000000.0</td>\n",
              "    </tr>\n",
              "  </tbody>\n",
              "</table>\n",
              "</div>"
            ],
            "text/plain": [
              "            Name            Team  Number  ... Weight            College     Salary\n",
              "0  Avery Bradley  Boston Celtics     0.0  ...  180.0              Texas  7730337.0\n",
              "1    Jae Crowder  Boston Celtics    99.0  ...  235.0          Marquette  6796117.0\n",
              "2   John Holland  Boston Celtics    30.0  ...  205.0  Boston University        0.0\n",
              "3    R.J. Hunter  Boston Celtics    28.0  ...  185.0      Georgia State  1148640.0\n",
              "4  Jonas Jerebko  Boston Celtics     8.0  ...  231.0                NaN  5000000.0\n",
              "\n",
              "[5 rows x 9 columns]"
            ]
          },
          "metadata": {
            "tags": []
          },
          "execution_count": 21
        }
      ]
    },
    {
      "cell_type": "code",
      "metadata": {
        "id": "UoAcLfzGvj2t",
        "colab": {
          "base_uri": "https://localhost:8080/",
          "height": 407
        },
        "outputId": "f9c4229f-d1d8-4ce5-dc65-0e04ddbbfe96"
      },
      "source": [
        "nba['College'].fillna('No College', inplace=True)      #fill NaN with no college.\n",
        "nba"
      ],
      "execution_count": null,
      "outputs": [
        {
          "output_type": "execute_result",
          "data": {
            "text/html": [
              "<div>\n",
              "<style scoped>\n",
              "    .dataframe tbody tr th:only-of-type {\n",
              "        vertical-align: middle;\n",
              "    }\n",
              "\n",
              "    .dataframe tbody tr th {\n",
              "        vertical-align: top;\n",
              "    }\n",
              "\n",
              "    .dataframe thead th {\n",
              "        text-align: right;\n",
              "    }\n",
              "</style>\n",
              "<table border=\"1\" class=\"dataframe\">\n",
              "  <thead>\n",
              "    <tr style=\"text-align: right;\">\n",
              "      <th></th>\n",
              "      <th>Name</th>\n",
              "      <th>Team</th>\n",
              "      <th>Number</th>\n",
              "      <th>Position</th>\n",
              "      <th>Age</th>\n",
              "      <th>Height</th>\n",
              "      <th>Weight</th>\n",
              "      <th>College</th>\n",
              "      <th>Salary</th>\n",
              "    </tr>\n",
              "  </thead>\n",
              "  <tbody>\n",
              "    <tr>\n",
              "      <th>0</th>\n",
              "      <td>Avery Bradley</td>\n",
              "      <td>Boston Celtics</td>\n",
              "      <td>0.0</td>\n",
              "      <td>PG</td>\n",
              "      <td>25.0</td>\n",
              "      <td>6-2</td>\n",
              "      <td>180.0</td>\n",
              "      <td>Texas</td>\n",
              "      <td>7730337.0</td>\n",
              "    </tr>\n",
              "    <tr>\n",
              "      <th>1</th>\n",
              "      <td>Jae Crowder</td>\n",
              "      <td>Boston Celtics</td>\n",
              "      <td>99.0</td>\n",
              "      <td>SF</td>\n",
              "      <td>25.0</td>\n",
              "      <td>6-6</td>\n",
              "      <td>235.0</td>\n",
              "      <td>Marquette</td>\n",
              "      <td>6796117.0</td>\n",
              "    </tr>\n",
              "    <tr>\n",
              "      <th>2</th>\n",
              "      <td>John Holland</td>\n",
              "      <td>Boston Celtics</td>\n",
              "      <td>30.0</td>\n",
              "      <td>SG</td>\n",
              "      <td>27.0</td>\n",
              "      <td>6-5</td>\n",
              "      <td>205.0</td>\n",
              "      <td>Boston University</td>\n",
              "      <td>0.0</td>\n",
              "    </tr>\n",
              "    <tr>\n",
              "      <th>3</th>\n",
              "      <td>R.J. Hunter</td>\n",
              "      <td>Boston Celtics</td>\n",
              "      <td>28.0</td>\n",
              "      <td>SG</td>\n",
              "      <td>22.0</td>\n",
              "      <td>6-5</td>\n",
              "      <td>185.0</td>\n",
              "      <td>Georgia State</td>\n",
              "      <td>1148640.0</td>\n",
              "    </tr>\n",
              "    <tr>\n",
              "      <th>4</th>\n",
              "      <td>Jonas Jerebko</td>\n",
              "      <td>Boston Celtics</td>\n",
              "      <td>8.0</td>\n",
              "      <td>PF</td>\n",
              "      <td>29.0</td>\n",
              "      <td>6-10</td>\n",
              "      <td>231.0</td>\n",
              "      <td>No College</td>\n",
              "      <td>5000000.0</td>\n",
              "    </tr>\n",
              "    <tr>\n",
              "      <th>...</th>\n",
              "      <td>...</td>\n",
              "      <td>...</td>\n",
              "      <td>...</td>\n",
              "      <td>...</td>\n",
              "      <td>...</td>\n",
              "      <td>...</td>\n",
              "      <td>...</td>\n",
              "      <td>...</td>\n",
              "      <td>...</td>\n",
              "    </tr>\n",
              "    <tr>\n",
              "      <th>453</th>\n",
              "      <td>Shelvin Mack</td>\n",
              "      <td>Utah Jazz</td>\n",
              "      <td>8.0</td>\n",
              "      <td>PG</td>\n",
              "      <td>26.0</td>\n",
              "      <td>6-3</td>\n",
              "      <td>203.0</td>\n",
              "      <td>Butler</td>\n",
              "      <td>2433333.0</td>\n",
              "    </tr>\n",
              "    <tr>\n",
              "      <th>454</th>\n",
              "      <td>Raul Neto</td>\n",
              "      <td>Utah Jazz</td>\n",
              "      <td>25.0</td>\n",
              "      <td>PG</td>\n",
              "      <td>24.0</td>\n",
              "      <td>6-1</td>\n",
              "      <td>179.0</td>\n",
              "      <td>No College</td>\n",
              "      <td>900000.0</td>\n",
              "    </tr>\n",
              "    <tr>\n",
              "      <th>455</th>\n",
              "      <td>Tibor Pleiss</td>\n",
              "      <td>Utah Jazz</td>\n",
              "      <td>21.0</td>\n",
              "      <td>C</td>\n",
              "      <td>26.0</td>\n",
              "      <td>7-3</td>\n",
              "      <td>256.0</td>\n",
              "      <td>No College</td>\n",
              "      <td>2900000.0</td>\n",
              "    </tr>\n",
              "    <tr>\n",
              "      <th>456</th>\n",
              "      <td>Jeff Withey</td>\n",
              "      <td>Utah Jazz</td>\n",
              "      <td>24.0</td>\n",
              "      <td>C</td>\n",
              "      <td>26.0</td>\n",
              "      <td>7-0</td>\n",
              "      <td>231.0</td>\n",
              "      <td>Kansas</td>\n",
              "      <td>947276.0</td>\n",
              "    </tr>\n",
              "    <tr>\n",
              "      <th>457</th>\n",
              "      <td>NaN</td>\n",
              "      <td>NaN</td>\n",
              "      <td>NaN</td>\n",
              "      <td>NaN</td>\n",
              "      <td>NaN</td>\n",
              "      <td>NaN</td>\n",
              "      <td>NaN</td>\n",
              "      <td>No College</td>\n",
              "      <td>0.0</td>\n",
              "    </tr>\n",
              "  </tbody>\n",
              "</table>\n",
              "<p>458 rows × 9 columns</p>\n",
              "</div>"
            ],
            "text/plain": [
              "              Name            Team  ...            College     Salary\n",
              "0    Avery Bradley  Boston Celtics  ...              Texas  7730337.0\n",
              "1      Jae Crowder  Boston Celtics  ...          Marquette  6796117.0\n",
              "2     John Holland  Boston Celtics  ...  Boston University        0.0\n",
              "3      R.J. Hunter  Boston Celtics  ...      Georgia State  1148640.0\n",
              "4    Jonas Jerebko  Boston Celtics  ...         No College  5000000.0\n",
              "..             ...             ...  ...                ...        ...\n",
              "453   Shelvin Mack       Utah Jazz  ...             Butler  2433333.0\n",
              "454      Raul Neto       Utah Jazz  ...         No College   900000.0\n",
              "455   Tibor Pleiss       Utah Jazz  ...         No College  2900000.0\n",
              "456    Jeff Withey       Utah Jazz  ...             Kansas   947276.0\n",
              "457            NaN             NaN  ...         No College        0.0\n",
              "\n",
              "[458 rows x 9 columns]"
            ]
          },
          "metadata": {
            "tags": []
          },
          "execution_count": 22
        }
      ]
    },
    {
      "cell_type": "markdown",
      "metadata": {
        "id": "_lI2dnd2vj2u"
      },
      "source": [
        "# sort_values() method in Data Frames"
      ]
    },
    {
      "cell_type": "code",
      "metadata": {
        "id": "z86Bnc6svj2w",
        "colab": {
          "base_uri": "https://localhost:8080/",
          "height": 198
        },
        "outputId": "6f8f99d9-a174-4cdc-b19c-86d7af87dacd"
      },
      "source": [
        "import pandas as pd\n",
        "nba=pd.read_csv('nba.csv')          #read the file nba.csv\n",
        "nba.head()"
      ],
      "execution_count": null,
      "outputs": [
        {
          "output_type": "execute_result",
          "data": {
            "text/html": [
              "<div>\n",
              "<style scoped>\n",
              "    .dataframe tbody tr th:only-of-type {\n",
              "        vertical-align: middle;\n",
              "    }\n",
              "\n",
              "    .dataframe tbody tr th {\n",
              "        vertical-align: top;\n",
              "    }\n",
              "\n",
              "    .dataframe thead th {\n",
              "        text-align: right;\n",
              "    }\n",
              "</style>\n",
              "<table border=\"1\" class=\"dataframe\">\n",
              "  <thead>\n",
              "    <tr style=\"text-align: right;\">\n",
              "      <th></th>\n",
              "      <th>Name</th>\n",
              "      <th>Team</th>\n",
              "      <th>Number</th>\n",
              "      <th>Position</th>\n",
              "      <th>Age</th>\n",
              "      <th>Height</th>\n",
              "      <th>Weight</th>\n",
              "      <th>College</th>\n",
              "      <th>Salary</th>\n",
              "    </tr>\n",
              "  </thead>\n",
              "  <tbody>\n",
              "    <tr>\n",
              "      <th>0</th>\n",
              "      <td>Avery Bradley</td>\n",
              "      <td>Boston Celtics</td>\n",
              "      <td>0.0</td>\n",
              "      <td>PG</td>\n",
              "      <td>25.0</td>\n",
              "      <td>6-2</td>\n",
              "      <td>180.0</td>\n",
              "      <td>Texas</td>\n",
              "      <td>7730337.0</td>\n",
              "    </tr>\n",
              "    <tr>\n",
              "      <th>1</th>\n",
              "      <td>Jae Crowder</td>\n",
              "      <td>Boston Celtics</td>\n",
              "      <td>99.0</td>\n",
              "      <td>SF</td>\n",
              "      <td>25.0</td>\n",
              "      <td>6-6</td>\n",
              "      <td>235.0</td>\n",
              "      <td>Marquette</td>\n",
              "      <td>6796117.0</td>\n",
              "    </tr>\n",
              "    <tr>\n",
              "      <th>2</th>\n",
              "      <td>John Holland</td>\n",
              "      <td>Boston Celtics</td>\n",
              "      <td>30.0</td>\n",
              "      <td>SG</td>\n",
              "      <td>27.0</td>\n",
              "      <td>6-5</td>\n",
              "      <td>205.0</td>\n",
              "      <td>Boston University</td>\n",
              "      <td>NaN</td>\n",
              "    </tr>\n",
              "    <tr>\n",
              "      <th>3</th>\n",
              "      <td>R.J. Hunter</td>\n",
              "      <td>Boston Celtics</td>\n",
              "      <td>28.0</td>\n",
              "      <td>SG</td>\n",
              "      <td>22.0</td>\n",
              "      <td>6-5</td>\n",
              "      <td>185.0</td>\n",
              "      <td>Georgia State</td>\n",
              "      <td>1148640.0</td>\n",
              "    </tr>\n",
              "    <tr>\n",
              "      <th>4</th>\n",
              "      <td>Jonas Jerebko</td>\n",
              "      <td>Boston Celtics</td>\n",
              "      <td>8.0</td>\n",
              "      <td>PF</td>\n",
              "      <td>29.0</td>\n",
              "      <td>6-10</td>\n",
              "      <td>231.0</td>\n",
              "      <td>NaN</td>\n",
              "      <td>5000000.0</td>\n",
              "    </tr>\n",
              "  </tbody>\n",
              "</table>\n",
              "</div>"
            ],
            "text/plain": [
              "            Name            Team  Number  ... Weight            College     Salary\n",
              "0  Avery Bradley  Boston Celtics     0.0  ...  180.0              Texas  7730337.0\n",
              "1    Jae Crowder  Boston Celtics    99.0  ...  235.0          Marquette  6796117.0\n",
              "2   John Holland  Boston Celtics    30.0  ...  205.0  Boston University        NaN\n",
              "3    R.J. Hunter  Boston Celtics    28.0  ...  185.0      Georgia State  1148640.0\n",
              "4  Jonas Jerebko  Boston Celtics     8.0  ...  231.0                NaN  5000000.0\n",
              "\n",
              "[5 rows x 9 columns]"
            ]
          },
          "metadata": {
            "tags": []
          },
          "execution_count": 23
        }
      ]
    },
    {
      "cell_type": "code",
      "metadata": {
        "id": "4TxwzpXRvj2x",
        "colab": {
          "base_uri": "https://localhost:8080/",
          "height": 198
        },
        "outputId": "9c4341de-fdd8-4610-9455-c885c7dde86a"
      },
      "source": [
        "nba.sort_values('Name', ascending=False).head()             #sort in descending values of their names."
      ],
      "execution_count": null,
      "outputs": [
        {
          "output_type": "execute_result",
          "data": {
            "text/html": [
              "<div>\n",
              "<style scoped>\n",
              "    .dataframe tbody tr th:only-of-type {\n",
              "        vertical-align: middle;\n",
              "    }\n",
              "\n",
              "    .dataframe tbody tr th {\n",
              "        vertical-align: top;\n",
              "    }\n",
              "\n",
              "    .dataframe thead th {\n",
              "        text-align: right;\n",
              "    }\n",
              "</style>\n",
              "<table border=\"1\" class=\"dataframe\">\n",
              "  <thead>\n",
              "    <tr style=\"text-align: right;\">\n",
              "      <th></th>\n",
              "      <th>Name</th>\n",
              "      <th>Team</th>\n",
              "      <th>Number</th>\n",
              "      <th>Position</th>\n",
              "      <th>Age</th>\n",
              "      <th>Height</th>\n",
              "      <th>Weight</th>\n",
              "      <th>College</th>\n",
              "      <th>Salary</th>\n",
              "    </tr>\n",
              "  </thead>\n",
              "  <tbody>\n",
              "    <tr>\n",
              "      <th>237</th>\n",
              "      <td>Zaza Pachulia</td>\n",
              "      <td>Dallas Mavericks</td>\n",
              "      <td>27.0</td>\n",
              "      <td>C</td>\n",
              "      <td>32.0</td>\n",
              "      <td>6-11</td>\n",
              "      <td>275.0</td>\n",
              "      <td>NaN</td>\n",
              "      <td>5200000.0</td>\n",
              "    </tr>\n",
              "    <tr>\n",
              "      <th>271</th>\n",
              "      <td>Zach Randolph</td>\n",
              "      <td>Memphis Grizzlies</td>\n",
              "      <td>50.0</td>\n",
              "      <td>PF</td>\n",
              "      <td>34.0</td>\n",
              "      <td>6-9</td>\n",
              "      <td>260.0</td>\n",
              "      <td>Michigan State</td>\n",
              "      <td>9638555.0</td>\n",
              "    </tr>\n",
              "    <tr>\n",
              "      <th>402</th>\n",
              "      <td>Zach LaVine</td>\n",
              "      <td>Minnesota Timberwolves</td>\n",
              "      <td>8.0</td>\n",
              "      <td>PG</td>\n",
              "      <td>21.0</td>\n",
              "      <td>6-5</td>\n",
              "      <td>189.0</td>\n",
              "      <td>UCLA</td>\n",
              "      <td>2148360.0</td>\n",
              "    </tr>\n",
              "    <tr>\n",
              "      <th>270</th>\n",
              "      <td>Xavier Munford</td>\n",
              "      <td>Memphis Grizzlies</td>\n",
              "      <td>14.0</td>\n",
              "      <td>PG</td>\n",
              "      <td>24.0</td>\n",
              "      <td>6-3</td>\n",
              "      <td>180.0</td>\n",
              "      <td>Rhode Island</td>\n",
              "      <td>NaN</td>\n",
              "    </tr>\n",
              "    <tr>\n",
              "      <th>386</th>\n",
              "      <td>Wilson Chandler</td>\n",
              "      <td>Denver Nuggets</td>\n",
              "      <td>21.0</td>\n",
              "      <td>SF</td>\n",
              "      <td>29.0</td>\n",
              "      <td>6-8</td>\n",
              "      <td>225.0</td>\n",
              "      <td>DePaul</td>\n",
              "      <td>10449438.0</td>\n",
              "    </tr>\n",
              "  </tbody>\n",
              "</table>\n",
              "</div>"
            ],
            "text/plain": [
              "                Name                    Team  ...         College      Salary\n",
              "237    Zaza Pachulia        Dallas Mavericks  ...             NaN   5200000.0\n",
              "271    Zach Randolph       Memphis Grizzlies  ...  Michigan State   9638555.0\n",
              "402      Zach LaVine  Minnesota Timberwolves  ...            UCLA   2148360.0\n",
              "270   Xavier Munford       Memphis Grizzlies  ...    Rhode Island         NaN\n",
              "386  Wilson Chandler          Denver Nuggets  ...          DePaul  10449438.0\n",
              "\n",
              "[5 rows x 9 columns]"
            ]
          },
          "metadata": {
            "tags": []
          },
          "execution_count": 60
        }
      ]
    },
    {
      "cell_type": "code",
      "metadata": {
        "id": "DMdf1CwKvj2y",
        "colab": {
          "base_uri": "https://localhost:8080/",
          "height": 407
        },
        "outputId": "df68435f-2ac8-4eee-eef5-9052f6d75e9b"
      },
      "source": [
        "\n",
        "nba.sort_values('Age')\n",
        "nba.sort_values('Age', ascending=False)    #sort the data in descending order of thier age."
      ],
      "execution_count": null,
      "outputs": [
        {
          "output_type": "execute_result",
          "data": {
            "text/html": [
              "<div>\n",
              "<style scoped>\n",
              "    .dataframe tbody tr th:only-of-type {\n",
              "        vertical-align: middle;\n",
              "    }\n",
              "\n",
              "    .dataframe tbody tr th {\n",
              "        vertical-align: top;\n",
              "    }\n",
              "\n",
              "    .dataframe thead th {\n",
              "        text-align: right;\n",
              "    }\n",
              "</style>\n",
              "<table border=\"1\" class=\"dataframe\">\n",
              "  <thead>\n",
              "    <tr style=\"text-align: right;\">\n",
              "      <th></th>\n",
              "      <th>Name</th>\n",
              "      <th>Team</th>\n",
              "      <th>Number</th>\n",
              "      <th>Position</th>\n",
              "      <th>Age</th>\n",
              "      <th>Height</th>\n",
              "      <th>Weight</th>\n",
              "      <th>College</th>\n",
              "      <th>Salary</th>\n",
              "    </tr>\n",
              "  </thead>\n",
              "  <tbody>\n",
              "    <tr>\n",
              "      <th>304</th>\n",
              "      <td>Andre Miller</td>\n",
              "      <td>San Antonio Spurs</td>\n",
              "      <td>24.0</td>\n",
              "      <td>PG</td>\n",
              "      <td>40.0</td>\n",
              "      <td>6-3</td>\n",
              "      <td>200.0</td>\n",
              "      <td>Utah</td>\n",
              "      <td>250750.0</td>\n",
              "    </tr>\n",
              "    <tr>\n",
              "      <th>400</th>\n",
              "      <td>Kevin Garnett</td>\n",
              "      <td>Minnesota Timberwolves</td>\n",
              "      <td>21.0</td>\n",
              "      <td>PF</td>\n",
              "      <td>40.0</td>\n",
              "      <td>6-11</td>\n",
              "      <td>240.0</td>\n",
              "      <td>NaN</td>\n",
              "      <td>8500000.0</td>\n",
              "    </tr>\n",
              "    <tr>\n",
              "      <th>298</th>\n",
              "      <td>Tim Duncan</td>\n",
              "      <td>San Antonio Spurs</td>\n",
              "      <td>21.0</td>\n",
              "      <td>C</td>\n",
              "      <td>40.0</td>\n",
              "      <td>6-11</td>\n",
              "      <td>250.0</td>\n",
              "      <td>Wake Forest</td>\n",
              "      <td>5250000.0</td>\n",
              "    </tr>\n",
              "    <tr>\n",
              "      <th>261</th>\n",
              "      <td>Vince Carter</td>\n",
              "      <td>Memphis Grizzlies</td>\n",
              "      <td>15.0</td>\n",
              "      <td>SG</td>\n",
              "      <td>39.0</td>\n",
              "      <td>6-6</td>\n",
              "      <td>220.0</td>\n",
              "      <td>North Carolina</td>\n",
              "      <td>4088019.0</td>\n",
              "    </tr>\n",
              "    <tr>\n",
              "      <th>102</th>\n",
              "      <td>Pablo Prigioni</td>\n",
              "      <td>Los Angeles Clippers</td>\n",
              "      <td>9.0</td>\n",
              "      <td>PG</td>\n",
              "      <td>39.0</td>\n",
              "      <td>6-3</td>\n",
              "      <td>185.0</td>\n",
              "      <td>NaN</td>\n",
              "      <td>947726.0</td>\n",
              "    </tr>\n",
              "    <tr>\n",
              "      <th>...</th>\n",
              "      <td>...</td>\n",
              "      <td>...</td>\n",
              "      <td>...</td>\n",
              "      <td>...</td>\n",
              "      <td>...</td>\n",
              "      <td>...</td>\n",
              "      <td>...</td>\n",
              "      <td>...</td>\n",
              "      <td>...</td>\n",
              "    </tr>\n",
              "    <tr>\n",
              "      <th>401</th>\n",
              "      <td>Tyus Jones</td>\n",
              "      <td>Minnesota Timberwolves</td>\n",
              "      <td>1.0</td>\n",
              "      <td>PG</td>\n",
              "      <td>20.0</td>\n",
              "      <td>6-2</td>\n",
              "      <td>195.0</td>\n",
              "      <td>Duke</td>\n",
              "      <td>1282080.0</td>\n",
              "    </tr>\n",
              "    <tr>\n",
              "      <th>60</th>\n",
              "      <td>Christian Wood</td>\n",
              "      <td>Philadelphia 76ers</td>\n",
              "      <td>35.0</td>\n",
              "      <td>PF</td>\n",
              "      <td>20.0</td>\n",
              "      <td>6-11</td>\n",
              "      <td>220.0</td>\n",
              "      <td>UNLV</td>\n",
              "      <td>525093.0</td>\n",
              "    </tr>\n",
              "    <tr>\n",
              "      <th>226</th>\n",
              "      <td>Rashad Vaughn</td>\n",
              "      <td>Milwaukee Bucks</td>\n",
              "      <td>20.0</td>\n",
              "      <td>SG</td>\n",
              "      <td>19.0</td>\n",
              "      <td>6-6</td>\n",
              "      <td>202.0</td>\n",
              "      <td>UNLV</td>\n",
              "      <td>1733040.0</td>\n",
              "    </tr>\n",
              "    <tr>\n",
              "      <th>122</th>\n",
              "      <td>Devin Booker</td>\n",
              "      <td>Phoenix Suns</td>\n",
              "      <td>1.0</td>\n",
              "      <td>SG</td>\n",
              "      <td>19.0</td>\n",
              "      <td>6-6</td>\n",
              "      <td>206.0</td>\n",
              "      <td>Kentucky</td>\n",
              "      <td>2127840.0</td>\n",
              "    </tr>\n",
              "    <tr>\n",
              "      <th>457</th>\n",
              "      <td>NaN</td>\n",
              "      <td>NaN</td>\n",
              "      <td>NaN</td>\n",
              "      <td>NaN</td>\n",
              "      <td>NaN</td>\n",
              "      <td>NaN</td>\n",
              "      <td>NaN</td>\n",
              "      <td>NaN</td>\n",
              "      <td>NaN</td>\n",
              "    </tr>\n",
              "  </tbody>\n",
              "</table>\n",
              "<p>458 rows × 9 columns</p>\n",
              "</div>"
            ],
            "text/plain": [
              "               Name                    Team  ...         College     Salary\n",
              "304    Andre Miller       San Antonio Spurs  ...            Utah   250750.0\n",
              "400   Kevin Garnett  Minnesota Timberwolves  ...             NaN  8500000.0\n",
              "298      Tim Duncan       San Antonio Spurs  ...     Wake Forest  5250000.0\n",
              "261    Vince Carter       Memphis Grizzlies  ...  North Carolina  4088019.0\n",
              "102  Pablo Prigioni    Los Angeles Clippers  ...             NaN   947726.0\n",
              "..              ...                     ...  ...             ...        ...\n",
              "401      Tyus Jones  Minnesota Timberwolves  ...            Duke  1282080.0\n",
              "60   Christian Wood      Philadelphia 76ers  ...            UNLV   525093.0\n",
              "226   Rashad Vaughn         Milwaukee Bucks  ...            UNLV  1733040.0\n",
              "122    Devin Booker            Phoenix Suns  ...        Kentucky  2127840.0\n",
              "457             NaN                     NaN  ...             NaN        NaN\n",
              "\n",
              "[458 rows x 9 columns]"
            ]
          },
          "metadata": {
            "tags": []
          },
          "execution_count": 25
        }
      ]
    },
    {
      "cell_type": "code",
      "metadata": {
        "id": "fXgF3wc2vj21",
        "colab": {
          "base_uri": "https://localhost:8080/",
          "height": 407
        },
        "outputId": "169fd017-eaa3-4854-db02-ffe081065e7d"
      },
      "source": [
        "nba.sort_values('Salary') #NaN values would arrange at the end\n",
        "# nba.sort_values('Salary', na_position='last')    #\n",
        "nba.sort_values('Salary', na_position='first')"
      ],
      "execution_count": null,
      "outputs": [
        {
          "output_type": "execute_result",
          "data": {
            "text/html": [
              "<div>\n",
              "<style scoped>\n",
              "    .dataframe tbody tr th:only-of-type {\n",
              "        vertical-align: middle;\n",
              "    }\n",
              "\n",
              "    .dataframe tbody tr th {\n",
              "        vertical-align: top;\n",
              "    }\n",
              "\n",
              "    .dataframe thead th {\n",
              "        text-align: right;\n",
              "    }\n",
              "</style>\n",
              "<table border=\"1\" class=\"dataframe\">\n",
              "  <thead>\n",
              "    <tr style=\"text-align: right;\">\n",
              "      <th></th>\n",
              "      <th>Name</th>\n",
              "      <th>Team</th>\n",
              "      <th>Number</th>\n",
              "      <th>Position</th>\n",
              "      <th>Age</th>\n",
              "      <th>Height</th>\n",
              "      <th>Weight</th>\n",
              "      <th>College</th>\n",
              "      <th>Salary</th>\n",
              "    </tr>\n",
              "  </thead>\n",
              "  <tbody>\n",
              "    <tr>\n",
              "      <th>2</th>\n",
              "      <td>John Holland</td>\n",
              "      <td>Boston Celtics</td>\n",
              "      <td>30.0</td>\n",
              "      <td>SG</td>\n",
              "      <td>27.0</td>\n",
              "      <td>6-5</td>\n",
              "      <td>205.0</td>\n",
              "      <td>Boston University</td>\n",
              "      <td>NaN</td>\n",
              "    </tr>\n",
              "    <tr>\n",
              "      <th>46</th>\n",
              "      <td>Elton Brand</td>\n",
              "      <td>Philadelphia 76ers</td>\n",
              "      <td>42.0</td>\n",
              "      <td>PF</td>\n",
              "      <td>37.0</td>\n",
              "      <td>6-9</td>\n",
              "      <td>254.0</td>\n",
              "      <td>Duke</td>\n",
              "      <td>NaN</td>\n",
              "    </tr>\n",
              "    <tr>\n",
              "      <th>171</th>\n",
              "      <td>Dahntay Jones</td>\n",
              "      <td>Cleveland Cavaliers</td>\n",
              "      <td>30.0</td>\n",
              "      <td>SG</td>\n",
              "      <td>35.0</td>\n",
              "      <td>6-6</td>\n",
              "      <td>225.0</td>\n",
              "      <td>Duke</td>\n",
              "      <td>NaN</td>\n",
              "    </tr>\n",
              "    <tr>\n",
              "      <th>264</th>\n",
              "      <td>Jordan Farmar</td>\n",
              "      <td>Memphis Grizzlies</td>\n",
              "      <td>4.0</td>\n",
              "      <td>PG</td>\n",
              "      <td>29.0</td>\n",
              "      <td>6-2</td>\n",
              "      <td>180.0</td>\n",
              "      <td>UCLA</td>\n",
              "      <td>NaN</td>\n",
              "    </tr>\n",
              "    <tr>\n",
              "      <th>269</th>\n",
              "      <td>Ray McCallum</td>\n",
              "      <td>Memphis Grizzlies</td>\n",
              "      <td>5.0</td>\n",
              "      <td>PG</td>\n",
              "      <td>24.0</td>\n",
              "      <td>6-3</td>\n",
              "      <td>190.0</td>\n",
              "      <td>Detroit</td>\n",
              "      <td>NaN</td>\n",
              "    </tr>\n",
              "    <tr>\n",
              "      <th>...</th>\n",
              "      <td>...</td>\n",
              "      <td>...</td>\n",
              "      <td>...</td>\n",
              "      <td>...</td>\n",
              "      <td>...</td>\n",
              "      <td>...</td>\n",
              "      <td>...</td>\n",
              "      <td>...</td>\n",
              "      <td>...</td>\n",
              "    </tr>\n",
              "    <tr>\n",
              "      <th>339</th>\n",
              "      <td>Chris Bosh</td>\n",
              "      <td>Miami Heat</td>\n",
              "      <td>1.0</td>\n",
              "      <td>PF</td>\n",
              "      <td>32.0</td>\n",
              "      <td>6-11</td>\n",
              "      <td>235.0</td>\n",
              "      <td>Georgia Tech</td>\n",
              "      <td>22192730.0</td>\n",
              "    </tr>\n",
              "    <tr>\n",
              "      <th>251</th>\n",
              "      <td>Dwight Howard</td>\n",
              "      <td>Houston Rockets</td>\n",
              "      <td>12.0</td>\n",
              "      <td>C</td>\n",
              "      <td>30.0</td>\n",
              "      <td>6-11</td>\n",
              "      <td>265.0</td>\n",
              "      <td>NaN</td>\n",
              "      <td>22359364.0</td>\n",
              "    </tr>\n",
              "    <tr>\n",
              "      <th>33</th>\n",
              "      <td>Carmelo Anthony</td>\n",
              "      <td>New York Knicks</td>\n",
              "      <td>7.0</td>\n",
              "      <td>SF</td>\n",
              "      <td>32.0</td>\n",
              "      <td>6-8</td>\n",
              "      <td>240.0</td>\n",
              "      <td>Syracuse</td>\n",
              "      <td>22875000.0</td>\n",
              "    </tr>\n",
              "    <tr>\n",
              "      <th>169</th>\n",
              "      <td>LeBron James</td>\n",
              "      <td>Cleveland Cavaliers</td>\n",
              "      <td>23.0</td>\n",
              "      <td>SF</td>\n",
              "      <td>31.0</td>\n",
              "      <td>6-8</td>\n",
              "      <td>250.0</td>\n",
              "      <td>NaN</td>\n",
              "      <td>22970500.0</td>\n",
              "    </tr>\n",
              "    <tr>\n",
              "      <th>109</th>\n",
              "      <td>Kobe Bryant</td>\n",
              "      <td>Los Angeles Lakers</td>\n",
              "      <td>24.0</td>\n",
              "      <td>SF</td>\n",
              "      <td>37.0</td>\n",
              "      <td>6-6</td>\n",
              "      <td>212.0</td>\n",
              "      <td>NaN</td>\n",
              "      <td>25000000.0</td>\n",
              "    </tr>\n",
              "  </tbody>\n",
              "</table>\n",
              "<p>458 rows × 9 columns</p>\n",
              "</div>"
            ],
            "text/plain": [
              "                Name                 Team  ...            College      Salary\n",
              "2       John Holland       Boston Celtics  ...  Boston University         NaN\n",
              "46       Elton Brand   Philadelphia 76ers  ...               Duke         NaN\n",
              "171    Dahntay Jones  Cleveland Cavaliers  ...               Duke         NaN\n",
              "264    Jordan Farmar    Memphis Grizzlies  ...               UCLA         NaN\n",
              "269     Ray McCallum    Memphis Grizzlies  ...            Detroit         NaN\n",
              "..               ...                  ...  ...                ...         ...\n",
              "339       Chris Bosh           Miami Heat  ...       Georgia Tech  22192730.0\n",
              "251    Dwight Howard      Houston Rockets  ...                NaN  22359364.0\n",
              "33   Carmelo Anthony      New York Knicks  ...           Syracuse  22875000.0\n",
              "169     LeBron James  Cleveland Cavaliers  ...                NaN  22970500.0\n",
              "109      Kobe Bryant   Los Angeles Lakers  ...                NaN  25000000.0\n",
              "\n",
              "[458 rows x 9 columns]"
            ]
          },
          "metadata": {
            "tags": []
          },
          "execution_count": 61
        }
      ]
    },
    {
      "cell_type": "markdown",
      "metadata": {
        "id": "sv2AVtNtvj22"
      },
      "source": [
        "# sortvalues() for multi columns in pandas"
      ]
    },
    {
      "cell_type": "code",
      "metadata": {
        "id": "ebdZCTM_vj22",
        "colab": {
          "base_uri": "https://localhost:8080/",
          "height": 198
        },
        "outputId": "ddd39bc0-a4df-468d-fcf4-ceca8134c4e1"
      },
      "source": [
        "import pandas as pd\n",
        "nba=pd.read_csv('nba.csv')\n",
        "nba.head()"
      ],
      "execution_count": null,
      "outputs": [
        {
          "output_type": "execute_result",
          "data": {
            "text/html": [
              "<div>\n",
              "<style scoped>\n",
              "    .dataframe tbody tr th:only-of-type {\n",
              "        vertical-align: middle;\n",
              "    }\n",
              "\n",
              "    .dataframe tbody tr th {\n",
              "        vertical-align: top;\n",
              "    }\n",
              "\n",
              "    .dataframe thead th {\n",
              "        text-align: right;\n",
              "    }\n",
              "</style>\n",
              "<table border=\"1\" class=\"dataframe\">\n",
              "  <thead>\n",
              "    <tr style=\"text-align: right;\">\n",
              "      <th></th>\n",
              "      <th>Name</th>\n",
              "      <th>Team</th>\n",
              "      <th>Number</th>\n",
              "      <th>Position</th>\n",
              "      <th>Age</th>\n",
              "      <th>Height</th>\n",
              "      <th>Weight</th>\n",
              "      <th>College</th>\n",
              "      <th>Salary</th>\n",
              "    </tr>\n",
              "  </thead>\n",
              "  <tbody>\n",
              "    <tr>\n",
              "      <th>0</th>\n",
              "      <td>Avery Bradley</td>\n",
              "      <td>Boston Celtics</td>\n",
              "      <td>0.0</td>\n",
              "      <td>PG</td>\n",
              "      <td>25.0</td>\n",
              "      <td>6-2</td>\n",
              "      <td>180.0</td>\n",
              "      <td>Texas</td>\n",
              "      <td>7730337.0</td>\n",
              "    </tr>\n",
              "    <tr>\n",
              "      <th>1</th>\n",
              "      <td>Jae Crowder</td>\n",
              "      <td>Boston Celtics</td>\n",
              "      <td>99.0</td>\n",
              "      <td>SF</td>\n",
              "      <td>25.0</td>\n",
              "      <td>6-6</td>\n",
              "      <td>235.0</td>\n",
              "      <td>Marquette</td>\n",
              "      <td>6796117.0</td>\n",
              "    </tr>\n",
              "    <tr>\n",
              "      <th>2</th>\n",
              "      <td>John Holland</td>\n",
              "      <td>Boston Celtics</td>\n",
              "      <td>30.0</td>\n",
              "      <td>SG</td>\n",
              "      <td>27.0</td>\n",
              "      <td>6-5</td>\n",
              "      <td>205.0</td>\n",
              "      <td>Boston University</td>\n",
              "      <td>NaN</td>\n",
              "    </tr>\n",
              "    <tr>\n",
              "      <th>3</th>\n",
              "      <td>R.J. Hunter</td>\n",
              "      <td>Boston Celtics</td>\n",
              "      <td>28.0</td>\n",
              "      <td>SG</td>\n",
              "      <td>22.0</td>\n",
              "      <td>6-5</td>\n",
              "      <td>185.0</td>\n",
              "      <td>Georgia State</td>\n",
              "      <td>1148640.0</td>\n",
              "    </tr>\n",
              "    <tr>\n",
              "      <th>4</th>\n",
              "      <td>Jonas Jerebko</td>\n",
              "      <td>Boston Celtics</td>\n",
              "      <td>8.0</td>\n",
              "      <td>PF</td>\n",
              "      <td>29.0</td>\n",
              "      <td>6-10</td>\n",
              "      <td>231.0</td>\n",
              "      <td>NaN</td>\n",
              "      <td>5000000.0</td>\n",
              "    </tr>\n",
              "  </tbody>\n",
              "</table>\n",
              "</div>"
            ],
            "text/plain": [
              "            Name            Team  Number  ... Weight            College     Salary\n",
              "0  Avery Bradley  Boston Celtics     0.0  ...  180.0              Texas  7730337.0\n",
              "1    Jae Crowder  Boston Celtics    99.0  ...  235.0          Marquette  6796117.0\n",
              "2   John Holland  Boston Celtics    30.0  ...  205.0  Boston University        NaN\n",
              "3    R.J. Hunter  Boston Celtics    28.0  ...  185.0      Georgia State  1148640.0\n",
              "4  Jonas Jerebko  Boston Celtics     8.0  ...  231.0                NaN  5000000.0\n",
              "\n",
              "[5 rows x 9 columns]"
            ]
          },
          "metadata": {
            "tags": []
          },
          "execution_count": 27
        }
      ]
    },
    {
      "cell_type": "code",
      "metadata": {
        "id": "13cbUCmOvj23",
        "colab": {
          "base_uri": "https://localhost:8080/",
          "height": 407
        },
        "outputId": "e3d15b5d-ca8e-4397-e07d-c2fdf570a89f"
      },
      "source": [
        "nba.sort_values(['Team', 'Name'])\n",
        "# nba.sort_values(['Team', 'Name'], ascending=[True,False])        #SORT THE FOLOOWING IN THE ORDER OF THIR TEAM AND NAME"
      ],
      "execution_count": null,
      "outputs": [
        {
          "output_type": "execute_result",
          "data": {
            "text/html": [
              "<div>\n",
              "<style scoped>\n",
              "    .dataframe tbody tr th:only-of-type {\n",
              "        vertical-align: middle;\n",
              "    }\n",
              "\n",
              "    .dataframe tbody tr th {\n",
              "        vertical-align: top;\n",
              "    }\n",
              "\n",
              "    .dataframe thead th {\n",
              "        text-align: right;\n",
              "    }\n",
              "</style>\n",
              "<table border=\"1\" class=\"dataframe\">\n",
              "  <thead>\n",
              "    <tr style=\"text-align: right;\">\n",
              "      <th></th>\n",
              "      <th>Name</th>\n",
              "      <th>Team</th>\n",
              "      <th>Number</th>\n",
              "      <th>Position</th>\n",
              "      <th>Age</th>\n",
              "      <th>Height</th>\n",
              "      <th>Weight</th>\n",
              "      <th>College</th>\n",
              "      <th>Salary</th>\n",
              "    </tr>\n",
              "  </thead>\n",
              "  <tbody>\n",
              "    <tr>\n",
              "      <th>312</th>\n",
              "      <td>Al Horford</td>\n",
              "      <td>Atlanta Hawks</td>\n",
              "      <td>15.0</td>\n",
              "      <td>C</td>\n",
              "      <td>30.0</td>\n",
              "      <td>6-10</td>\n",
              "      <td>245.0</td>\n",
              "      <td>Florida</td>\n",
              "      <td>12000000.0</td>\n",
              "    </tr>\n",
              "    <tr>\n",
              "      <th>318</th>\n",
              "      <td>Dennis Schroder</td>\n",
              "      <td>Atlanta Hawks</td>\n",
              "      <td>17.0</td>\n",
              "      <td>PG</td>\n",
              "      <td>22.0</td>\n",
              "      <td>6-1</td>\n",
              "      <td>172.0</td>\n",
              "      <td>NaN</td>\n",
              "      <td>1763400.0</td>\n",
              "    </tr>\n",
              "    <tr>\n",
              "      <th>323</th>\n",
              "      <td>Jeff Teague</td>\n",
              "      <td>Atlanta Hawks</td>\n",
              "      <td>0.0</td>\n",
              "      <td>PG</td>\n",
              "      <td>27.0</td>\n",
              "      <td>6-2</td>\n",
              "      <td>186.0</td>\n",
              "      <td>Wake Forest</td>\n",
              "      <td>8000000.0</td>\n",
              "    </tr>\n",
              "    <tr>\n",
              "      <th>309</th>\n",
              "      <td>Kent Bazemore</td>\n",
              "      <td>Atlanta Hawks</td>\n",
              "      <td>24.0</td>\n",
              "      <td>SF</td>\n",
              "      <td>26.0</td>\n",
              "      <td>6-5</td>\n",
              "      <td>201.0</td>\n",
              "      <td>Old Dominion</td>\n",
              "      <td>2000000.0</td>\n",
              "    </tr>\n",
              "    <tr>\n",
              "      <th>311</th>\n",
              "      <td>Kirk Hinrich</td>\n",
              "      <td>Atlanta Hawks</td>\n",
              "      <td>12.0</td>\n",
              "      <td>SG</td>\n",
              "      <td>35.0</td>\n",
              "      <td>6-4</td>\n",
              "      <td>190.0</td>\n",
              "      <td>Kansas</td>\n",
              "      <td>2854940.0</td>\n",
              "    </tr>\n",
              "    <tr>\n",
              "      <th>...</th>\n",
              "      <td>...</td>\n",
              "      <td>...</td>\n",
              "      <td>...</td>\n",
              "      <td>...</td>\n",
              "      <td>...</td>\n",
              "      <td>...</td>\n",
              "      <td>...</td>\n",
              "      <td>...</td>\n",
              "      <td>...</td>\n",
              "    </tr>\n",
              "    <tr>\n",
              "      <th>376</th>\n",
              "      <td>Markieff Morris</td>\n",
              "      <td>Washington Wizards</td>\n",
              "      <td>5.0</td>\n",
              "      <td>PF</td>\n",
              "      <td>26.0</td>\n",
              "      <td>6-10</td>\n",
              "      <td>245.0</td>\n",
              "      <td>Kansas</td>\n",
              "      <td>8000000.0</td>\n",
              "    </tr>\n",
              "    <tr>\n",
              "      <th>375</th>\n",
              "      <td>Nene Hilario</td>\n",
              "      <td>Washington Wizards</td>\n",
              "      <td>42.0</td>\n",
              "      <td>C</td>\n",
              "      <td>33.0</td>\n",
              "      <td>6-11</td>\n",
              "      <td>250.0</td>\n",
              "      <td>NaN</td>\n",
              "      <td>13000000.0</td>\n",
              "    </tr>\n",
              "    <tr>\n",
              "      <th>378</th>\n",
              "      <td>Otto Porter Jr.</td>\n",
              "      <td>Washington Wizards</td>\n",
              "      <td>22.0</td>\n",
              "      <td>SF</td>\n",
              "      <td>23.0</td>\n",
              "      <td>6-8</td>\n",
              "      <td>198.0</td>\n",
              "      <td>Georgetown</td>\n",
              "      <td>4662960.0</td>\n",
              "    </tr>\n",
              "    <tr>\n",
              "      <th>379</th>\n",
              "      <td>Ramon Sessions</td>\n",
              "      <td>Washington Wizards</td>\n",
              "      <td>7.0</td>\n",
              "      <td>PG</td>\n",
              "      <td>30.0</td>\n",
              "      <td>6-3</td>\n",
              "      <td>190.0</td>\n",
              "      <td>Nevada</td>\n",
              "      <td>2170465.0</td>\n",
              "    </tr>\n",
              "    <tr>\n",
              "      <th>457</th>\n",
              "      <td>NaN</td>\n",
              "      <td>NaN</td>\n",
              "      <td>NaN</td>\n",
              "      <td>NaN</td>\n",
              "      <td>NaN</td>\n",
              "      <td>NaN</td>\n",
              "      <td>NaN</td>\n",
              "      <td>NaN</td>\n",
              "      <td>NaN</td>\n",
              "    </tr>\n",
              "  </tbody>\n",
              "</table>\n",
              "<p>458 rows × 9 columns</p>\n",
              "</div>"
            ],
            "text/plain": [
              "                Name                Team  ...       College      Salary\n",
              "312       Al Horford       Atlanta Hawks  ...       Florida  12000000.0\n",
              "318  Dennis Schroder       Atlanta Hawks  ...           NaN   1763400.0\n",
              "323      Jeff Teague       Atlanta Hawks  ...   Wake Forest   8000000.0\n",
              "309    Kent Bazemore       Atlanta Hawks  ...  Old Dominion   2000000.0\n",
              "311     Kirk Hinrich       Atlanta Hawks  ...        Kansas   2854940.0\n",
              "..               ...                 ...  ...           ...         ...\n",
              "376  Markieff Morris  Washington Wizards  ...        Kansas   8000000.0\n",
              "375     Nene Hilario  Washington Wizards  ...           NaN  13000000.0\n",
              "378  Otto Porter Jr.  Washington Wizards  ...    Georgetown   4662960.0\n",
              "379   Ramon Sessions  Washington Wizards  ...        Nevada   2170465.0\n",
              "457              NaN                 NaN  ...           NaN         NaN\n",
              "\n",
              "[458 rows x 9 columns]"
            ]
          },
          "metadata": {
            "tags": []
          },
          "execution_count": 28
        }
      ]
    },
    {
      "cell_type": "markdown",
      "metadata": {
        "id": "RhRk6FPxvj25"
      },
      "source": [
        "# rank() method in pandas"
      ]
    },
    {
      "cell_type": "code",
      "metadata": {
        "id": "5306XQrdvj25",
        "colab": {
          "base_uri": "https://localhost:8080/",
          "height": 198
        },
        "outputId": "967033e5-2d09-444c-d22e-3d87cba8b2a7"
      },
      "source": [
        "import pandas as pd\n",
        "nba=pd.read_csv('nba.csv').dropna(how='all')\n",
        "nba['Salary']=nba['Salary'].fillna(0).astype('int')\n",
        "nba.head()"
      ],
      "execution_count": null,
      "outputs": [
        {
          "output_type": "execute_result",
          "data": {
            "text/html": [
              "<div>\n",
              "<style scoped>\n",
              "    .dataframe tbody tr th:only-of-type {\n",
              "        vertical-align: middle;\n",
              "    }\n",
              "\n",
              "    .dataframe tbody tr th {\n",
              "        vertical-align: top;\n",
              "    }\n",
              "\n",
              "    .dataframe thead th {\n",
              "        text-align: right;\n",
              "    }\n",
              "</style>\n",
              "<table border=\"1\" class=\"dataframe\">\n",
              "  <thead>\n",
              "    <tr style=\"text-align: right;\">\n",
              "      <th></th>\n",
              "      <th>Name</th>\n",
              "      <th>Team</th>\n",
              "      <th>Number</th>\n",
              "      <th>Position</th>\n",
              "      <th>Age</th>\n",
              "      <th>Height</th>\n",
              "      <th>Weight</th>\n",
              "      <th>College</th>\n",
              "      <th>Salary</th>\n",
              "    </tr>\n",
              "  </thead>\n",
              "  <tbody>\n",
              "    <tr>\n",
              "      <th>0</th>\n",
              "      <td>Avery Bradley</td>\n",
              "      <td>Boston Celtics</td>\n",
              "      <td>0.0</td>\n",
              "      <td>PG</td>\n",
              "      <td>25.0</td>\n",
              "      <td>6-2</td>\n",
              "      <td>180.0</td>\n",
              "      <td>Texas</td>\n",
              "      <td>7730337</td>\n",
              "    </tr>\n",
              "    <tr>\n",
              "      <th>1</th>\n",
              "      <td>Jae Crowder</td>\n",
              "      <td>Boston Celtics</td>\n",
              "      <td>99.0</td>\n",
              "      <td>SF</td>\n",
              "      <td>25.0</td>\n",
              "      <td>6-6</td>\n",
              "      <td>235.0</td>\n",
              "      <td>Marquette</td>\n",
              "      <td>6796117</td>\n",
              "    </tr>\n",
              "    <tr>\n",
              "      <th>2</th>\n",
              "      <td>John Holland</td>\n",
              "      <td>Boston Celtics</td>\n",
              "      <td>30.0</td>\n",
              "      <td>SG</td>\n",
              "      <td>27.0</td>\n",
              "      <td>6-5</td>\n",
              "      <td>205.0</td>\n",
              "      <td>Boston University</td>\n",
              "      <td>0</td>\n",
              "    </tr>\n",
              "    <tr>\n",
              "      <th>3</th>\n",
              "      <td>R.J. Hunter</td>\n",
              "      <td>Boston Celtics</td>\n",
              "      <td>28.0</td>\n",
              "      <td>SG</td>\n",
              "      <td>22.0</td>\n",
              "      <td>6-5</td>\n",
              "      <td>185.0</td>\n",
              "      <td>Georgia State</td>\n",
              "      <td>1148640</td>\n",
              "    </tr>\n",
              "    <tr>\n",
              "      <th>4</th>\n",
              "      <td>Jonas Jerebko</td>\n",
              "      <td>Boston Celtics</td>\n",
              "      <td>8.0</td>\n",
              "      <td>PF</td>\n",
              "      <td>29.0</td>\n",
              "      <td>6-10</td>\n",
              "      <td>231.0</td>\n",
              "      <td>NaN</td>\n",
              "      <td>5000000</td>\n",
              "    </tr>\n",
              "  </tbody>\n",
              "</table>\n",
              "</div>"
            ],
            "text/plain": [
              "            Name            Team  Number  ... Weight            College   Salary\n",
              "0  Avery Bradley  Boston Celtics     0.0  ...  180.0              Texas  7730337\n",
              "1    Jae Crowder  Boston Celtics    99.0  ...  235.0          Marquette  6796117\n",
              "2   John Holland  Boston Celtics    30.0  ...  205.0  Boston University        0\n",
              "3    R.J. Hunter  Boston Celtics    28.0  ...  185.0      Georgia State  1148640\n",
              "4  Jonas Jerebko  Boston Celtics     8.0  ...  231.0                NaN  5000000\n",
              "\n",
              "[5 rows x 9 columns]"
            ]
          },
          "metadata": {
            "tags": []
          },
          "execution_count": 29
        }
      ]
    },
    {
      "cell_type": "code",
      "metadata": {
        "id": "OrGss5MNvj26",
        "colab": {
          "base_uri": "https://localhost:8080/",
          "height": 407
        },
        "outputId": "40056a7a-dce1-4ff5-bc4e-53e41c3b784b"
      },
      "source": [
        "#I want to decide on the basis of salary, that whose salary is highest comes at rank 1 and so on..\n",
        "nba['Salary'].rank()\n",
        "# nba['Salary'][91]\n",
        "nba['Salary'].rank(ascending=False).astype(int)\n",
        "nba['Salary Rank']=nba['Salary'].rank(ascending=False).astype(int)\n",
        "nba.sort_values(by='Salary', ascending=False)\n",
        "# nba.head()"
      ],
      "execution_count": null,
      "outputs": [
        {
          "output_type": "execute_result",
          "data": {
            "text/html": [
              "<div>\n",
              "<style scoped>\n",
              "    .dataframe tbody tr th:only-of-type {\n",
              "        vertical-align: middle;\n",
              "    }\n",
              "\n",
              "    .dataframe tbody tr th {\n",
              "        vertical-align: top;\n",
              "    }\n",
              "\n",
              "    .dataframe thead th {\n",
              "        text-align: right;\n",
              "    }\n",
              "</style>\n",
              "<table border=\"1\" class=\"dataframe\">\n",
              "  <thead>\n",
              "    <tr style=\"text-align: right;\">\n",
              "      <th></th>\n",
              "      <th>Name</th>\n",
              "      <th>Team</th>\n",
              "      <th>Number</th>\n",
              "      <th>Position</th>\n",
              "      <th>Age</th>\n",
              "      <th>Height</th>\n",
              "      <th>Weight</th>\n",
              "      <th>College</th>\n",
              "      <th>Salary</th>\n",
              "      <th>Salary Rank</th>\n",
              "    </tr>\n",
              "  </thead>\n",
              "  <tbody>\n",
              "    <tr>\n",
              "      <th>109</th>\n",
              "      <td>Kobe Bryant</td>\n",
              "      <td>Los Angeles Lakers</td>\n",
              "      <td>24.0</td>\n",
              "      <td>SF</td>\n",
              "      <td>37.0</td>\n",
              "      <td>6-6</td>\n",
              "      <td>212.0</td>\n",
              "      <td>NaN</td>\n",
              "      <td>25000000</td>\n",
              "      <td>1</td>\n",
              "    </tr>\n",
              "    <tr>\n",
              "      <th>169</th>\n",
              "      <td>LeBron James</td>\n",
              "      <td>Cleveland Cavaliers</td>\n",
              "      <td>23.0</td>\n",
              "      <td>SF</td>\n",
              "      <td>31.0</td>\n",
              "      <td>6-8</td>\n",
              "      <td>250.0</td>\n",
              "      <td>NaN</td>\n",
              "      <td>22970500</td>\n",
              "      <td>2</td>\n",
              "    </tr>\n",
              "    <tr>\n",
              "      <th>33</th>\n",
              "      <td>Carmelo Anthony</td>\n",
              "      <td>New York Knicks</td>\n",
              "      <td>7.0</td>\n",
              "      <td>SF</td>\n",
              "      <td>32.0</td>\n",
              "      <td>6-8</td>\n",
              "      <td>240.0</td>\n",
              "      <td>Syracuse</td>\n",
              "      <td>22875000</td>\n",
              "      <td>3</td>\n",
              "    </tr>\n",
              "    <tr>\n",
              "      <th>251</th>\n",
              "      <td>Dwight Howard</td>\n",
              "      <td>Houston Rockets</td>\n",
              "      <td>12.0</td>\n",
              "      <td>C</td>\n",
              "      <td>30.0</td>\n",
              "      <td>6-11</td>\n",
              "      <td>265.0</td>\n",
              "      <td>NaN</td>\n",
              "      <td>22359364</td>\n",
              "      <td>4</td>\n",
              "    </tr>\n",
              "    <tr>\n",
              "      <th>339</th>\n",
              "      <td>Chris Bosh</td>\n",
              "      <td>Miami Heat</td>\n",
              "      <td>1.0</td>\n",
              "      <td>PF</td>\n",
              "      <td>32.0</td>\n",
              "      <td>6-11</td>\n",
              "      <td>235.0</td>\n",
              "      <td>Georgia Tech</td>\n",
              "      <td>22192730</td>\n",
              "      <td>5</td>\n",
              "    </tr>\n",
              "    <tr>\n",
              "      <th>...</th>\n",
              "      <td>...</td>\n",
              "      <td>...</td>\n",
              "      <td>...</td>\n",
              "      <td>...</td>\n",
              "      <td>...</td>\n",
              "      <td>...</td>\n",
              "      <td>...</td>\n",
              "      <td>...</td>\n",
              "      <td>...</td>\n",
              "      <td>...</td>\n",
              "    </tr>\n",
              "    <tr>\n",
              "      <th>353</th>\n",
              "      <td>Dorell Wright</td>\n",
              "      <td>Miami Heat</td>\n",
              "      <td>11.0</td>\n",
              "      <td>SF</td>\n",
              "      <td>30.0</td>\n",
              "      <td>6-9</td>\n",
              "      <td>205.0</td>\n",
              "      <td>NaN</td>\n",
              "      <td>0</td>\n",
              "      <td>452</td>\n",
              "    </tr>\n",
              "    <tr>\n",
              "      <th>264</th>\n",
              "      <td>Jordan Farmar</td>\n",
              "      <td>Memphis Grizzlies</td>\n",
              "      <td>4.0</td>\n",
              "      <td>PG</td>\n",
              "      <td>29.0</td>\n",
              "      <td>6-2</td>\n",
              "      <td>180.0</td>\n",
              "      <td>UCLA</td>\n",
              "      <td>0</td>\n",
              "      <td>452</td>\n",
              "    </tr>\n",
              "    <tr>\n",
              "      <th>409</th>\n",
              "      <td>Greg Smith</td>\n",
              "      <td>Minnesota Timberwolves</td>\n",
              "      <td>4.0</td>\n",
              "      <td>PF</td>\n",
              "      <td>25.0</td>\n",
              "      <td>6-10</td>\n",
              "      <td>250.0</td>\n",
              "      <td>Fresno State</td>\n",
              "      <td>0</td>\n",
              "      <td>452</td>\n",
              "    </tr>\n",
              "    <tr>\n",
              "      <th>273</th>\n",
              "      <td>Alex Stepheson</td>\n",
              "      <td>Memphis Grizzlies</td>\n",
              "      <td>35.0</td>\n",
              "      <td>PF</td>\n",
              "      <td>28.0</td>\n",
              "      <td>6-10</td>\n",
              "      <td>270.0</td>\n",
              "      <td>USC</td>\n",
              "      <td>0</td>\n",
              "      <td>452</td>\n",
              "    </tr>\n",
              "    <tr>\n",
              "      <th>270</th>\n",
              "      <td>Xavier Munford</td>\n",
              "      <td>Memphis Grizzlies</td>\n",
              "      <td>14.0</td>\n",
              "      <td>PG</td>\n",
              "      <td>24.0</td>\n",
              "      <td>6-3</td>\n",
              "      <td>180.0</td>\n",
              "      <td>Rhode Island</td>\n",
              "      <td>0</td>\n",
              "      <td>452</td>\n",
              "    </tr>\n",
              "  </tbody>\n",
              "</table>\n",
              "<p>457 rows × 10 columns</p>\n",
              "</div>"
            ],
            "text/plain": [
              "                Name                    Team  ...    Salary Salary Rank\n",
              "109      Kobe Bryant      Los Angeles Lakers  ...  25000000           1\n",
              "169     LeBron James     Cleveland Cavaliers  ...  22970500           2\n",
              "33   Carmelo Anthony         New York Knicks  ...  22875000           3\n",
              "251    Dwight Howard         Houston Rockets  ...  22359364           4\n",
              "339       Chris Bosh              Miami Heat  ...  22192730           5\n",
              "..               ...                     ...  ...       ...         ...\n",
              "353    Dorell Wright              Miami Heat  ...         0         452\n",
              "264    Jordan Farmar       Memphis Grizzlies  ...         0         452\n",
              "409       Greg Smith  Minnesota Timberwolves  ...         0         452\n",
              "273   Alex Stepheson       Memphis Grizzlies  ...         0         452\n",
              "270   Xavier Munford       Memphis Grizzlies  ...         0         452\n",
              "\n",
              "[457 rows x 10 columns]"
            ]
          },
          "metadata": {
            "tags": []
          },
          "execution_count": 30
        }
      ]
    },
    {
      "cell_type": "markdown",
      "metadata": {
        "id": "EAUOqC9Mvj26"
      },
      "source": [
        "# Filtering DataFrames in pandas"
      ]
    },
    {
      "cell_type": "code",
      "metadata": {
        "id": "-QOw_kBmvj27",
        "colab": {
          "base_uri": "https://localhost:8080/",
          "height": 198
        },
        "outputId": "344ae5d9-32c8-448f-b2e0-cb92100535f9"
      },
      "source": [
        "import pandas as pd\n",
        "df=pd.read_csv('employees.csv')\n",
        "df.head()\n"
      ],
      "execution_count": null,
      "outputs": [
        {
          "output_type": "execute_result",
          "data": {
            "text/html": [
              "<div>\n",
              "<style scoped>\n",
              "    .dataframe tbody tr th:only-of-type {\n",
              "        vertical-align: middle;\n",
              "    }\n",
              "\n",
              "    .dataframe tbody tr th {\n",
              "        vertical-align: top;\n",
              "    }\n",
              "\n",
              "    .dataframe thead th {\n",
              "        text-align: right;\n",
              "    }\n",
              "</style>\n",
              "<table border=\"1\" class=\"dataframe\">\n",
              "  <thead>\n",
              "    <tr style=\"text-align: right;\">\n",
              "      <th></th>\n",
              "      <th>First Name</th>\n",
              "      <th>Gender</th>\n",
              "      <th>Start Date</th>\n",
              "      <th>Last Login Time</th>\n",
              "      <th>Salary</th>\n",
              "      <th>Bonus %</th>\n",
              "      <th>Senior Management</th>\n",
              "      <th>Team</th>\n",
              "    </tr>\n",
              "  </thead>\n",
              "  <tbody>\n",
              "    <tr>\n",
              "      <th>0</th>\n",
              "      <td>Douglas</td>\n",
              "      <td>Male</td>\n",
              "      <td>8/6/1993</td>\n",
              "      <td>12:42 PM</td>\n",
              "      <td>97308</td>\n",
              "      <td>6.945</td>\n",
              "      <td>True</td>\n",
              "      <td>Marketing</td>\n",
              "    </tr>\n",
              "    <tr>\n",
              "      <th>1</th>\n",
              "      <td>Thomas</td>\n",
              "      <td>Male</td>\n",
              "      <td>3/31/1996</td>\n",
              "      <td>6:53 AM</td>\n",
              "      <td>61933</td>\n",
              "      <td>4.170</td>\n",
              "      <td>True</td>\n",
              "      <td>NaN</td>\n",
              "    </tr>\n",
              "    <tr>\n",
              "      <th>2</th>\n",
              "      <td>Maria</td>\n",
              "      <td>Female</td>\n",
              "      <td>4/23/1993</td>\n",
              "      <td>11:17 AM</td>\n",
              "      <td>130590</td>\n",
              "      <td>11.858</td>\n",
              "      <td>False</td>\n",
              "      <td>Finance</td>\n",
              "    </tr>\n",
              "    <tr>\n",
              "      <th>3</th>\n",
              "      <td>Jerry</td>\n",
              "      <td>Male</td>\n",
              "      <td>3/4/2005</td>\n",
              "      <td>1:00 PM</td>\n",
              "      <td>138705</td>\n",
              "      <td>9.340</td>\n",
              "      <td>True</td>\n",
              "      <td>Finance</td>\n",
              "    </tr>\n",
              "    <tr>\n",
              "      <th>4</th>\n",
              "      <td>Larry</td>\n",
              "      <td>Male</td>\n",
              "      <td>1/24/1998</td>\n",
              "      <td>4:47 PM</td>\n",
              "      <td>101004</td>\n",
              "      <td>1.389</td>\n",
              "      <td>True</td>\n",
              "      <td>Client Services</td>\n",
              "    </tr>\n",
              "  </tbody>\n",
              "</table>\n",
              "</div>"
            ],
            "text/plain": [
              "  First Name  Gender Start Date  ... Bonus %  Senior Management             Team\n",
              "0    Douglas    Male   8/6/1993  ...   6.945               True        Marketing\n",
              "1     Thomas    Male  3/31/1996  ...   4.170               True              NaN\n",
              "2      Maria  Female  4/23/1993  ...  11.858              False          Finance\n",
              "3      Jerry    Male   3/4/2005  ...   9.340               True          Finance\n",
              "4      Larry    Male  1/24/1998  ...   1.389               True  Client Services\n",
              "\n",
              "[5 rows x 8 columns]"
            ]
          },
          "metadata": {
            "tags": []
          },
          "execution_count": 31
        }
      ]
    },
    {
      "cell_type": "code",
      "metadata": {
        "id": "5PhmvL-Wvj28",
        "colab": {
          "base_uri": "https://localhost:8080/"
        },
        "outputId": "fc70977a-135c-4520-c156-52c6ce9236c2"
      },
      "source": [
        "df.info() #at the end size is there, when we look at the output it is claer that start date and last login time data type is object, but actually they are object iof adte time same as in Senior management has object type but actually it is bool and if correct data type is not there then more memory is required\n"
      ],
      "execution_count": null,
      "outputs": [
        {
          "output_type": "stream",
          "text": [
            "<class 'pandas.core.frame.DataFrame'>\n",
            "RangeIndex: 1000 entries, 0 to 999\n",
            "Data columns (total 8 columns):\n",
            " #   Column             Non-Null Count  Dtype  \n",
            "---  ------             --------------  -----  \n",
            " 0   First Name         933 non-null    object \n",
            " 1   Gender             855 non-null    object \n",
            " 2   Start Date         1000 non-null   object \n",
            " 3   Last Login Time    1000 non-null   object \n",
            " 4   Salary             1000 non-null   int64  \n",
            " 5   Bonus %            1000 non-null   float64\n",
            " 6   Senior Management  933 non-null    object \n",
            " 7   Team               957 non-null    object \n",
            "dtypes: float64(1), int64(1), object(6)\n",
            "memory usage: 62.6+ KB\n"
          ],
          "name": "stdout"
        }
      ]
    },
    {
      "cell_type": "code",
      "metadata": {
        "id": "zX2fSQqhvj28",
        "colab": {
          "base_uri": "https://localhost:8080/"
        },
        "outputId": "f150dee1-2a4e-4dbf-f9d8-c2fcec44d73f"
      },
      "source": [
        "df['Start Date']\n"
      ],
      "execution_count": null,
      "outputs": [
        {
          "output_type": "execute_result",
          "data": {
            "text/plain": [
              "0        8/6/1993\n",
              "1       3/31/1996\n",
              "2       4/23/1993\n",
              "3        3/4/2005\n",
              "4       1/24/1998\n",
              "          ...    \n",
              "995    11/23/2014\n",
              "996     1/31/1984\n",
              "997     5/20/2013\n",
              "998     4/20/2013\n",
              "999     5/15/2012\n",
              "Name: Start Date, Length: 1000, dtype: object"
            ]
          },
          "metadata": {
            "tags": []
          },
          "execution_count": 33
        }
      ]
    },
    {
      "cell_type": "code",
      "metadata": {
        "id": "PZ94eCMFvj29"
      },
      "source": [
        "# pd.to_datetime(df['Start Date'])\n",
        "df['Start Date']=pd.to_datetime(df['Start Date'])"
      ],
      "execution_count": null,
      "outputs": []
    },
    {
      "cell_type": "code",
      "metadata": {
        "id": "u_7IlCDLvj29",
        "colab": {
          "base_uri": "https://localhost:8080/"
        },
        "outputId": "d5efc20b-a0ba-451b-bca3-8a75a2007cbf"
      },
      "source": [
        "df['Last Login Time'].head()"
      ],
      "execution_count": null,
      "outputs": [
        {
          "output_type": "execute_result",
          "data": {
            "text/plain": [
              "0    12:42 PM\n",
              "1     6:53 AM\n",
              "2    11:17 AM\n",
              "3     1:00 PM\n",
              "4     4:47 PM\n",
              "Name: Last Login Time, dtype: object"
            ]
          },
          "metadata": {
            "tags": []
          },
          "execution_count": 36
        }
      ]
    },
    {
      "cell_type": "code",
      "metadata": {
        "id": "ap5chj9Rvj2-"
      },
      "source": [
        "# pd.to_datetime(df['Last Login Time'])\n",
        "df['Last Login Time']=pd.to_datetime(df['Last Login Time'])"
      ],
      "execution_count": null,
      "outputs": []
    },
    {
      "cell_type": "code",
      "metadata": {
        "id": "FHHtb8Wxvj2_"
      },
      "source": [
        "df['Senior Management']=df['Senior Management'].astype(bool)\n"
      ],
      "execution_count": null,
      "outputs": []
    },
    {
      "cell_type": "code",
      "metadata": {
        "id": "TObPZByyvj2_"
      },
      "source": [
        "df['Gender']=df['Gender'].astype('category')"
      ],
      "execution_count": null,
      "outputs": []
    },
    {
      "cell_type": "code",
      "metadata": {
        "id": "l83uj0zzvj3A",
        "colab": {
          "base_uri": "https://localhost:8080/"
        },
        "outputId": "bb091b55-ce48-461d-9c12-a598ed8646e4"
      },
      "source": [
        "df.info()                                 #GIVES THE INFORATION PROVIDED"
      ],
      "execution_count": null,
      "outputs": [
        {
          "output_type": "stream",
          "text": [
            "<class 'pandas.core.frame.DataFrame'>\n",
            "RangeIndex: 1000 entries, 0 to 999\n",
            "Data columns (total 8 columns):\n",
            " #   Column             Non-Null Count  Dtype         \n",
            "---  ------             --------------  -----         \n",
            " 0   First Name         933 non-null    object        \n",
            " 1   Gender             855 non-null    category      \n",
            " 2   Start Date         1000 non-null   datetime64[ns]\n",
            " 3   Last Login Time    1000 non-null   datetime64[ns]\n",
            " 4   Salary             1000 non-null   int64         \n",
            " 5   Bonus %            1000 non-null   float64       \n",
            " 6   Senior Management  1000 non-null   bool          \n",
            " 7   Team               957 non-null    object        \n",
            "dtypes: bool(1), category(1), datetime64[ns](2), float64(1), int64(1), object(2)\n",
            "memory usage: 49.0+ KB\n"
          ],
          "name": "stdout"
        }
      ]
    },
    {
      "cell_type": "code",
      "metadata": {
        "id": "kB2Hj069vj3A",
        "colab": {
          "base_uri": "https://localhost:8080/"
        },
        "outputId": "4213246e-1115-4d82-c416-9b922023fca6"
      },
      "source": [
        "#date time can be converted by attribute parse_date available in read_csv method\n",
        "import pandas as pd\n",
        "df=pd.read_csv('employees.csv', parse_dates=['Start Date', 'Last Login Time'])\n",
        "df['Gender']=df['Gender'].astype('category')\n",
        "df['Senior Management']=df['Senior Management'].astype('bool')\n",
        "df.info()"
      ],
      "execution_count": null,
      "outputs": [
        {
          "output_type": "stream",
          "text": [
            "<class 'pandas.core.frame.DataFrame'>\n",
            "RangeIndex: 1000 entries, 0 to 999\n",
            "Data columns (total 8 columns):\n",
            " #   Column             Non-Null Count  Dtype         \n",
            "---  ------             --------------  -----         \n",
            " 0   First Name         933 non-null    object        \n",
            " 1   Gender             855 non-null    category      \n",
            " 2   Start Date         1000 non-null   datetime64[ns]\n",
            " 3   Last Login Time    1000 non-null   datetime64[ns]\n",
            " 4   Salary             1000 non-null   int64         \n",
            " 5   Bonus %            1000 non-null   float64       \n",
            " 6   Senior Management  1000 non-null   bool          \n",
            " 7   Team               957 non-null    object        \n",
            "dtypes: bool(1), category(1), datetime64[ns](2), float64(1), int64(1), object(2)\n",
            "memory usage: 49.0+ KB\n"
          ],
          "name": "stdout"
        }
      ]
    },
    {
      "cell_type": "markdown",
      "metadata": {
        "id": "UnUppIGfvj3B"
      },
      "source": [
        "# Filtering a dataframe based on condition"
      ]
    },
    {
      "cell_type": "code",
      "metadata": {
        "id": "AlbXSyFGvj3B",
        "colab": {
          "base_uri": "https://localhost:8080/",
          "height": 198
        },
        "outputId": "1aeae185-5d5a-428b-a712-83ee35f1e138"
      },
      "source": [
        "import pandas as pd\n",
        "df=pd.read_csv('employees.csv', parse_dates=['Start Date', 'Last Login Time'])\n",
        "df['Gender']=df['Gender'].astype('category')\n",
        "df['Senior Management']=df['Senior Management'].astype('bool')\n",
        "df.head()"
      ],
      "execution_count": null,
      "outputs": [
        {
          "output_type": "execute_result",
          "data": {
            "text/html": [
              "<div>\n",
              "<style scoped>\n",
              "    .dataframe tbody tr th:only-of-type {\n",
              "        vertical-align: middle;\n",
              "    }\n",
              "\n",
              "    .dataframe tbody tr th {\n",
              "        vertical-align: top;\n",
              "    }\n",
              "\n",
              "    .dataframe thead th {\n",
              "        text-align: right;\n",
              "    }\n",
              "</style>\n",
              "<table border=\"1\" class=\"dataframe\">\n",
              "  <thead>\n",
              "    <tr style=\"text-align: right;\">\n",
              "      <th></th>\n",
              "      <th>First Name</th>\n",
              "      <th>Gender</th>\n",
              "      <th>Start Date</th>\n",
              "      <th>Last Login Time</th>\n",
              "      <th>Salary</th>\n",
              "      <th>Bonus %</th>\n",
              "      <th>Senior Management</th>\n",
              "      <th>Team</th>\n",
              "    </tr>\n",
              "  </thead>\n",
              "  <tbody>\n",
              "    <tr>\n",
              "      <th>0</th>\n",
              "      <td>Douglas</td>\n",
              "      <td>Male</td>\n",
              "      <td>1993-08-06</td>\n",
              "      <td>2021-04-17 12:42:00</td>\n",
              "      <td>97308</td>\n",
              "      <td>6.945</td>\n",
              "      <td>True</td>\n",
              "      <td>Marketing</td>\n",
              "    </tr>\n",
              "    <tr>\n",
              "      <th>1</th>\n",
              "      <td>Thomas</td>\n",
              "      <td>Male</td>\n",
              "      <td>1996-03-31</td>\n",
              "      <td>2021-04-17 06:53:00</td>\n",
              "      <td>61933</td>\n",
              "      <td>4.170</td>\n",
              "      <td>True</td>\n",
              "      <td>NaN</td>\n",
              "    </tr>\n",
              "    <tr>\n",
              "      <th>2</th>\n",
              "      <td>Maria</td>\n",
              "      <td>Female</td>\n",
              "      <td>1993-04-23</td>\n",
              "      <td>2021-04-17 11:17:00</td>\n",
              "      <td>130590</td>\n",
              "      <td>11.858</td>\n",
              "      <td>False</td>\n",
              "      <td>Finance</td>\n",
              "    </tr>\n",
              "    <tr>\n",
              "      <th>3</th>\n",
              "      <td>Jerry</td>\n",
              "      <td>Male</td>\n",
              "      <td>2005-03-04</td>\n",
              "      <td>2021-04-17 13:00:00</td>\n",
              "      <td>138705</td>\n",
              "      <td>9.340</td>\n",
              "      <td>True</td>\n",
              "      <td>Finance</td>\n",
              "    </tr>\n",
              "    <tr>\n",
              "      <th>4</th>\n",
              "      <td>Larry</td>\n",
              "      <td>Male</td>\n",
              "      <td>1998-01-24</td>\n",
              "      <td>2021-04-17 16:47:00</td>\n",
              "      <td>101004</td>\n",
              "      <td>1.389</td>\n",
              "      <td>True</td>\n",
              "      <td>Client Services</td>\n",
              "    </tr>\n",
              "  </tbody>\n",
              "</table>\n",
              "</div>"
            ],
            "text/plain": [
              "  First Name  Gender Start Date  ... Bonus %  Senior Management             Team\n",
              "0    Douglas    Male 1993-08-06  ...   6.945               True        Marketing\n",
              "1     Thomas    Male 1996-03-31  ...   4.170               True              NaN\n",
              "2      Maria  Female 1993-04-23  ...  11.858              False          Finance\n",
              "3      Jerry    Male 2005-03-04  ...   9.340               True          Finance\n",
              "4      Larry    Male 1998-01-24  ...   1.389               True  Client Services\n",
              "\n",
              "[5 rows x 8 columns]"
            ]
          },
          "metadata": {
            "tags": []
          },
          "execution_count": 43
        }
      ]
    },
    {
      "cell_type": "code",
      "metadata": {
        "id": "hS37MKfHvj3C"
      },
      "source": [
        "#If i want to apply condition on gender that i want only those value in gender series which are of male category\n",
        "# df['Gender']\n",
        "df['mask']=df['Gender']=='Male'\n",
        "# df\n",
        "# df[mask]\n",
        "# df[df['Gender']=='Female'] #This will extract only those value in a column whose value are male"
      ],
      "execution_count": null,
      "outputs": []
    },
    {
      "cell_type": "code",
      "metadata": {
        "id": "QIqdRtGZvj3C",
        "colab": {
          "base_uri": "https://localhost:8080/",
          "height": 407
        },
        "outputId": "397a03f5-2045-44c7-880b-19c08580beae"
      },
      "source": [
        "mask1=df['Team']=='Finance'\n",
        "mask2=df['Gender']=='Male'\n",
        "\n",
        "# df['Filter']=df[mask1 & mask2]\n",
        "df[mask1]\n",
        "df[df['Team']=='Finance']"
      ],
      "execution_count": null,
      "outputs": [
        {
          "output_type": "execute_result",
          "data": {
            "text/html": [
              "<div>\n",
              "<style scoped>\n",
              "    .dataframe tbody tr th:only-of-type {\n",
              "        vertical-align: middle;\n",
              "    }\n",
              "\n",
              "    .dataframe tbody tr th {\n",
              "        vertical-align: top;\n",
              "    }\n",
              "\n",
              "    .dataframe thead th {\n",
              "        text-align: right;\n",
              "    }\n",
              "</style>\n",
              "<table border=\"1\" class=\"dataframe\">\n",
              "  <thead>\n",
              "    <tr style=\"text-align: right;\">\n",
              "      <th></th>\n",
              "      <th>First Name</th>\n",
              "      <th>Gender</th>\n",
              "      <th>Start Date</th>\n",
              "      <th>Last Login Time</th>\n",
              "      <th>Salary</th>\n",
              "      <th>Bonus %</th>\n",
              "      <th>Senior Management</th>\n",
              "      <th>Team</th>\n",
              "      <th>mask</th>\n",
              "    </tr>\n",
              "  </thead>\n",
              "  <tbody>\n",
              "    <tr>\n",
              "      <th>2</th>\n",
              "      <td>Maria</td>\n",
              "      <td>Female</td>\n",
              "      <td>1993-04-23</td>\n",
              "      <td>2021-04-17 11:17:00</td>\n",
              "      <td>130590</td>\n",
              "      <td>11.858</td>\n",
              "      <td>False</td>\n",
              "      <td>Finance</td>\n",
              "      <td>False</td>\n",
              "    </tr>\n",
              "    <tr>\n",
              "      <th>3</th>\n",
              "      <td>Jerry</td>\n",
              "      <td>Male</td>\n",
              "      <td>2005-03-04</td>\n",
              "      <td>2021-04-17 13:00:00</td>\n",
              "      <td>138705</td>\n",
              "      <td>9.340</td>\n",
              "      <td>True</td>\n",
              "      <td>Finance</td>\n",
              "      <td>True</td>\n",
              "    </tr>\n",
              "    <tr>\n",
              "      <th>7</th>\n",
              "      <td>NaN</td>\n",
              "      <td>Female</td>\n",
              "      <td>2015-07-20</td>\n",
              "      <td>2021-04-17 10:43:00</td>\n",
              "      <td>45906</td>\n",
              "      <td>11.598</td>\n",
              "      <td>True</td>\n",
              "      <td>Finance</td>\n",
              "      <td>False</td>\n",
              "    </tr>\n",
              "    <tr>\n",
              "      <th>14</th>\n",
              "      <td>Kimberly</td>\n",
              "      <td>Female</td>\n",
              "      <td>1999-01-14</td>\n",
              "      <td>2021-04-17 07:13:00</td>\n",
              "      <td>41426</td>\n",
              "      <td>14.543</td>\n",
              "      <td>True</td>\n",
              "      <td>Finance</td>\n",
              "      <td>False</td>\n",
              "    </tr>\n",
              "    <tr>\n",
              "      <th>46</th>\n",
              "      <td>Bruce</td>\n",
              "      <td>Male</td>\n",
              "      <td>2009-11-28</td>\n",
              "      <td>2021-04-17 22:47:00</td>\n",
              "      <td>114796</td>\n",
              "      <td>6.796</td>\n",
              "      <td>False</td>\n",
              "      <td>Finance</td>\n",
              "      <td>True</td>\n",
              "    </tr>\n",
              "    <tr>\n",
              "      <th>...</th>\n",
              "      <td>...</td>\n",
              "      <td>...</td>\n",
              "      <td>...</td>\n",
              "      <td>...</td>\n",
              "      <td>...</td>\n",
              "      <td>...</td>\n",
              "      <td>...</td>\n",
              "      <td>...</td>\n",
              "      <td>...</td>\n",
              "    </tr>\n",
              "    <tr>\n",
              "      <th>907</th>\n",
              "      <td>Elizabeth</td>\n",
              "      <td>Female</td>\n",
              "      <td>1998-07-27</td>\n",
              "      <td>2021-04-17 11:12:00</td>\n",
              "      <td>137144</td>\n",
              "      <td>10.081</td>\n",
              "      <td>False</td>\n",
              "      <td>Finance</td>\n",
              "      <td>False</td>\n",
              "    </tr>\n",
              "    <tr>\n",
              "      <th>954</th>\n",
              "      <td>Joe</td>\n",
              "      <td>Male</td>\n",
              "      <td>1980-01-19</td>\n",
              "      <td>2021-04-17 16:06:00</td>\n",
              "      <td>119667</td>\n",
              "      <td>1.148</td>\n",
              "      <td>True</td>\n",
              "      <td>Finance</td>\n",
              "      <td>True</td>\n",
              "    </tr>\n",
              "    <tr>\n",
              "      <th>987</th>\n",
              "      <td>Gloria</td>\n",
              "      <td>Female</td>\n",
              "      <td>2014-12-08</td>\n",
              "      <td>2021-04-17 05:08:00</td>\n",
              "      <td>136709</td>\n",
              "      <td>10.331</td>\n",
              "      <td>True</td>\n",
              "      <td>Finance</td>\n",
              "      <td>False</td>\n",
              "    </tr>\n",
              "    <tr>\n",
              "      <th>992</th>\n",
              "      <td>Anthony</td>\n",
              "      <td>Male</td>\n",
              "      <td>2011-10-16</td>\n",
              "      <td>2021-04-17 08:35:00</td>\n",
              "      <td>112769</td>\n",
              "      <td>11.625</td>\n",
              "      <td>True</td>\n",
              "      <td>Finance</td>\n",
              "      <td>True</td>\n",
              "    </tr>\n",
              "    <tr>\n",
              "      <th>996</th>\n",
              "      <td>Phillip</td>\n",
              "      <td>Male</td>\n",
              "      <td>1984-01-31</td>\n",
              "      <td>2021-04-17 06:30:00</td>\n",
              "      <td>42392</td>\n",
              "      <td>19.675</td>\n",
              "      <td>False</td>\n",
              "      <td>Finance</td>\n",
              "      <td>True</td>\n",
              "    </tr>\n",
              "  </tbody>\n",
              "</table>\n",
              "<p>102 rows × 9 columns</p>\n",
              "</div>"
            ],
            "text/plain": [
              "    First Name  Gender Start Date  ... Senior Management     Team   mask\n",
              "2        Maria  Female 1993-04-23  ...             False  Finance  False\n",
              "3        Jerry    Male 2005-03-04  ...              True  Finance   True\n",
              "7          NaN  Female 2015-07-20  ...              True  Finance  False\n",
              "14    Kimberly  Female 1999-01-14  ...              True  Finance  False\n",
              "46       Bruce    Male 2009-11-28  ...             False  Finance   True\n",
              "..         ...     ...        ...  ...               ...      ...    ...\n",
              "907  Elizabeth  Female 1998-07-27  ...             False  Finance  False\n",
              "954        Joe    Male 1980-01-19  ...              True  Finance   True\n",
              "987     Gloria  Female 2014-12-08  ...              True  Finance  False\n",
              "992    Anthony    Male 2011-10-16  ...              True  Finance   True\n",
              "996    Phillip    Male 1984-01-31  ...             False  Finance   True\n",
              "\n",
              "[102 rows x 9 columns]"
            ]
          },
          "metadata": {
            "tags": []
          },
          "execution_count": 45
        }
      ]
    },
    {
      "cell_type": "code",
      "metadata": {
        "id": "ro9ATjNVvj3D",
        "colab": {
          "base_uri": "https://localhost:8080/",
          "height": 407
        },
        "outputId": "198545ae-1a97-4f46-f5cc-fb754fb330b9"
      },
      "source": [
        "mask=df['Senior Management']\n",
        "# df[df['Senior Management']] #As senior management data is already in boolean so it can be done directly'\n",
        "df[mask]"
      ],
      "execution_count": null,
      "outputs": [
        {
          "output_type": "execute_result",
          "data": {
            "text/html": [
              "<div>\n",
              "<style scoped>\n",
              "    .dataframe tbody tr th:only-of-type {\n",
              "        vertical-align: middle;\n",
              "    }\n",
              "\n",
              "    .dataframe tbody tr th {\n",
              "        vertical-align: top;\n",
              "    }\n",
              "\n",
              "    .dataframe thead th {\n",
              "        text-align: right;\n",
              "    }\n",
              "</style>\n",
              "<table border=\"1\" class=\"dataframe\">\n",
              "  <thead>\n",
              "    <tr style=\"text-align: right;\">\n",
              "      <th></th>\n",
              "      <th>First Name</th>\n",
              "      <th>Gender</th>\n",
              "      <th>Start Date</th>\n",
              "      <th>Last Login Time</th>\n",
              "      <th>Salary</th>\n",
              "      <th>Bonus %</th>\n",
              "      <th>Senior Management</th>\n",
              "      <th>Team</th>\n",
              "      <th>mask</th>\n",
              "    </tr>\n",
              "  </thead>\n",
              "  <tbody>\n",
              "    <tr>\n",
              "      <th>0</th>\n",
              "      <td>Douglas</td>\n",
              "      <td>Male</td>\n",
              "      <td>1993-08-06</td>\n",
              "      <td>2021-04-17 12:42:00</td>\n",
              "      <td>97308</td>\n",
              "      <td>6.945</td>\n",
              "      <td>True</td>\n",
              "      <td>Marketing</td>\n",
              "      <td>True</td>\n",
              "    </tr>\n",
              "    <tr>\n",
              "      <th>1</th>\n",
              "      <td>Thomas</td>\n",
              "      <td>Male</td>\n",
              "      <td>1996-03-31</td>\n",
              "      <td>2021-04-17 06:53:00</td>\n",
              "      <td>61933</td>\n",
              "      <td>4.170</td>\n",
              "      <td>True</td>\n",
              "      <td>NaN</td>\n",
              "      <td>True</td>\n",
              "    </tr>\n",
              "    <tr>\n",
              "      <th>3</th>\n",
              "      <td>Jerry</td>\n",
              "      <td>Male</td>\n",
              "      <td>2005-03-04</td>\n",
              "      <td>2021-04-17 13:00:00</td>\n",
              "      <td>138705</td>\n",
              "      <td>9.340</td>\n",
              "      <td>True</td>\n",
              "      <td>Finance</td>\n",
              "      <td>True</td>\n",
              "    </tr>\n",
              "    <tr>\n",
              "      <th>4</th>\n",
              "      <td>Larry</td>\n",
              "      <td>Male</td>\n",
              "      <td>1998-01-24</td>\n",
              "      <td>2021-04-17 16:47:00</td>\n",
              "      <td>101004</td>\n",
              "      <td>1.389</td>\n",
              "      <td>True</td>\n",
              "      <td>Client Services</td>\n",
              "      <td>True</td>\n",
              "    </tr>\n",
              "    <tr>\n",
              "      <th>6</th>\n",
              "      <td>Ruby</td>\n",
              "      <td>Female</td>\n",
              "      <td>1987-08-17</td>\n",
              "      <td>2021-04-17 16:20:00</td>\n",
              "      <td>65476</td>\n",
              "      <td>10.012</td>\n",
              "      <td>True</td>\n",
              "      <td>Product</td>\n",
              "      <td>False</td>\n",
              "    </tr>\n",
              "    <tr>\n",
              "      <th>...</th>\n",
              "      <td>...</td>\n",
              "      <td>...</td>\n",
              "      <td>...</td>\n",
              "      <td>...</td>\n",
              "      <td>...</td>\n",
              "      <td>...</td>\n",
              "      <td>...</td>\n",
              "      <td>...</td>\n",
              "      <td>...</td>\n",
              "    </tr>\n",
              "    <tr>\n",
              "      <th>991</th>\n",
              "      <td>Rose</td>\n",
              "      <td>Female</td>\n",
              "      <td>2002-08-25</td>\n",
              "      <td>2021-04-17 05:12:00</td>\n",
              "      <td>134505</td>\n",
              "      <td>11.051</td>\n",
              "      <td>True</td>\n",
              "      <td>Marketing</td>\n",
              "      <td>False</td>\n",
              "    </tr>\n",
              "    <tr>\n",
              "      <th>992</th>\n",
              "      <td>Anthony</td>\n",
              "      <td>Male</td>\n",
              "      <td>2011-10-16</td>\n",
              "      <td>2021-04-17 08:35:00</td>\n",
              "      <td>112769</td>\n",
              "      <td>11.625</td>\n",
              "      <td>True</td>\n",
              "      <td>Finance</td>\n",
              "      <td>True</td>\n",
              "    </tr>\n",
              "    <tr>\n",
              "      <th>993</th>\n",
              "      <td>Tina</td>\n",
              "      <td>Female</td>\n",
              "      <td>1997-05-15</td>\n",
              "      <td>2021-04-17 15:53:00</td>\n",
              "      <td>56450</td>\n",
              "      <td>19.040</td>\n",
              "      <td>True</td>\n",
              "      <td>Engineering</td>\n",
              "      <td>False</td>\n",
              "    </tr>\n",
              "    <tr>\n",
              "      <th>994</th>\n",
              "      <td>George</td>\n",
              "      <td>Male</td>\n",
              "      <td>2013-06-21</td>\n",
              "      <td>2021-04-17 17:47:00</td>\n",
              "      <td>98874</td>\n",
              "      <td>4.479</td>\n",
              "      <td>True</td>\n",
              "      <td>Marketing</td>\n",
              "      <td>True</td>\n",
              "    </tr>\n",
              "    <tr>\n",
              "      <th>999</th>\n",
              "      <td>Albert</td>\n",
              "      <td>Male</td>\n",
              "      <td>2012-05-15</td>\n",
              "      <td>2021-04-17 18:24:00</td>\n",
              "      <td>129949</td>\n",
              "      <td>10.169</td>\n",
              "      <td>True</td>\n",
              "      <td>Sales</td>\n",
              "      <td>True</td>\n",
              "    </tr>\n",
              "  </tbody>\n",
              "</table>\n",
              "<p>535 rows × 9 columns</p>\n",
              "</div>"
            ],
            "text/plain": [
              "    First Name  Gender Start Date  ... Senior Management             Team   mask\n",
              "0      Douglas    Male 1993-08-06  ...              True        Marketing   True\n",
              "1       Thomas    Male 1996-03-31  ...              True              NaN   True\n",
              "3        Jerry    Male 2005-03-04  ...              True          Finance   True\n",
              "4        Larry    Male 1998-01-24  ...              True  Client Services   True\n",
              "6         Ruby  Female 1987-08-17  ...              True          Product  False\n",
              "..         ...     ...        ...  ...               ...              ...    ...\n",
              "991       Rose  Female 2002-08-25  ...              True        Marketing  False\n",
              "992    Anthony    Male 2011-10-16  ...              True          Finance   True\n",
              "993       Tina  Female 1997-05-15  ...              True      Engineering  False\n",
              "994     George    Male 2013-06-21  ...              True        Marketing   True\n",
              "999     Albert    Male 2012-05-15  ...              True            Sales   True\n",
              "\n",
              "[535 rows x 9 columns]"
            ]
          },
          "metadata": {
            "tags": []
          },
          "execution_count": 46
        }
      ]
    },
    {
      "cell_type": "code",
      "metadata": {
        "id": "DFXUZldQvj3E"
      },
      "source": [
        "mask= df['Team'] != 'Marketing'\n",
        "df[mask]\n",
        "# df[df['Team'] != 'Marketing'] #condition for not equal to."
      ],
      "execution_count": null,
      "outputs": []
    },
    {
      "cell_type": "code",
      "metadata": {
        "id": "PTAtYIUmvj3E"
      },
      "source": [
        "df[df['Salary']>110000]"
      ],
      "execution_count": null,
      "outputs": []
    },
    {
      "cell_type": "markdown",
      "metadata": {
        "id": "_hyjs757vj3E"
      },
      "source": [
        "# Filter Data Frame with AND & OR Operators"
      ]
    },
    {
      "cell_type": "code",
      "metadata": {
        "id": "PYTnTidEvj3F"
      },
      "source": [
        "import pandas as pd\n",
        "df=pd.read_csv('employees.csv', parse_dates=['Start Date', 'Last Login Time'])\n",
        "df['Gender']=df['Gender'].astype('category')\n",
        "df['Senior Management']=df['Senior Management'].astype('bool')\n",
        "df.head()"
      ],
      "execution_count": null,
      "outputs": []
    },
    {
      "cell_type": "code",
      "metadata": {
        "id": "pgsFXYU9vj3G"
      },
      "source": [
        "mask1=df['Gender']=='Male'\n",
        "mask2=df['Team']=='Marketing'\n",
        "\n",
        "df[mask1 & mask2]\n",
        "\n",
        "df[mask1 & mask2].head()"
      ],
      "execution_count": null,
      "outputs": []
    },
    {
      "cell_type": "code",
      "metadata": {
        "id": "RPw7srLBvj3G"
      },
      "source": [
        "mask3=df['Senior Management']\n",
        "mask4=df['Start Date']< '1990-01-01'\n",
        "\n",
        "df[mask3 | mask4]"
      ],
      "execution_count": null,
      "outputs": []
    },
    {
      "cell_type": "code",
      "metadata": {
        "id": "H4-VQ1-Avj3H"
      },
      "source": [
        "mask5=df['First Name']=='Robert'\n",
        "mask6=df['Team']=='Client Services'\n",
        "mask7=df['Start Date']>'2016-06-01'\n",
        "\n",
        "df[(mask5 & mask6) | mask7]"
      ],
      "execution_count": null,
      "outputs": []
    },
    {
      "cell_type": "markdown",
      "metadata": {
        "id": "nvburtggvj3H"
      },
      "source": [
        "# isin() method in pandas"
      ]
    },
    {
      "cell_type": "code",
      "metadata": {
        "id": "EUi5PmH3vj3I"
      },
      "source": [
        "import pandas as pd\n",
        "df=pd.read_csv('employees.csv', parse_dates=['Start Date', 'Last Login Time'])\n",
        "df['Gender']=df['Gender'].astype('category')\n",
        "df['Senior Management']=df['Senior Management'].astype('bool')\n",
        "df.head()"
      ],
      "execution_count": null,
      "outputs": []
    },
    {
      "cell_type": "code",
      "metadata": {
        "id": "AzVP_0kdvj3J"
      },
      "source": [
        "mask1=df['Team']=='Legal'\n",
        "mask2=df['Team']=='Sales'\n",
        "mask3=df['Team']=='Product'\n",
        "\n",
        "df[mask1 | mask2 | mask3].head()"
      ],
      "execution_count": null,
      "outputs": []
    },
    {
      "cell_type": "code",
      "metadata": {
        "id": "XfKg4DIhvj3J"
      },
      "source": [
        "#As in above case it is claer that it requires same code for many times so it can be deal with the help of isin() method as in this case we are able to pass multiple arguments\n",
        "\n",
        "df['Team'].isin(['Legal', 'Sales', 'Product'])"
      ],
      "execution_count": null,
      "outputs": []
    },
    {
      "cell_type": "code",
      "metadata": {
        "id": "JhG2mhz5vj3J"
      },
      "source": [
        "mask=df['Team'].isin(['Legal', 'Sales', 'Product'])\n",
        "df[mask] #It is claer that we does not required multiple lines of asme type"
      ],
      "execution_count": null,
      "outputs": []
    },
    {
      "cell_type": "markdown",
      "metadata": {
        "id": "uXrMxdTJvj3K"
      },
      "source": [
        "# isnull(), notnull() ,between() and duplicate() method in panda"
      ]
    },
    {
      "cell_type": "code",
      "metadata": {
        "id": "ky4SkBtivj3K"
      },
      "source": [
        "import pandas as pd\n",
        "df=pd.read_csv('employees.csv', parse_dates=['Start Date', 'Last Login Time'])\n",
        "df['Gender']=df['Gender'].astype('category')\n",
        "df['Senior Management']=df['Senior Management'].astype('bool')\n",
        "df.head()"
      ],
      "execution_count": null,
      "outputs": []
    },
    {
      "cell_type": "code",
      "metadata": {
        "id": "iLiLM00-vj3L"
      },
      "source": [
        "#isnull() if you want to extract null values\n",
        "mask=df['Team'].isnull()\n",
        "df[mask]"
      ],
      "execution_count": null,
      "outputs": []
    },
    {
      "cell_type": "code",
      "metadata": {
        "id": "89cziVqRvj3L"
      },
      "source": [
        "mask1=df['Team'].isnull()\n",
        "mask2=df['Gender'].isnull()\n",
        "\n",
        "\n",
        "df [ mask1 & mask2]\n",
        "# df[df['Team'].notnull()]"
      ],
      "execution_count": null,
      "outputs": []
    },
    {
      "cell_type": "code",
      "metadata": {
        "id": "g4zvoA0dvj3L"
      },
      "source": [
        "#between()\n",
        "# df['Salary'].between(60000, 70000)\n",
        "df[df['Salary'].between(60000, 70000)]"
      ],
      "execution_count": null,
      "outputs": []
    },
    {
      "cell_type": "code",
      "metadata": {
        "id": "_UOfEMAivj3M"
      },
      "source": [
        "df['Bonus %'].between(2.0, 5.0)\n",
        "df[df['Bonus %'].between(2.0, 5.0)]"
      ],
      "execution_count": null,
      "outputs": []
    },
    {
      "cell_type": "code",
      "metadata": {
        "id": "UCxUlC4dvj3M"
      },
      "source": [
        "df['Start Date'].between(\"1991-01-01\", \"1992-01-01\")\n",
        "df[df['Start Date'].between(\"1991-01-01\", \"1992-01-01\")]"
      ],
      "execution_count": null,
      "outputs": []
    },
    {
      "cell_type": "code",
      "metadata": {
        "id": "QKlAKCLvvj3N"
      },
      "source": [
        "#duplicate() method\n",
        "df.sort_values('First Name', inplace=True)\n",
        "# df['First Name']=df.sort_values('First Name')\n",
        "df['First Name']"
      ],
      "execution_count": null,
      "outputs": []
    },
    {
      "cell_type": "code",
      "metadata": {
        "id": "eJBX3qIjvj3N"
      },
      "source": [
        "df['First Name'].duplicated(keep='last') #it says that first value is not duplicate as in parameter it has keep=first you may change it to last also"
      ],
      "execution_count": null,
      "outputs": []
    },
    {
      "cell_type": "code",
      "metadata": {
        "id": "X1UA--6ovj3O"
      },
      "source": [
        " df[df['First Name'].duplicated(keep=False)].head()"
      ],
      "execution_count": null,
      "outputs": []
    },
    {
      "cell_type": "code",
      "metadata": {
        "id": "D_tOcgvnvj3O"
      },
      "source": [
        "mask = ~ df[df['First Name'].duplicated(keep=False)].head() #reverse operation of duplicate so ir gives unique value from data sets"
      ],
      "execution_count": null,
      "outputs": []
    },
    {
      "cell_type": "code",
      "metadata": {
        "id": "ZexqBta6vj3P"
      },
      "source": [
        "#drop duplicate method\\\n",
        "len(df)"
      ],
      "execution_count": null,
      "outputs": []
    },
    {
      "cell_type": "code",
      "metadata": {
        "id": "80SPNLyMvj3P"
      },
      "source": [
        "len(df.drop_duplicates())"
      ],
      "execution_count": null,
      "outputs": []
    },
    {
      "cell_type": "code",
      "metadata": {
        "id": "ACPBpeu8vj3P"
      },
      "source": [
        "df.drop_duplicates(subset=['First Name'], keep='first')\n",
        "len( df.drop_duplicates(subset=['First Name'], keep='first'))"
      ],
      "execution_count": null,
      "outputs": []
    },
    {
      "cell_type": "code",
      "metadata": {
        "id": "8rjRQxeivj3Q"
      },
      "source": [
        "df.drop_duplicates(subset=['First Name', 'Team'], keep='last').head()"
      ],
      "execution_count": null,
      "outputs": []
    },
    {
      "cell_type": "markdown",
      "metadata": {
        "id": "ru5MkXndvj3R"
      },
      "source": [
        "# Retrieve row values using loc() method in pandas"
      ]
    },
    {
      "cell_type": "code",
      "metadata": {
        "id": "5vlwmGXYvj3R"
      },
      "source": [
        "import pandas as pd\n",
        "bond=pd.read_csv('jamesbond.csv', index_col='Film')\n",
        "bond.sort_index(inplace=True)\n",
        "bond.head()"
      ],
      "execution_count": null,
      "outputs": []
    },
    {
      "cell_type": "code",
      "metadata": {
        "id": "Zzdl-jV6vj3R"
      },
      "source": [
        "bond.loc['Casino Royale']"
      ],
      "execution_count": null,
      "outputs": []
    },
    {
      "cell_type": "code",
      "metadata": {
        "id": "9-kebqprvj3S"
      },
      "source": [
        "bond.loc['GoldenEye']"
      ],
      "execution_count": null,
      "outputs": []
    },
    {
      "cell_type": "code",
      "metadata": {
        "id": "nVC-6V_Nvj3S"
      },
      "source": [
        "bond.loc['Casino Royale']"
      ],
      "execution_count": null,
      "outputs": []
    },
    {
      "cell_type": "code",
      "metadata": {
        "id": "aFGvEYigvj3T"
      },
      "source": [
        "bond.loc['Diamonds are Forever': 'Moonracker']\n",
        "bond.loc['GoldenEye':]\n",
        "bond.loc[: \"On Her Majesty's Secret Services\"]"
      ],
      "execution_count": null,
      "outputs": []
    },
    {
      "cell_type": "code",
      "metadata": {
        "id": "42JJLHEzvj3T"
      },
      "source": [
        "bond.loc[[\"For Your Eyes Only\", \"Live and Let Die\"]]"
      ],
      "execution_count": null,
      "outputs": []
    },
    {
      "cell_type": "markdown",
      "metadata": {
        "id": "viZVp6MDvj3T"
      },
      "source": [
        "#  Retrieve row values using iloc() method in pandas"
      ]
    },
    {
      "cell_type": "code",
      "metadata": {
        "id": "PsJnw1avvj3U"
      },
      "source": [
        "import pandas as pd\n",
        "bond=pd.read_csv('jamesbond.csv')\n",
        "bond.head()"
      ],
      "execution_count": null,
      "outputs": []
    },
    {
      "cell_type": "code",
      "metadata": {
        "id": "MjDsOzgOvj3U"
      },
      "source": [
        "# bond.loc[15]\n",
        "bond.iloc[15]"
      ],
      "execution_count": null,
      "outputs": []
    },
    {
      "cell_type": "code",
      "metadata": {
        "id": "ettKQT3Avj3V"
      },
      "source": [
        "bond.iloc[[15,20]]\n",
        "bond.iloc[:4]\n",
        "bond.iloc[4:8]\n",
        "bond.iloc[0:20:2]"
      ],
      "execution_count": null,
      "outputs": []
    },
    {
      "cell_type": "markdown",
      "metadata": {
        "id": "RyL2_ea8vj3V"
      },
      "source": [
        "# Retrive row values using ix() methods in pandas"
      ]
    },
    {
      "cell_type": "code",
      "metadata": {
        "id": "OrPdA6jRvj3W"
      },
      "source": [
        "# In case of ix it has both the capability of loc and iloc\n",
        "import pandas as pd\n",
        "bond=pd.read_csv('jamesbond.csv', index_col='Film')\n",
        "bond.sort_index(inplace=True)\n",
        "bond.head()"
      ],
      "execution_count": null,
      "outputs": []
    },
    {
      "cell_type": "code",
      "metadata": {
        "id": "4SXsoZR9vj3W"
      },
      "source": [
        "bond.loc['GoldenEye']\n",
        "bond.ix['GoldenEye']"
      ],
      "execution_count": null,
      "outputs": []
    },
    {
      "cell_type": "code",
      "metadata": {
        "id": "BBkVR6Zlvj3X"
      },
      "source": [
        "bond.ix[[ 'Moonraker', 'Spectre']]"
      ],
      "execution_count": null,
      "outputs": []
    },
    {
      "cell_type": "code",
      "metadata": {
        "id": "QJDzMqGxvj3X"
      },
      "source": [
        "'Spectre' in bond.index\n",
        "'Sacred Bond' in bond.index\n",
        "bond.index\n",
        "bond.values"
      ],
      "execution_count": null,
      "outputs": []
    },
    {
      "cell_type": "code",
      "metadata": {
        "id": "6k97Jw6nvj3Y"
      },
      "source": [
        "bond.ix[0] #It shows that ix will be taken data as loc and iloc both"
      ],
      "execution_count": null,
      "outputs": []
    },
    {
      "cell_type": "markdown",
      "metadata": {
        "id": "_caQRlx6vj3Y"
      },
      "source": [
        "# Second argument of iloc, loc and ix methods"
      ]
    },
    {
      "cell_type": "code",
      "metadata": {
        "id": "ojnuglsSvj3Y"
      },
      "source": [
        "import pandas as pd\n",
        "bond=pd.read_csv('jamesbond.csv', index_col='Film')\n",
        "bond.sort_index(inplace=True)\n",
        "bond.head()"
      ],
      "execution_count": null,
      "outputs": []
    },
    {
      "cell_type": "code",
      "metadata": {
        "id": "OO2y_imuvj3n"
      },
      "source": [
        "bond.loc['Moonraker', 'Actor']\n",
        "# bond.loc['Moonraker', 'Director']\n",
        "# bond.loc['Moonraker', 'Actor':'Budget']\n",
        "bond.loc['Moonraker', ['Year', 'Director', 'Budget']]\n",
        "# #Similarly we can use it with iloc and ix"
      ],
      "execution_count": null,
      "outputs": []
    },
    {
      "cell_type": "markdown",
      "metadata": {
        "id": "e3RE1JfVvj3n"
      },
      "source": [
        "# Set new values or a specific cell or Row in pandas"
      ]
    },
    {
      "cell_type": "code",
      "metadata": {
        "id": "kejT7AeDvj3o"
      },
      "source": [
        "import pandas as pd\n",
        "bond=pd.read_csv('jamesbond.csv', index_col='Film')\n",
        "bond.sort_index(inplace=True)\n",
        "bond.head()\n"
      ],
      "execution_count": null,
      "outputs": []
    },
    {
      "cell_type": "code",
      "metadata": {
        "id": "2pzN7yLRvj3o"
      },
      "source": [
        "bond.ix['Dr. No']"
      ],
      "execution_count": null,
      "outputs": []
    },
    {
      "cell_type": "code",
      "metadata": {
        "id": "U32Bes4uvj3o"
      },
      "source": [
        "#For eg i want to change the name of the actor\n",
        "bond.ix['Dr. No', 'Actor']='Sir Sean Connery'\n",
        "bond.ix['Dr. No', 'Actor']"
      ],
      "execution_count": null,
      "outputs": []
    },
    {
      "cell_type": "code",
      "metadata": {
        "id": "F1gyZFgcvj3p"
      },
      "source": [
        "bond.ix['Dr. No', ['Box Office', 'Budget', 'Bond Actor Salary']]=[470, 9, 6]"
      ],
      "execution_count": null,
      "outputs": []
    },
    {
      "cell_type": "code",
      "metadata": {
        "id": "NchlBUvkvj3p"
      },
      "source": [
        "bond.ix['Dr. No']"
      ],
      "execution_count": null,
      "outputs": []
    },
    {
      "cell_type": "markdown",
      "metadata": {
        "id": "rbmVsSD6vj3p"
      },
      "source": [
        "# Set Multiple values in DataFrames in pandas"
      ]
    },
    {
      "cell_type": "code",
      "metadata": {
        "id": "rk8nqN46vj3p"
      },
      "source": [
        "import pandas as pd\n",
        "bond=pd.read_csv('jamesbond.csv', index_col='Film')\n",
        "bond.sort_index(inplace=True)\n",
        "bond.head()"
      ],
      "execution_count": null,
      "outputs": []
    },
    {
      "cell_type": "code",
      "metadata": {
        "id": "nX7xTNCyvj3q"
      },
      "source": [
        "mask=bond['Actor']=='Sean Connery'\n",
        "bond[mask]"
      ],
      "execution_count": null,
      "outputs": []
    },
    {
      "cell_type": "code",
      "metadata": {
        "id": "uwEFbg_4vj3q"
      },
      "source": [
        "bond[mask]['Actor']='Sir Sean Connery'"
      ],
      "execution_count": null,
      "outputs": []
    },
    {
      "cell_type": "code",
      "metadata": {
        "id": "KSk2NLojvj3q"
      },
      "source": [
        "df2=bond[mask]\n",
        "df2['Actor']='Sir Sean Connery'\n",
        "df2"
      ],
      "execution_count": null,
      "outputs": []
    },
    {
      "cell_type": "code",
      "metadata": {
        "id": "IIjP0cC3vj3r"
      },
      "source": [
        "bond"
      ],
      "execution_count": null,
      "outputs": []
    },
    {
      "cell_type": "code",
      "metadata": {
        "id": "vb1nHxPkvj3r"
      },
      "source": [
        "bond.ix[mask]\n",
        "bond.ix[mask,'Actor']='Sir Sean Connery'\n",
        "bond"
      ],
      "execution_count": null,
      "outputs": []
    },
    {
      "cell_type": "markdown",
      "metadata": {
        "id": "FS-0zjoQvj3r"
      },
      "source": [
        "# Rename Index Labels or Columns in pandas"
      ]
    },
    {
      "cell_type": "code",
      "metadata": {
        "id": "O95m9-zhvj3r"
      },
      "source": [
        "import pandas as pd\n",
        "bond=pd.read_csv('jamesbond.csv', index_col='Film')\n",
        "bond.sort_index(inplace=True)\n",
        "bond.head()"
      ],
      "execution_count": null,
      "outputs": []
    },
    {
      "cell_type": "code",
      "metadata": {
        "id": "VxKJC6atvj3s"
      },
      "source": [
        "bond.rename(columns={'Year':'Release date', 'Box Office' : 'Revenue'}, inplace=True)\n",
        "bond.head()"
      ],
      "execution_count": null,
      "outputs": []
    },
    {
      "cell_type": "code",
      "metadata": {
        "id": "YrqjeXe0vj3s"
      },
      "source": [
        "bond.rename(index={'Dr. No':'Doctor No', 'GoldenEye':'Golden Eye','The World Is Not Enough': 'Best Bond Movie'})"
      ],
      "execution_count": null,
      "outputs": []
    },
    {
      "cell_type": "markdown",
      "metadata": {
        "id": "KB6s_vhMvj3s"
      },
      "source": [
        "# Query Methods in Pandas"
      ]
    },
    {
      "cell_type": "code",
      "metadata": {
        "id": "MYdo-ew4vj3s"
      },
      "source": [
        "#Query methods only applys when all the column are strings and no space in between columns name\n",
        "\n",
        "import pandas as pd\n",
        "bond=pd.read_csv('jamesbond.csv', index_col='Film')\n",
        "bond.sort_index(inplace=True)\n",
        "bond.head()"
      ],
      "execution_count": null,
      "outputs": []
    },
    {
      "cell_type": "code",
      "metadata": {
        "id": "rRg_IV6Tvj3t"
      },
      "source": [
        "bond.columns=[column_names.replace(\" \",  \"_\") for column_names in bond.columns]\n",
        "bond.head()"
      ],
      "execution_count": null,
      "outputs": []
    },
    {
      "cell_type": "code",
      "metadata": {
        "id": "hOJHTXV5vj3t"
      },
      "source": [
        "bond.query('Actor==\"Sean Connery\"')"
      ],
      "execution_count": null,
      "outputs": []
    },
    {
      "cell_type": "code",
      "metadata": {
        "id": "zR-5uq_qvj3t"
      },
      "source": [
        "bond.query(\"Director=='Terence Young'\")"
      ],
      "execution_count": null,
      "outputs": []
    },
    {
      "cell_type": "code",
      "metadata": {
        "id": "_HM1JnUpvj3t"
      },
      "source": [
        "bond.query(\"Actor != 'Roger Moore'\")"
      ],
      "execution_count": null,
      "outputs": []
    },
    {
      "cell_type": "code",
      "metadata": {
        "id": "Mkq9uxYevj3u"
      },
      "source": [
        "bond.query(\"Box_Office>600\")"
      ],
      "execution_count": null,
      "outputs": []
    },
    {
      "cell_type": "code",
      "metadata": {
        "id": "0mpDbj3zvj3u"
      },
      "source": [
        "bond.query(\"Actor=='Roger Moore' and Director=='John Glen'\")"
      ],
      "execution_count": null,
      "outputs": []
    },
    {
      "cell_type": "code",
      "metadata": {
        "id": "QL3sV7z5vj3u"
      },
      "source": [
        ""
      ],
      "execution_count": null,
      "outputs": []
    }
  ]
}